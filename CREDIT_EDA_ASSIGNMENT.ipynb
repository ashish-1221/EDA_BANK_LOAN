{
 "cells": [
  {
   "cell_type": "code",
   "execution_count": 1,
   "id": "a8c89729",
   "metadata": {},
   "outputs": [],
   "source": [
    "import pandas as pd,numpy as np\n",
    "import seaborn as sns\n",
    "import matplotlib.pyplot as plt"
   ]
  },
  {
   "cell_type": "markdown",
   "id": "99d4baac",
   "metadata": {},
   "source": [
    "## Reading data sets\n"
   ]
  },
  {
   "cell_type": "code",
   "execution_count": 2,
   "id": "72a63bd8",
   "metadata": {},
   "outputs": [],
   "source": [
    "ap_data=pd.read_csv('application_data.csv')"
   ]
  },
  {
   "cell_type": "code",
   "execution_count": 3,
   "id": "3679dc3b",
   "metadata": {},
   "outputs": [
    {
     "data": {
      "text/html": [
       "<div>\n",
       "<style scoped>\n",
       "    .dataframe tbody tr th:only-of-type {\n",
       "        vertical-align: middle;\n",
       "    }\n",
       "\n",
       "    .dataframe tbody tr th {\n",
       "        vertical-align: top;\n",
       "    }\n",
       "\n",
       "    .dataframe thead th {\n",
       "        text-align: right;\n",
       "    }\n",
       "</style>\n",
       "<table border=\"1\" class=\"dataframe\">\n",
       "  <thead>\n",
       "    <tr style=\"text-align: right;\">\n",
       "      <th></th>\n",
       "      <th>SK_ID_CURR</th>\n",
       "      <th>TARGET</th>\n",
       "      <th>NAME_CONTRACT_TYPE</th>\n",
       "      <th>CODE_GENDER</th>\n",
       "      <th>FLAG_OWN_CAR</th>\n",
       "      <th>FLAG_OWN_REALTY</th>\n",
       "      <th>CNT_CHILDREN</th>\n",
       "      <th>AMT_INCOME_TOTAL</th>\n",
       "      <th>AMT_CREDIT</th>\n",
       "      <th>AMT_ANNUITY</th>\n",
       "      <th>...</th>\n",
       "      <th>FLAG_DOCUMENT_18</th>\n",
       "      <th>FLAG_DOCUMENT_19</th>\n",
       "      <th>FLAG_DOCUMENT_20</th>\n",
       "      <th>FLAG_DOCUMENT_21</th>\n",
       "      <th>AMT_REQ_CREDIT_BUREAU_HOUR</th>\n",
       "      <th>AMT_REQ_CREDIT_BUREAU_DAY</th>\n",
       "      <th>AMT_REQ_CREDIT_BUREAU_WEEK</th>\n",
       "      <th>AMT_REQ_CREDIT_BUREAU_MON</th>\n",
       "      <th>AMT_REQ_CREDIT_BUREAU_QRT</th>\n",
       "      <th>AMT_REQ_CREDIT_BUREAU_YEAR</th>\n",
       "    </tr>\n",
       "  </thead>\n",
       "  <tbody>\n",
       "    <tr>\n",
       "      <th>0</th>\n",
       "      <td>100002</td>\n",
       "      <td>1</td>\n",
       "      <td>Cash loans</td>\n",
       "      <td>M</td>\n",
       "      <td>N</td>\n",
       "      <td>Y</td>\n",
       "      <td>0</td>\n",
       "      <td>202500.0</td>\n",
       "      <td>406597.5</td>\n",
       "      <td>24700.5</td>\n",
       "      <td>...</td>\n",
       "      <td>0</td>\n",
       "      <td>0</td>\n",
       "      <td>0</td>\n",
       "      <td>0</td>\n",
       "      <td>0.0</td>\n",
       "      <td>0.0</td>\n",
       "      <td>0.0</td>\n",
       "      <td>0.0</td>\n",
       "      <td>0.0</td>\n",
       "      <td>1.0</td>\n",
       "    </tr>\n",
       "    <tr>\n",
       "      <th>1</th>\n",
       "      <td>100003</td>\n",
       "      <td>0</td>\n",
       "      <td>Cash loans</td>\n",
       "      <td>F</td>\n",
       "      <td>N</td>\n",
       "      <td>N</td>\n",
       "      <td>0</td>\n",
       "      <td>270000.0</td>\n",
       "      <td>1293502.5</td>\n",
       "      <td>35698.5</td>\n",
       "      <td>...</td>\n",
       "      <td>0</td>\n",
       "      <td>0</td>\n",
       "      <td>0</td>\n",
       "      <td>0</td>\n",
       "      <td>0.0</td>\n",
       "      <td>0.0</td>\n",
       "      <td>0.0</td>\n",
       "      <td>0.0</td>\n",
       "      <td>0.0</td>\n",
       "      <td>0.0</td>\n",
       "    </tr>\n",
       "    <tr>\n",
       "      <th>2</th>\n",
       "      <td>100004</td>\n",
       "      <td>0</td>\n",
       "      <td>Revolving loans</td>\n",
       "      <td>M</td>\n",
       "      <td>Y</td>\n",
       "      <td>Y</td>\n",
       "      <td>0</td>\n",
       "      <td>67500.0</td>\n",
       "      <td>135000.0</td>\n",
       "      <td>6750.0</td>\n",
       "      <td>...</td>\n",
       "      <td>0</td>\n",
       "      <td>0</td>\n",
       "      <td>0</td>\n",
       "      <td>0</td>\n",
       "      <td>0.0</td>\n",
       "      <td>0.0</td>\n",
       "      <td>0.0</td>\n",
       "      <td>0.0</td>\n",
       "      <td>0.0</td>\n",
       "      <td>0.0</td>\n",
       "    </tr>\n",
       "    <tr>\n",
       "      <th>3</th>\n",
       "      <td>100006</td>\n",
       "      <td>0</td>\n",
       "      <td>Cash loans</td>\n",
       "      <td>F</td>\n",
       "      <td>N</td>\n",
       "      <td>Y</td>\n",
       "      <td>0</td>\n",
       "      <td>135000.0</td>\n",
       "      <td>312682.5</td>\n",
       "      <td>29686.5</td>\n",
       "      <td>...</td>\n",
       "      <td>0</td>\n",
       "      <td>0</td>\n",
       "      <td>0</td>\n",
       "      <td>0</td>\n",
       "      <td>NaN</td>\n",
       "      <td>NaN</td>\n",
       "      <td>NaN</td>\n",
       "      <td>NaN</td>\n",
       "      <td>NaN</td>\n",
       "      <td>NaN</td>\n",
       "    </tr>\n",
       "    <tr>\n",
       "      <th>4</th>\n",
       "      <td>100007</td>\n",
       "      <td>0</td>\n",
       "      <td>Cash loans</td>\n",
       "      <td>M</td>\n",
       "      <td>N</td>\n",
       "      <td>Y</td>\n",
       "      <td>0</td>\n",
       "      <td>121500.0</td>\n",
       "      <td>513000.0</td>\n",
       "      <td>21865.5</td>\n",
       "      <td>...</td>\n",
       "      <td>0</td>\n",
       "      <td>0</td>\n",
       "      <td>0</td>\n",
       "      <td>0</td>\n",
       "      <td>0.0</td>\n",
       "      <td>0.0</td>\n",
       "      <td>0.0</td>\n",
       "      <td>0.0</td>\n",
       "      <td>0.0</td>\n",
       "      <td>0.0</td>\n",
       "    </tr>\n",
       "  </tbody>\n",
       "</table>\n",
       "<p>5 rows × 122 columns</p>\n",
       "</div>"
      ],
      "text/plain": [
       "   SK_ID_CURR  TARGET NAME_CONTRACT_TYPE CODE_GENDER FLAG_OWN_CAR  \\\n",
       "0      100002       1         Cash loans           M            N   \n",
       "1      100003       0         Cash loans           F            N   \n",
       "2      100004       0    Revolving loans           M            Y   \n",
       "3      100006       0         Cash loans           F            N   \n",
       "4      100007       0         Cash loans           M            N   \n",
       "\n",
       "  FLAG_OWN_REALTY  CNT_CHILDREN  AMT_INCOME_TOTAL  AMT_CREDIT  AMT_ANNUITY  \\\n",
       "0               Y             0          202500.0    406597.5      24700.5   \n",
       "1               N             0          270000.0   1293502.5      35698.5   \n",
       "2               Y             0           67500.0    135000.0       6750.0   \n",
       "3               Y             0          135000.0    312682.5      29686.5   \n",
       "4               Y             0          121500.0    513000.0      21865.5   \n",
       "\n",
       "   ...  FLAG_DOCUMENT_18 FLAG_DOCUMENT_19 FLAG_DOCUMENT_20 FLAG_DOCUMENT_21  \\\n",
       "0  ...                 0                0                0                0   \n",
       "1  ...                 0                0                0                0   \n",
       "2  ...                 0                0                0                0   \n",
       "3  ...                 0                0                0                0   \n",
       "4  ...                 0                0                0                0   \n",
       "\n",
       "  AMT_REQ_CREDIT_BUREAU_HOUR AMT_REQ_CREDIT_BUREAU_DAY  \\\n",
       "0                        0.0                       0.0   \n",
       "1                        0.0                       0.0   \n",
       "2                        0.0                       0.0   \n",
       "3                        NaN                       NaN   \n",
       "4                        0.0                       0.0   \n",
       "\n",
       "   AMT_REQ_CREDIT_BUREAU_WEEK  AMT_REQ_CREDIT_BUREAU_MON  \\\n",
       "0                         0.0                        0.0   \n",
       "1                         0.0                        0.0   \n",
       "2                         0.0                        0.0   \n",
       "3                         NaN                        NaN   \n",
       "4                         0.0                        0.0   \n",
       "\n",
       "   AMT_REQ_CREDIT_BUREAU_QRT  AMT_REQ_CREDIT_BUREAU_YEAR  \n",
       "0                        0.0                         1.0  \n",
       "1                        0.0                         0.0  \n",
       "2                        0.0                         0.0  \n",
       "3                        NaN                         NaN  \n",
       "4                        0.0                         0.0  \n",
       "\n",
       "[5 rows x 122 columns]"
      ]
     },
     "execution_count": 3,
     "metadata": {},
     "output_type": "execute_result"
    }
   ],
   "source": [
    "ap_data.head()"
   ]
  },
  {
   "cell_type": "code",
   "execution_count": 4,
   "id": "90dda0bc",
   "metadata": {},
   "outputs": [],
   "source": [
    "#checking the structure of the data\n"
   ]
  },
  {
   "cell_type": "code",
   "execution_count": 5,
   "id": "8d4869cc",
   "metadata": {},
   "outputs": [
    {
     "data": {
      "text/plain": [
       "(307511, 122)"
      ]
     },
     "execution_count": 5,
     "metadata": {},
     "output_type": "execute_result"
    }
   ],
   "source": [
    "ap_data.shape"
   ]
  },
  {
   "cell_type": "code",
   "execution_count": 6,
   "id": "040126b6",
   "metadata": {},
   "outputs": [
    {
     "name": "stdout",
     "output_type": "stream",
     "text": [
      "<class 'pandas.core.frame.DataFrame'>\n",
      "RangeIndex: 307511 entries, 0 to 307510\n",
      "Columns: 122 entries, SK_ID_CURR to AMT_REQ_CREDIT_BUREAU_YEAR\n",
      "dtypes: float64(65), int64(41), object(16)\n",
      "memory usage: 286.2+ MB\n"
     ]
    }
   ],
   "source": [
    "ap_data.info()"
   ]
  },
  {
   "cell_type": "code",
   "execution_count": 7,
   "id": "3d435abc",
   "metadata": {},
   "outputs": [
    {
     "data": {
      "text/plain": [
       "SK_ID_CURR                      int64\n",
       "TARGET                          int64\n",
       "NAME_CONTRACT_TYPE             object\n",
       "CODE_GENDER                    object\n",
       "FLAG_OWN_CAR                   object\n",
       "                               ...   \n",
       "AMT_REQ_CREDIT_BUREAU_DAY     float64\n",
       "AMT_REQ_CREDIT_BUREAU_WEEK    float64\n",
       "AMT_REQ_CREDIT_BUREAU_MON     float64\n",
       "AMT_REQ_CREDIT_BUREAU_QRT     float64\n",
       "AMT_REQ_CREDIT_BUREAU_YEAR    float64\n",
       "Length: 122, dtype: object"
      ]
     },
     "execution_count": 7,
     "metadata": {},
     "output_type": "execute_result"
    }
   ],
   "source": [
    "ap_data.dtypes"
   ]
  },
  {
   "cell_type": "code",
   "execution_count": 8,
   "id": "e1a6d60a",
   "metadata": {},
   "outputs": [
    {
     "data": {
      "text/html": [
       "<div>\n",
       "<style scoped>\n",
       "    .dataframe tbody tr th:only-of-type {\n",
       "        vertical-align: middle;\n",
       "    }\n",
       "\n",
       "    .dataframe tbody tr th {\n",
       "        vertical-align: top;\n",
       "    }\n",
       "\n",
       "    .dataframe thead th {\n",
       "        text-align: right;\n",
       "    }\n",
       "</style>\n",
       "<table border=\"1\" class=\"dataframe\">\n",
       "  <thead>\n",
       "    <tr style=\"text-align: right;\">\n",
       "      <th></th>\n",
       "      <th>SK_ID_CURR</th>\n",
       "      <th>TARGET</th>\n",
       "      <th>CNT_CHILDREN</th>\n",
       "      <th>AMT_INCOME_TOTAL</th>\n",
       "      <th>AMT_CREDIT</th>\n",
       "      <th>AMT_ANNUITY</th>\n",
       "      <th>AMT_GOODS_PRICE</th>\n",
       "      <th>REGION_POPULATION_RELATIVE</th>\n",
       "      <th>DAYS_BIRTH</th>\n",
       "      <th>DAYS_EMPLOYED</th>\n",
       "      <th>...</th>\n",
       "      <th>FLAG_DOCUMENT_18</th>\n",
       "      <th>FLAG_DOCUMENT_19</th>\n",
       "      <th>FLAG_DOCUMENT_20</th>\n",
       "      <th>FLAG_DOCUMENT_21</th>\n",
       "      <th>AMT_REQ_CREDIT_BUREAU_HOUR</th>\n",
       "      <th>AMT_REQ_CREDIT_BUREAU_DAY</th>\n",
       "      <th>AMT_REQ_CREDIT_BUREAU_WEEK</th>\n",
       "      <th>AMT_REQ_CREDIT_BUREAU_MON</th>\n",
       "      <th>AMT_REQ_CREDIT_BUREAU_QRT</th>\n",
       "      <th>AMT_REQ_CREDIT_BUREAU_YEAR</th>\n",
       "    </tr>\n",
       "  </thead>\n",
       "  <tbody>\n",
       "    <tr>\n",
       "      <th>count</th>\n",
       "      <td>307511.000000</td>\n",
       "      <td>307511.000000</td>\n",
       "      <td>307511.000000</td>\n",
       "      <td>3.075110e+05</td>\n",
       "      <td>3.075110e+05</td>\n",
       "      <td>307499.000000</td>\n",
       "      <td>3.072330e+05</td>\n",
       "      <td>307511.000000</td>\n",
       "      <td>307511.000000</td>\n",
       "      <td>307511.000000</td>\n",
       "      <td>...</td>\n",
       "      <td>307511.000000</td>\n",
       "      <td>307511.000000</td>\n",
       "      <td>307511.000000</td>\n",
       "      <td>307511.000000</td>\n",
       "      <td>265992.000000</td>\n",
       "      <td>265992.000000</td>\n",
       "      <td>265992.000000</td>\n",
       "      <td>265992.000000</td>\n",
       "      <td>265992.000000</td>\n",
       "      <td>265992.000000</td>\n",
       "    </tr>\n",
       "    <tr>\n",
       "      <th>mean</th>\n",
       "      <td>278180.518577</td>\n",
       "      <td>0.080729</td>\n",
       "      <td>0.417052</td>\n",
       "      <td>1.687979e+05</td>\n",
       "      <td>5.990260e+05</td>\n",
       "      <td>27108.573909</td>\n",
       "      <td>5.383962e+05</td>\n",
       "      <td>0.020868</td>\n",
       "      <td>-16036.995067</td>\n",
       "      <td>63815.045904</td>\n",
       "      <td>...</td>\n",
       "      <td>0.008130</td>\n",
       "      <td>0.000595</td>\n",
       "      <td>0.000507</td>\n",
       "      <td>0.000335</td>\n",
       "      <td>0.006402</td>\n",
       "      <td>0.007000</td>\n",
       "      <td>0.034362</td>\n",
       "      <td>0.267395</td>\n",
       "      <td>0.265474</td>\n",
       "      <td>1.899974</td>\n",
       "    </tr>\n",
       "    <tr>\n",
       "      <th>std</th>\n",
       "      <td>102790.175348</td>\n",
       "      <td>0.272419</td>\n",
       "      <td>0.722121</td>\n",
       "      <td>2.371231e+05</td>\n",
       "      <td>4.024908e+05</td>\n",
       "      <td>14493.737315</td>\n",
       "      <td>3.694465e+05</td>\n",
       "      <td>0.013831</td>\n",
       "      <td>4363.988632</td>\n",
       "      <td>141275.766519</td>\n",
       "      <td>...</td>\n",
       "      <td>0.089798</td>\n",
       "      <td>0.024387</td>\n",
       "      <td>0.022518</td>\n",
       "      <td>0.018299</td>\n",
       "      <td>0.083849</td>\n",
       "      <td>0.110757</td>\n",
       "      <td>0.204685</td>\n",
       "      <td>0.916002</td>\n",
       "      <td>0.794056</td>\n",
       "      <td>1.869295</td>\n",
       "    </tr>\n",
       "    <tr>\n",
       "      <th>min</th>\n",
       "      <td>100002.000000</td>\n",
       "      <td>0.000000</td>\n",
       "      <td>0.000000</td>\n",
       "      <td>2.565000e+04</td>\n",
       "      <td>4.500000e+04</td>\n",
       "      <td>1615.500000</td>\n",
       "      <td>4.050000e+04</td>\n",
       "      <td>0.000290</td>\n",
       "      <td>-25229.000000</td>\n",
       "      <td>-17912.000000</td>\n",
       "      <td>...</td>\n",
       "      <td>0.000000</td>\n",
       "      <td>0.000000</td>\n",
       "      <td>0.000000</td>\n",
       "      <td>0.000000</td>\n",
       "      <td>0.000000</td>\n",
       "      <td>0.000000</td>\n",
       "      <td>0.000000</td>\n",
       "      <td>0.000000</td>\n",
       "      <td>0.000000</td>\n",
       "      <td>0.000000</td>\n",
       "    </tr>\n",
       "    <tr>\n",
       "      <th>25%</th>\n",
       "      <td>189145.500000</td>\n",
       "      <td>0.000000</td>\n",
       "      <td>0.000000</td>\n",
       "      <td>1.125000e+05</td>\n",
       "      <td>2.700000e+05</td>\n",
       "      <td>16524.000000</td>\n",
       "      <td>2.385000e+05</td>\n",
       "      <td>0.010006</td>\n",
       "      <td>-19682.000000</td>\n",
       "      <td>-2760.000000</td>\n",
       "      <td>...</td>\n",
       "      <td>0.000000</td>\n",
       "      <td>0.000000</td>\n",
       "      <td>0.000000</td>\n",
       "      <td>0.000000</td>\n",
       "      <td>0.000000</td>\n",
       "      <td>0.000000</td>\n",
       "      <td>0.000000</td>\n",
       "      <td>0.000000</td>\n",
       "      <td>0.000000</td>\n",
       "      <td>0.000000</td>\n",
       "    </tr>\n",
       "    <tr>\n",
       "      <th>50%</th>\n",
       "      <td>278202.000000</td>\n",
       "      <td>0.000000</td>\n",
       "      <td>0.000000</td>\n",
       "      <td>1.471500e+05</td>\n",
       "      <td>5.135310e+05</td>\n",
       "      <td>24903.000000</td>\n",
       "      <td>4.500000e+05</td>\n",
       "      <td>0.018850</td>\n",
       "      <td>-15750.000000</td>\n",
       "      <td>-1213.000000</td>\n",
       "      <td>...</td>\n",
       "      <td>0.000000</td>\n",
       "      <td>0.000000</td>\n",
       "      <td>0.000000</td>\n",
       "      <td>0.000000</td>\n",
       "      <td>0.000000</td>\n",
       "      <td>0.000000</td>\n",
       "      <td>0.000000</td>\n",
       "      <td>0.000000</td>\n",
       "      <td>0.000000</td>\n",
       "      <td>1.000000</td>\n",
       "    </tr>\n",
       "    <tr>\n",
       "      <th>75%</th>\n",
       "      <td>367142.500000</td>\n",
       "      <td>0.000000</td>\n",
       "      <td>1.000000</td>\n",
       "      <td>2.025000e+05</td>\n",
       "      <td>8.086500e+05</td>\n",
       "      <td>34596.000000</td>\n",
       "      <td>6.795000e+05</td>\n",
       "      <td>0.028663</td>\n",
       "      <td>-12413.000000</td>\n",
       "      <td>-289.000000</td>\n",
       "      <td>...</td>\n",
       "      <td>0.000000</td>\n",
       "      <td>0.000000</td>\n",
       "      <td>0.000000</td>\n",
       "      <td>0.000000</td>\n",
       "      <td>0.000000</td>\n",
       "      <td>0.000000</td>\n",
       "      <td>0.000000</td>\n",
       "      <td>0.000000</td>\n",
       "      <td>0.000000</td>\n",
       "      <td>3.000000</td>\n",
       "    </tr>\n",
       "    <tr>\n",
       "      <th>max</th>\n",
       "      <td>456255.000000</td>\n",
       "      <td>1.000000</td>\n",
       "      <td>19.000000</td>\n",
       "      <td>1.170000e+08</td>\n",
       "      <td>4.050000e+06</td>\n",
       "      <td>258025.500000</td>\n",
       "      <td>4.050000e+06</td>\n",
       "      <td>0.072508</td>\n",
       "      <td>-7489.000000</td>\n",
       "      <td>365243.000000</td>\n",
       "      <td>...</td>\n",
       "      <td>1.000000</td>\n",
       "      <td>1.000000</td>\n",
       "      <td>1.000000</td>\n",
       "      <td>1.000000</td>\n",
       "      <td>4.000000</td>\n",
       "      <td>9.000000</td>\n",
       "      <td>8.000000</td>\n",
       "      <td>27.000000</td>\n",
       "      <td>261.000000</td>\n",
       "      <td>25.000000</td>\n",
       "    </tr>\n",
       "  </tbody>\n",
       "</table>\n",
       "<p>8 rows × 106 columns</p>\n",
       "</div>"
      ],
      "text/plain": [
       "          SK_ID_CURR         TARGET   CNT_CHILDREN  AMT_INCOME_TOTAL  \\\n",
       "count  307511.000000  307511.000000  307511.000000      3.075110e+05   \n",
       "mean   278180.518577       0.080729       0.417052      1.687979e+05   \n",
       "std    102790.175348       0.272419       0.722121      2.371231e+05   \n",
       "min    100002.000000       0.000000       0.000000      2.565000e+04   \n",
       "25%    189145.500000       0.000000       0.000000      1.125000e+05   \n",
       "50%    278202.000000       0.000000       0.000000      1.471500e+05   \n",
       "75%    367142.500000       0.000000       1.000000      2.025000e+05   \n",
       "max    456255.000000       1.000000      19.000000      1.170000e+08   \n",
       "\n",
       "         AMT_CREDIT    AMT_ANNUITY  AMT_GOODS_PRICE  \\\n",
       "count  3.075110e+05  307499.000000     3.072330e+05   \n",
       "mean   5.990260e+05   27108.573909     5.383962e+05   \n",
       "std    4.024908e+05   14493.737315     3.694465e+05   \n",
       "min    4.500000e+04    1615.500000     4.050000e+04   \n",
       "25%    2.700000e+05   16524.000000     2.385000e+05   \n",
       "50%    5.135310e+05   24903.000000     4.500000e+05   \n",
       "75%    8.086500e+05   34596.000000     6.795000e+05   \n",
       "max    4.050000e+06  258025.500000     4.050000e+06   \n",
       "\n",
       "       REGION_POPULATION_RELATIVE     DAYS_BIRTH  DAYS_EMPLOYED  ...  \\\n",
       "count               307511.000000  307511.000000  307511.000000  ...   \n",
       "mean                     0.020868  -16036.995067   63815.045904  ...   \n",
       "std                      0.013831    4363.988632  141275.766519  ...   \n",
       "min                      0.000290  -25229.000000  -17912.000000  ...   \n",
       "25%                      0.010006  -19682.000000   -2760.000000  ...   \n",
       "50%                      0.018850  -15750.000000   -1213.000000  ...   \n",
       "75%                      0.028663  -12413.000000    -289.000000  ...   \n",
       "max                      0.072508   -7489.000000  365243.000000  ...   \n",
       "\n",
       "       FLAG_DOCUMENT_18  FLAG_DOCUMENT_19  FLAG_DOCUMENT_20  FLAG_DOCUMENT_21  \\\n",
       "count     307511.000000     307511.000000     307511.000000     307511.000000   \n",
       "mean           0.008130          0.000595          0.000507          0.000335   \n",
       "std            0.089798          0.024387          0.022518          0.018299   \n",
       "min            0.000000          0.000000          0.000000          0.000000   \n",
       "25%            0.000000          0.000000          0.000000          0.000000   \n",
       "50%            0.000000          0.000000          0.000000          0.000000   \n",
       "75%            0.000000          0.000000          0.000000          0.000000   \n",
       "max            1.000000          1.000000          1.000000          1.000000   \n",
       "\n",
       "       AMT_REQ_CREDIT_BUREAU_HOUR  AMT_REQ_CREDIT_BUREAU_DAY  \\\n",
       "count               265992.000000              265992.000000   \n",
       "mean                     0.006402                   0.007000   \n",
       "std                      0.083849                   0.110757   \n",
       "min                      0.000000                   0.000000   \n",
       "25%                      0.000000                   0.000000   \n",
       "50%                      0.000000                   0.000000   \n",
       "75%                      0.000000                   0.000000   \n",
       "max                      4.000000                   9.000000   \n",
       "\n",
       "       AMT_REQ_CREDIT_BUREAU_WEEK  AMT_REQ_CREDIT_BUREAU_MON  \\\n",
       "count               265992.000000              265992.000000   \n",
       "mean                     0.034362                   0.267395   \n",
       "std                      0.204685                   0.916002   \n",
       "min                      0.000000                   0.000000   \n",
       "25%                      0.000000                   0.000000   \n",
       "50%                      0.000000                   0.000000   \n",
       "75%                      0.000000                   0.000000   \n",
       "max                      8.000000                  27.000000   \n",
       "\n",
       "       AMT_REQ_CREDIT_BUREAU_QRT  AMT_REQ_CREDIT_BUREAU_YEAR  \n",
       "count              265992.000000               265992.000000  \n",
       "mean                    0.265474                    1.899974  \n",
       "std                     0.794056                    1.869295  \n",
       "min                     0.000000                    0.000000  \n",
       "25%                     0.000000                    0.000000  \n",
       "50%                     0.000000                    1.000000  \n",
       "75%                     0.000000                    3.000000  \n",
       "max                   261.000000                   25.000000  \n",
       "\n",
       "[8 rows x 106 columns]"
      ]
     },
     "execution_count": 8,
     "metadata": {},
     "output_type": "execute_result"
    }
   ],
   "source": [
    "ap_data.describe()"
   ]
  },
  {
   "cell_type": "markdown",
   "id": "fe17d39e",
   "metadata": {},
   "source": [
    "### ANALYSIS\n",
    "- the number of rows is 305711\n",
    "- the number of columns is 122\n",
    "- dtypes: float64(65), int64(41), object(16)"
   ]
  },
  {
   "cell_type": "code",
   "execution_count": 59,
   "id": "473f80ad",
   "metadata": {},
   "outputs": [
    {
     "data": {
      "text/html": [
       "<div>\n",
       "<style scoped>\n",
       "    .dataframe tbody tr th:only-of-type {\n",
       "        vertical-align: middle;\n",
       "    }\n",
       "\n",
       "    .dataframe tbody tr th {\n",
       "        vertical-align: top;\n",
       "    }\n",
       "\n",
       "    .dataframe thead th {\n",
       "        text-align: right;\n",
       "    }\n",
       "</style>\n",
       "<table border=\"1\" class=\"dataframe\">\n",
       "  <thead>\n",
       "    <tr style=\"text-align: right;\">\n",
       "      <th></th>\n",
       "      <th>SK_ID_CURR</th>\n",
       "      <th>TARGET</th>\n",
       "      <th>CNT_CHILDREN</th>\n",
       "      <th>AMT_INCOME_TOTAL</th>\n",
       "      <th>AMT_CREDIT</th>\n",
       "      <th>AMT_ANNUITY</th>\n",
       "      <th>AMT_GOODS_PRICE</th>\n",
       "      <th>REGION_POPULATION_RELATIVE</th>\n",
       "      <th>AGE</th>\n",
       "      <th>DAYS_EMPLOYED</th>\n",
       "      <th>CNT_FAM_MEMBERS</th>\n",
       "      <th>REGION_RATING_CLIENT_W_CITY</th>\n",
       "      <th>EXT_SOURCE_2</th>\n",
       "      <th>EXT_SOURCE_3</th>\n",
       "    </tr>\n",
       "  </thead>\n",
       "  <tbody>\n",
       "    <tr>\n",
       "      <th>count</th>\n",
       "      <td>55374.000000</td>\n",
       "      <td>55374.000000</td>\n",
       "      <td>55374.000000</td>\n",
       "      <td>5.537400e+04</td>\n",
       "      <td>5.537400e+04</td>\n",
       "      <td>55374.000000</td>\n",
       "      <td>5.535200e+04</td>\n",
       "      <td>55374.000000</td>\n",
       "      <td>55374.000000</td>\n",
       "      <td>55374.0</td>\n",
       "      <td>55374.000000</td>\n",
       "      <td>55374.000000</td>\n",
       "      <td>55218.000000</td>\n",
       "      <td>55374.000000</td>\n",
       "    </tr>\n",
       "    <tr>\n",
       "      <th>mean</th>\n",
       "      <td>278480.472424</td>\n",
       "      <td>0.053996</td>\n",
       "      <td>0.046123</td>\n",
       "      <td>1.363956e+05</td>\n",
       "      <td>5.426899e+05</td>\n",
       "      <td>23904.303202</td>\n",
       "      <td>4.882973e+05</td>\n",
       "      <td>0.020749</td>\n",
       "      <td>59.248889</td>\n",
       "      <td>365243.0</td>\n",
       "      <td>1.697981</td>\n",
       "      <td>2.068805</td>\n",
       "      <td>0.506436</td>\n",
       "      <td>0.554126</td>\n",
       "    </tr>\n",
       "    <tr>\n",
       "      <th>std</th>\n",
       "      <td>102674.560705</td>\n",
       "      <td>0.226013</td>\n",
       "      <td>0.275873</td>\n",
       "      <td>7.666086e+04</td>\n",
       "      <td>3.784991e+05</td>\n",
       "      <td>13308.379238</td>\n",
       "      <td>3.471510e+05</td>\n",
       "      <td>0.013635</td>\n",
       "      <td>5.506023</td>\n",
       "      <td>0.0</td>\n",
       "      <td>0.558580</td>\n",
       "      <td>0.483858</td>\n",
       "      <td>0.195964</td>\n",
       "      <td>0.162976</td>\n",
       "    </tr>\n",
       "    <tr>\n",
       "      <th>min</th>\n",
       "      <td>100011.000000</td>\n",
       "      <td>0.000000</td>\n",
       "      <td>0.000000</td>\n",
       "      <td>2.565000e+04</td>\n",
       "      <td>4.500000e+04</td>\n",
       "      <td>1615.500000</td>\n",
       "      <td>4.500000e+04</td>\n",
       "      <td>0.000290</td>\n",
       "      <td>21.000000</td>\n",
       "      <td>365243.0</td>\n",
       "      <td>1.000000</td>\n",
       "      <td>1.000000</td>\n",
       "      <td>0.000024</td>\n",
       "      <td>0.000527</td>\n",
       "    </tr>\n",
       "    <tr>\n",
       "      <th>25%</th>\n",
       "      <td>189622.250000</td>\n",
       "      <td>0.000000</td>\n",
       "      <td>0.000000</td>\n",
       "      <td>9.000000e+04</td>\n",
       "      <td>2.547000e+05</td>\n",
       "      <td>14503.500000</td>\n",
       "      <td>2.250000e+05</td>\n",
       "      <td>0.010032</td>\n",
       "      <td>57.000000</td>\n",
       "      <td>365243.0</td>\n",
       "      <td>1.000000</td>\n",
       "      <td>2.000000</td>\n",
       "      <td>0.363071</td>\n",
       "      <td>0.486653</td>\n",
       "    </tr>\n",
       "    <tr>\n",
       "      <th>50%</th>\n",
       "      <td>279001.500000</td>\n",
       "      <td>0.000000</td>\n",
       "      <td>0.000000</td>\n",
       "      <td>1.170000e+05</td>\n",
       "      <td>4.578345e+05</td>\n",
       "      <td>21775.500000</td>\n",
       "      <td>4.500000e+05</td>\n",
       "      <td>0.018850</td>\n",
       "      <td>60.000000</td>\n",
       "      <td>365243.0</td>\n",
       "      <td>2.000000</td>\n",
       "      <td>2.000000</td>\n",
       "      <td>0.560658</td>\n",
       "      <td>0.535276</td>\n",
       "    </tr>\n",
       "    <tr>\n",
       "      <th>75%</th>\n",
       "      <td>367053.000000</td>\n",
       "      <td>0.000000</td>\n",
       "      <td>0.000000</td>\n",
       "      <td>1.665000e+05</td>\n",
       "      <td>7.551900e+05</td>\n",
       "      <td>29943.000000</td>\n",
       "      <td>6.750000e+05</td>\n",
       "      <td>0.026392</td>\n",
       "      <td>63.000000</td>\n",
       "      <td>365243.0</td>\n",
       "      <td>2.000000</td>\n",
       "      <td>2.000000</td>\n",
       "      <td>0.662259</td>\n",
       "      <td>0.673830</td>\n",
       "    </tr>\n",
       "    <tr>\n",
       "      <th>max</th>\n",
       "      <td>456252.000000</td>\n",
       "      <td>1.000000</td>\n",
       "      <td>14.000000</td>\n",
       "      <td>2.250000e+06</td>\n",
       "      <td>3.312162e+06</td>\n",
       "      <td>225000.000000</td>\n",
       "      <td>3.150000e+06</td>\n",
       "      <td>0.072508</td>\n",
       "      <td>69.000000</td>\n",
       "      <td>365243.0</td>\n",
       "      <td>16.000000</td>\n",
       "      <td>3.000000</td>\n",
       "      <td>0.855000</td>\n",
       "      <td>0.896010</td>\n",
       "    </tr>\n",
       "  </tbody>\n",
       "</table>\n",
       "</div>"
      ],
      "text/plain": [
       "          SK_ID_CURR        TARGET  CNT_CHILDREN  AMT_INCOME_TOTAL  \\\n",
       "count   55374.000000  55374.000000  55374.000000      5.537400e+04   \n",
       "mean   278480.472424      0.053996      0.046123      1.363956e+05   \n",
       "std    102674.560705      0.226013      0.275873      7.666086e+04   \n",
       "min    100011.000000      0.000000      0.000000      2.565000e+04   \n",
       "25%    189622.250000      0.000000      0.000000      9.000000e+04   \n",
       "50%    279001.500000      0.000000      0.000000      1.170000e+05   \n",
       "75%    367053.000000      0.000000      0.000000      1.665000e+05   \n",
       "max    456252.000000      1.000000     14.000000      2.250000e+06   \n",
       "\n",
       "         AMT_CREDIT    AMT_ANNUITY  AMT_GOODS_PRICE  \\\n",
       "count  5.537400e+04   55374.000000     5.535200e+04   \n",
       "mean   5.426899e+05   23904.303202     4.882973e+05   \n",
       "std    3.784991e+05   13308.379238     3.471510e+05   \n",
       "min    4.500000e+04    1615.500000     4.500000e+04   \n",
       "25%    2.547000e+05   14503.500000     2.250000e+05   \n",
       "50%    4.578345e+05   21775.500000     4.500000e+05   \n",
       "75%    7.551900e+05   29943.000000     6.750000e+05   \n",
       "max    3.312162e+06  225000.000000     3.150000e+06   \n",
       "\n",
       "       REGION_POPULATION_RELATIVE           AGE  DAYS_EMPLOYED  \\\n",
       "count                55374.000000  55374.000000        55374.0   \n",
       "mean                     0.020749     59.248889       365243.0   \n",
       "std                      0.013635      5.506023            0.0   \n",
       "min                      0.000290     21.000000       365243.0   \n",
       "25%                      0.010032     57.000000       365243.0   \n",
       "50%                      0.018850     60.000000       365243.0   \n",
       "75%                      0.026392     63.000000       365243.0   \n",
       "max                      0.072508     69.000000       365243.0   \n",
       "\n",
       "       CNT_FAM_MEMBERS  REGION_RATING_CLIENT_W_CITY  EXT_SOURCE_2  \\\n",
       "count     55374.000000                 55374.000000  55218.000000   \n",
       "mean          1.697981                     2.068805      0.506436   \n",
       "std           0.558580                     0.483858      0.195964   \n",
       "min           1.000000                     1.000000      0.000024   \n",
       "25%           1.000000                     2.000000      0.363071   \n",
       "50%           2.000000                     2.000000      0.560658   \n",
       "75%           2.000000                     2.000000      0.662259   \n",
       "max          16.000000                     3.000000      0.855000   \n",
       "\n",
       "       EXT_SOURCE_3  \n",
       "count  55374.000000  \n",
       "mean       0.554126  \n",
       "std        0.162976  \n",
       "min        0.000527  \n",
       "25%        0.486653  \n",
       "50%        0.535276  \n",
       "75%        0.673830  \n",
       "max        0.896010  "
      ]
     },
     "execution_count": 59,
     "metadata": {},
     "output_type": "execute_result"
    }
   ],
   "source": [
    "# checking the rows for which the DAYS_EMPLOYED is greater than 360000\n",
    "ap_data[ap_data['DAYS_EMPLOYED']>360000].describe()"
   ]
  },
  {
   "cell_type": "markdown",
   "id": "6abf2fe3",
   "metadata": {},
   "source": [
    "- we see that the average age of the customers whose DAYS_EMPLOYED> 356000 is 60 and other values seem to be legitimate.\n",
    "- the customers whose DAYS_EMPLOYED = 365000 are seem to be retired. so these values are given abnormal days as 365000\n",
    "- it woud be better to give these values nan. so that they wont affect with our analysis."
   ]
  },
  {
   "cell_type": "code",
   "execution_count": 60,
   "id": "da879369",
   "metadata": {},
   "outputs": [],
   "source": [
    "ap_data[ap_data['DAYS_EMPLOYED']==365243]=np.NaN"
   ]
  },
  {
   "cell_type": "code",
   "execution_count": null,
   "id": "5ff024ee",
   "metadata": {},
   "outputs": [],
   "source": []
  },
  {
   "cell_type": "code",
   "execution_count": null,
   "id": "6ad407c0",
   "metadata": {},
   "outputs": [],
   "source": []
  },
  {
   "cell_type": "markdown",
   "id": "e28387a3",
   "metadata": {},
   "source": [
    "### DATA CLEANING\n"
   ]
  },
  {
   "cell_type": "code",
   "execution_count": 9,
   "id": "a6d7361e",
   "metadata": {},
   "outputs": [
    {
     "data": {
      "text/plain": [
       "COMMONAREA_MEDI             69.872297\n",
       "COMMONAREA_AVG              69.872297\n",
       "COMMONAREA_MODE             69.872297\n",
       "NONLIVINGAPARTMENTS_MODE    69.432963\n",
       "NONLIVINGAPARTMENTS_AVG     69.432963\n",
       "NONLIVINGAPARTMENTS_MEDI    69.432963\n",
       "FONDKAPREMONT_MODE          68.386172\n",
       "LIVINGAPARTMENTS_MODE       68.354953\n",
       "LIVINGAPARTMENTS_AVG        68.354953\n",
       "LIVINGAPARTMENTS_MEDI       68.354953\n",
       "FLOORSMIN_AVG               67.848630\n",
       "FLOORSMIN_MODE              67.848630\n",
       "FLOORSMIN_MEDI              67.848630\n",
       "YEARS_BUILD_MEDI            66.497784\n",
       "YEARS_BUILD_MODE            66.497784\n",
       "YEARS_BUILD_AVG             66.497784\n",
       "OWN_CAR_AGE                 65.990810\n",
       "LANDAREA_MEDI               59.376738\n",
       "LANDAREA_MODE               59.376738\n",
       "LANDAREA_AVG                59.376738\n",
       "BASEMENTAREA_MEDI           58.515956\n",
       "BASEMENTAREA_AVG            58.515956\n",
       "BASEMENTAREA_MODE           58.515956\n",
       "EXT_SOURCE_1                56.381073\n",
       "NONLIVINGAREA_MODE          55.179164\n",
       "NONLIVINGAREA_AVG           55.179164\n",
       "NONLIVINGAREA_MEDI          55.179164\n",
       "ELEVATORS_MEDI              53.295980\n",
       "ELEVATORS_AVG               53.295980\n",
       "ELEVATORS_MODE              53.295980\n",
       "dtype: float64"
      ]
     },
     "execution_count": 9,
     "metadata": {},
     "output_type": "execute_result"
    }
   ],
   "source": [
    "#calculating the missing values percentage for each column\n",
    "(ap_data.isnull().sum()/ap_data.shape[0]*100).sort_values(ascending=False).head(30)"
   ]
  },
  {
   "cell_type": "code",
   "execution_count": 10,
   "id": "9e175ccf",
   "metadata": {},
   "outputs": [],
   "source": [
    "ap_data=ap_data.dropna(axis=1,thresh=int(0.5*ap_data.shape[0]+1))\n"
   ]
  },
  {
   "cell_type": "code",
   "execution_count": 11,
   "id": "34c82c69",
   "metadata": {},
   "outputs": [
    {
     "data": {
      "text/plain": [
       "(307511, 81)"
      ]
     },
     "execution_count": 11,
     "metadata": {},
     "output_type": "execute_result"
    }
   ],
   "source": [
    "ap_data.shape"
   ]
  },
  {
   "cell_type": "markdown",
   "id": "f437f408",
   "metadata": {},
   "source": [
    "### ANALYSIS \n",
    "- after dropping the columns where the missing values is greater than 50% the number of columns decreased from 122 to 81"
   ]
  },
  {
   "cell_type": "code",
   "execution_count": 12,
   "id": "1670514c",
   "metadata": {},
   "outputs": [
    {
     "data": {
      "text/plain": [
       "FLOORSMAX_AVG                   49.760822\n",
       "FLOORSMAX_MODE                  49.760822\n",
       "FLOORSMAX_MEDI                  49.760822\n",
       "YEARS_BEGINEXPLUATATION_AVG     48.781019\n",
       "YEARS_BEGINEXPLUATATION_MODE    48.781019\n",
       "YEARS_BEGINEXPLUATATION_MEDI    48.781019\n",
       "TOTALAREA_MODE                  48.268517\n",
       "EMERGENCYSTATE_MODE             47.398304\n",
       "OCCUPATION_TYPE                 31.345545\n",
       "EXT_SOURCE_3                    19.825307\n",
       "AMT_REQ_CREDIT_BUREAU_YEAR      13.501631\n",
       "AMT_REQ_CREDIT_BUREAU_HOUR      13.501631\n",
       "AMT_REQ_CREDIT_BUREAU_DAY       13.501631\n",
       "AMT_REQ_CREDIT_BUREAU_WEEK      13.501631\n",
       "AMT_REQ_CREDIT_BUREAU_MON       13.501631\n",
       "AMT_REQ_CREDIT_BUREAU_QRT       13.501631\n",
       "NAME_TYPE_SUITE                  0.420148\n",
       "DEF_30_CNT_SOCIAL_CIRCLE         0.332021\n",
       "OBS_60_CNT_SOCIAL_CIRCLE         0.332021\n",
       "DEF_60_CNT_SOCIAL_CIRCLE         0.332021\n",
       "OBS_30_CNT_SOCIAL_CIRCLE         0.332021\n",
       "EXT_SOURCE_2                     0.214626\n",
       "AMT_GOODS_PRICE                  0.090403\n",
       "AMT_ANNUITY                      0.003902\n",
       "CNT_FAM_MEMBERS                  0.000650\n",
       "DAYS_LAST_PHONE_CHANGE           0.000325\n",
       "FLAG_OWN_CAR                     0.000000\n",
       "FLAG_OWN_REALTY                  0.000000\n",
       "NAME_CONTRACT_TYPE               0.000000\n",
       "FLAG_DOCUMENT_2                  0.000000\n",
       "dtype: float64"
      ]
     },
     "execution_count": 12,
     "metadata": {},
     "output_type": "execute_result"
    }
   ],
   "source": [
    "#again checking the missing percentage of each column\n",
    "(ap_data.isnull().sum()/ap_data.shape[0]*100).sort_values(ascending=False).head(30)"
   ]
  },
  {
   "cell_type": "code",
   "execution_count": 13,
   "id": "066f1940",
   "metadata": {},
   "outputs": [
    {
     "data": {
      "text/plain": [
       "Index(['SK_ID_CURR', 'TARGET', 'NAME_CONTRACT_TYPE', 'CODE_GENDER',\n",
       "       'FLAG_OWN_CAR', 'FLAG_OWN_REALTY', 'CNT_CHILDREN', 'AMT_INCOME_TOTAL',\n",
       "       'AMT_CREDIT', 'AMT_ANNUITY', 'AMT_GOODS_PRICE', 'NAME_TYPE_SUITE',\n",
       "       'NAME_INCOME_TYPE', 'NAME_EDUCATION_TYPE', 'NAME_FAMILY_STATUS',\n",
       "       'NAME_HOUSING_TYPE', 'REGION_POPULATION_RELATIVE', 'DAYS_BIRTH',\n",
       "       'DAYS_EMPLOYED', 'DAYS_REGISTRATION', 'DAYS_ID_PUBLISH', 'FLAG_MOBIL',\n",
       "       'FLAG_EMP_PHONE', 'FLAG_WORK_PHONE', 'FLAG_CONT_MOBILE', 'FLAG_PHONE',\n",
       "       'FLAG_EMAIL', 'OCCUPATION_TYPE', 'CNT_FAM_MEMBERS',\n",
       "       'REGION_RATING_CLIENT', 'REGION_RATING_CLIENT_W_CITY',\n",
       "       'WEEKDAY_APPR_PROCESS_START', 'HOUR_APPR_PROCESS_START',\n",
       "       'REG_REGION_NOT_LIVE_REGION', 'REG_REGION_NOT_WORK_REGION',\n",
       "       'LIVE_REGION_NOT_WORK_REGION', 'REG_CITY_NOT_LIVE_CITY',\n",
       "       'REG_CITY_NOT_WORK_CITY', 'LIVE_CITY_NOT_WORK_CITY',\n",
       "       'ORGANIZATION_TYPE', 'EXT_SOURCE_2', 'EXT_SOURCE_3',\n",
       "       'YEARS_BEGINEXPLUATATION_AVG', 'FLOORSMAX_AVG',\n",
       "       'YEARS_BEGINEXPLUATATION_MODE', 'FLOORSMAX_MODE',\n",
       "       'YEARS_BEGINEXPLUATATION_MEDI', 'FLOORSMAX_MEDI', 'TOTALAREA_MODE',\n",
       "       'EMERGENCYSTATE_MODE', 'OBS_30_CNT_SOCIAL_CIRCLE',\n",
       "       'DEF_30_CNT_SOCIAL_CIRCLE', 'OBS_60_CNT_SOCIAL_CIRCLE',\n",
       "       'DEF_60_CNT_SOCIAL_CIRCLE', 'DAYS_LAST_PHONE_CHANGE', 'FLAG_DOCUMENT_2',\n",
       "       'FLAG_DOCUMENT_3', 'FLAG_DOCUMENT_4', 'FLAG_DOCUMENT_5',\n",
       "       'FLAG_DOCUMENT_6', 'FLAG_DOCUMENT_7', 'FLAG_DOCUMENT_8',\n",
       "       'FLAG_DOCUMENT_9', 'FLAG_DOCUMENT_10', 'FLAG_DOCUMENT_11',\n",
       "       'FLAG_DOCUMENT_12', 'FLAG_DOCUMENT_13', 'FLAG_DOCUMENT_14',\n",
       "       'FLAG_DOCUMENT_15', 'FLAG_DOCUMENT_16', 'FLAG_DOCUMENT_17',\n",
       "       'FLAG_DOCUMENT_18', 'FLAG_DOCUMENT_19', 'FLAG_DOCUMENT_20',\n",
       "       'FLAG_DOCUMENT_21', 'AMT_REQ_CREDIT_BUREAU_HOUR',\n",
       "       'AMT_REQ_CREDIT_BUREAU_DAY', 'AMT_REQ_CREDIT_BUREAU_WEEK',\n",
       "       'AMT_REQ_CREDIT_BUREAU_MON', 'AMT_REQ_CREDIT_BUREAU_QRT',\n",
       "       'AMT_REQ_CREDIT_BUREAU_YEAR'],\n",
       "      dtype='object')"
      ]
     },
     "execution_count": 13,
     "metadata": {},
     "output_type": "execute_result"
    }
   ],
   "source": [
    "#dropping the uneccesary columns from the data set\n",
    "ap_data.columns"
   ]
  },
  {
   "cell_type": "code",
   "execution_count": 14,
   "id": "b0c3454b",
   "metadata": {},
   "outputs": [
    {
     "name": "stdout",
     "output_type": "stream",
     "text": [
      "<class 'pandas.core.frame.DataFrame'>\n",
      "RangeIndex: 307511 entries, 0 to 307510\n",
      "Data columns (total 81 columns):\n",
      " #   Column                        Non-Null Count   Dtype  \n",
      "---  ------                        --------------   -----  \n",
      " 0   SK_ID_CURR                    307511 non-null  int64  \n",
      " 1   TARGET                        307511 non-null  int64  \n",
      " 2   NAME_CONTRACT_TYPE            307511 non-null  object \n",
      " 3   CODE_GENDER                   307511 non-null  object \n",
      " 4   FLAG_OWN_CAR                  307511 non-null  object \n",
      " 5   FLAG_OWN_REALTY               307511 non-null  object \n",
      " 6   CNT_CHILDREN                  307511 non-null  int64  \n",
      " 7   AMT_INCOME_TOTAL              307511 non-null  float64\n",
      " 8   AMT_CREDIT                    307511 non-null  float64\n",
      " 9   AMT_ANNUITY                   307499 non-null  float64\n",
      " 10  AMT_GOODS_PRICE               307233 non-null  float64\n",
      " 11  NAME_TYPE_SUITE               306219 non-null  object \n",
      " 12  NAME_INCOME_TYPE              307511 non-null  object \n",
      " 13  NAME_EDUCATION_TYPE           307511 non-null  object \n",
      " 14  NAME_FAMILY_STATUS            307511 non-null  object \n",
      " 15  NAME_HOUSING_TYPE             307511 non-null  object \n",
      " 16  REGION_POPULATION_RELATIVE    307511 non-null  float64\n",
      " 17  DAYS_BIRTH                    307511 non-null  int64  \n",
      " 18  DAYS_EMPLOYED                 307511 non-null  int64  \n",
      " 19  DAYS_REGISTRATION             307511 non-null  float64\n",
      " 20  DAYS_ID_PUBLISH               307511 non-null  int64  \n",
      " 21  FLAG_MOBIL                    307511 non-null  int64  \n",
      " 22  FLAG_EMP_PHONE                307511 non-null  int64  \n",
      " 23  FLAG_WORK_PHONE               307511 non-null  int64  \n",
      " 24  FLAG_CONT_MOBILE              307511 non-null  int64  \n",
      " 25  FLAG_PHONE                    307511 non-null  int64  \n",
      " 26  FLAG_EMAIL                    307511 non-null  int64  \n",
      " 27  OCCUPATION_TYPE               211120 non-null  object \n",
      " 28  CNT_FAM_MEMBERS               307509 non-null  float64\n",
      " 29  REGION_RATING_CLIENT          307511 non-null  int64  \n",
      " 30  REGION_RATING_CLIENT_W_CITY   307511 non-null  int64  \n",
      " 31  WEEKDAY_APPR_PROCESS_START    307511 non-null  object \n",
      " 32  HOUR_APPR_PROCESS_START       307511 non-null  int64  \n",
      " 33  REG_REGION_NOT_LIVE_REGION    307511 non-null  int64  \n",
      " 34  REG_REGION_NOT_WORK_REGION    307511 non-null  int64  \n",
      " 35  LIVE_REGION_NOT_WORK_REGION   307511 non-null  int64  \n",
      " 36  REG_CITY_NOT_LIVE_CITY        307511 non-null  int64  \n",
      " 37  REG_CITY_NOT_WORK_CITY        307511 non-null  int64  \n",
      " 38  LIVE_CITY_NOT_WORK_CITY       307511 non-null  int64  \n",
      " 39  ORGANIZATION_TYPE             307511 non-null  object \n",
      " 40  EXT_SOURCE_2                  306851 non-null  float64\n",
      " 41  EXT_SOURCE_3                  246546 non-null  float64\n",
      " 42  YEARS_BEGINEXPLUATATION_AVG   157504 non-null  float64\n",
      " 43  FLOORSMAX_AVG                 154491 non-null  float64\n",
      " 44  YEARS_BEGINEXPLUATATION_MODE  157504 non-null  float64\n",
      " 45  FLOORSMAX_MODE                154491 non-null  float64\n",
      " 46  YEARS_BEGINEXPLUATATION_MEDI  157504 non-null  float64\n",
      " 47  FLOORSMAX_MEDI                154491 non-null  float64\n",
      " 48  TOTALAREA_MODE                159080 non-null  float64\n",
      " 49  EMERGENCYSTATE_MODE           161756 non-null  object \n",
      " 50  OBS_30_CNT_SOCIAL_CIRCLE      306490 non-null  float64\n",
      " 51  DEF_30_CNT_SOCIAL_CIRCLE      306490 non-null  float64\n",
      " 52  OBS_60_CNT_SOCIAL_CIRCLE      306490 non-null  float64\n",
      " 53  DEF_60_CNT_SOCIAL_CIRCLE      306490 non-null  float64\n",
      " 54  DAYS_LAST_PHONE_CHANGE        307510 non-null  float64\n",
      " 55  FLAG_DOCUMENT_2               307511 non-null  int64  \n",
      " 56  FLAG_DOCUMENT_3               307511 non-null  int64  \n",
      " 57  FLAG_DOCUMENT_4               307511 non-null  int64  \n",
      " 58  FLAG_DOCUMENT_5               307511 non-null  int64  \n",
      " 59  FLAG_DOCUMENT_6               307511 non-null  int64  \n",
      " 60  FLAG_DOCUMENT_7               307511 non-null  int64  \n",
      " 61  FLAG_DOCUMENT_8               307511 non-null  int64  \n",
      " 62  FLAG_DOCUMENT_9               307511 non-null  int64  \n",
      " 63  FLAG_DOCUMENT_10              307511 non-null  int64  \n",
      " 64  FLAG_DOCUMENT_11              307511 non-null  int64  \n",
      " 65  FLAG_DOCUMENT_12              307511 non-null  int64  \n",
      " 66  FLAG_DOCUMENT_13              307511 non-null  int64  \n",
      " 67  FLAG_DOCUMENT_14              307511 non-null  int64  \n",
      " 68  FLAG_DOCUMENT_15              307511 non-null  int64  \n",
      " 69  FLAG_DOCUMENT_16              307511 non-null  int64  \n",
      " 70  FLAG_DOCUMENT_17              307511 non-null  int64  \n",
      " 71  FLAG_DOCUMENT_18              307511 non-null  int64  \n",
      " 72  FLAG_DOCUMENT_19              307511 non-null  int64  \n",
      " 73  FLAG_DOCUMENT_20              307511 non-null  int64  \n",
      " 74  FLAG_DOCUMENT_21              307511 non-null  int64  \n",
      " 75  AMT_REQ_CREDIT_BUREAU_HOUR    265992 non-null  float64\n",
      " 76  AMT_REQ_CREDIT_BUREAU_DAY     265992 non-null  float64\n",
      " 77  AMT_REQ_CREDIT_BUREAU_WEEK    265992 non-null  float64\n",
      " 78  AMT_REQ_CREDIT_BUREAU_MON     265992 non-null  float64\n",
      " 79  AMT_REQ_CREDIT_BUREAU_QRT     265992 non-null  float64\n",
      " 80  AMT_REQ_CREDIT_BUREAU_YEAR    265992 non-null  float64\n",
      "dtypes: float64(27), int64(41), object(13)\n",
      "memory usage: 190.0+ MB\n"
     ]
    }
   ],
   "source": [
    "ap_data.info()"
   ]
  },
  {
   "cell_type": "code",
   "execution_count": 15,
   "id": "a11f7fd7",
   "metadata": {},
   "outputs": [],
   "source": [
    "ap_data.drop(ap_data.iloc[:,55:74],axis=1,inplace=True)"
   ]
  },
  {
   "cell_type": "code",
   "execution_count": 16,
   "id": "eecb5da1",
   "metadata": {},
   "outputs": [
    {
     "name": "stdout",
     "output_type": "stream",
     "text": [
      "<class 'pandas.core.frame.DataFrame'>\n",
      "RangeIndex: 307511 entries, 0 to 307510\n",
      "Data columns (total 62 columns):\n",
      " #   Column                        Non-Null Count   Dtype  \n",
      "---  ------                        --------------   -----  \n",
      " 0   SK_ID_CURR                    307511 non-null  int64  \n",
      " 1   TARGET                        307511 non-null  int64  \n",
      " 2   NAME_CONTRACT_TYPE            307511 non-null  object \n",
      " 3   CODE_GENDER                   307511 non-null  object \n",
      " 4   FLAG_OWN_CAR                  307511 non-null  object \n",
      " 5   FLAG_OWN_REALTY               307511 non-null  object \n",
      " 6   CNT_CHILDREN                  307511 non-null  int64  \n",
      " 7   AMT_INCOME_TOTAL              307511 non-null  float64\n",
      " 8   AMT_CREDIT                    307511 non-null  float64\n",
      " 9   AMT_ANNUITY                   307499 non-null  float64\n",
      " 10  AMT_GOODS_PRICE               307233 non-null  float64\n",
      " 11  NAME_TYPE_SUITE               306219 non-null  object \n",
      " 12  NAME_INCOME_TYPE              307511 non-null  object \n",
      " 13  NAME_EDUCATION_TYPE           307511 non-null  object \n",
      " 14  NAME_FAMILY_STATUS            307511 non-null  object \n",
      " 15  NAME_HOUSING_TYPE             307511 non-null  object \n",
      " 16  REGION_POPULATION_RELATIVE    307511 non-null  float64\n",
      " 17  DAYS_BIRTH                    307511 non-null  int64  \n",
      " 18  DAYS_EMPLOYED                 307511 non-null  int64  \n",
      " 19  DAYS_REGISTRATION             307511 non-null  float64\n",
      " 20  DAYS_ID_PUBLISH               307511 non-null  int64  \n",
      " 21  FLAG_MOBIL                    307511 non-null  int64  \n",
      " 22  FLAG_EMP_PHONE                307511 non-null  int64  \n",
      " 23  FLAG_WORK_PHONE               307511 non-null  int64  \n",
      " 24  FLAG_CONT_MOBILE              307511 non-null  int64  \n",
      " 25  FLAG_PHONE                    307511 non-null  int64  \n",
      " 26  FLAG_EMAIL                    307511 non-null  int64  \n",
      " 27  OCCUPATION_TYPE               211120 non-null  object \n",
      " 28  CNT_FAM_MEMBERS               307509 non-null  float64\n",
      " 29  REGION_RATING_CLIENT          307511 non-null  int64  \n",
      " 30  REGION_RATING_CLIENT_W_CITY   307511 non-null  int64  \n",
      " 31  WEEKDAY_APPR_PROCESS_START    307511 non-null  object \n",
      " 32  HOUR_APPR_PROCESS_START       307511 non-null  int64  \n",
      " 33  REG_REGION_NOT_LIVE_REGION    307511 non-null  int64  \n",
      " 34  REG_REGION_NOT_WORK_REGION    307511 non-null  int64  \n",
      " 35  LIVE_REGION_NOT_WORK_REGION   307511 non-null  int64  \n",
      " 36  REG_CITY_NOT_LIVE_CITY        307511 non-null  int64  \n",
      " 37  REG_CITY_NOT_WORK_CITY        307511 non-null  int64  \n",
      " 38  LIVE_CITY_NOT_WORK_CITY       307511 non-null  int64  \n",
      " 39  ORGANIZATION_TYPE             307511 non-null  object \n",
      " 40  EXT_SOURCE_2                  306851 non-null  float64\n",
      " 41  EXT_SOURCE_3                  246546 non-null  float64\n",
      " 42  YEARS_BEGINEXPLUATATION_AVG   157504 non-null  float64\n",
      " 43  FLOORSMAX_AVG                 154491 non-null  float64\n",
      " 44  YEARS_BEGINEXPLUATATION_MODE  157504 non-null  float64\n",
      " 45  FLOORSMAX_MODE                154491 non-null  float64\n",
      " 46  YEARS_BEGINEXPLUATATION_MEDI  157504 non-null  float64\n",
      " 47  FLOORSMAX_MEDI                154491 non-null  float64\n",
      " 48  TOTALAREA_MODE                159080 non-null  float64\n",
      " 49  EMERGENCYSTATE_MODE           161756 non-null  object \n",
      " 50  OBS_30_CNT_SOCIAL_CIRCLE      306490 non-null  float64\n",
      " 51  DEF_30_CNT_SOCIAL_CIRCLE      306490 non-null  float64\n",
      " 52  OBS_60_CNT_SOCIAL_CIRCLE      306490 non-null  float64\n",
      " 53  DEF_60_CNT_SOCIAL_CIRCLE      306490 non-null  float64\n",
      " 54  DAYS_LAST_PHONE_CHANGE        307510 non-null  float64\n",
      " 55  FLAG_DOCUMENT_21              307511 non-null  int64  \n",
      " 56  AMT_REQ_CREDIT_BUREAU_HOUR    265992 non-null  float64\n",
      " 57  AMT_REQ_CREDIT_BUREAU_DAY     265992 non-null  float64\n",
      " 58  AMT_REQ_CREDIT_BUREAU_WEEK    265992 non-null  float64\n",
      " 59  AMT_REQ_CREDIT_BUREAU_MON     265992 non-null  float64\n",
      " 60  AMT_REQ_CREDIT_BUREAU_QRT     265992 non-null  float64\n",
      " 61  AMT_REQ_CREDIT_BUREAU_YEAR    265992 non-null  float64\n",
      "dtypes: float64(27), int64(22), object(13)\n",
      "memory usage: 145.5+ MB\n"
     ]
    }
   ],
   "source": [
    "ap_data.info()"
   ]
  },
  {
   "cell_type": "code",
   "execution_count": 17,
   "id": "2ca95549",
   "metadata": {},
   "outputs": [],
   "source": [
    "ap_data.drop(ap_data.iloc[:,55:],axis=1,inplace=True)"
   ]
  },
  {
   "cell_type": "code",
   "execution_count": 18,
   "id": "2f05fc1d",
   "metadata": {},
   "outputs": [
    {
     "name": "stdout",
     "output_type": "stream",
     "text": [
      "<class 'pandas.core.frame.DataFrame'>\n",
      "RangeIndex: 307511 entries, 0 to 307510\n",
      "Data columns (total 55 columns):\n",
      " #   Column                        Non-Null Count   Dtype  \n",
      "---  ------                        --------------   -----  \n",
      " 0   SK_ID_CURR                    307511 non-null  int64  \n",
      " 1   TARGET                        307511 non-null  int64  \n",
      " 2   NAME_CONTRACT_TYPE            307511 non-null  object \n",
      " 3   CODE_GENDER                   307511 non-null  object \n",
      " 4   FLAG_OWN_CAR                  307511 non-null  object \n",
      " 5   FLAG_OWN_REALTY               307511 non-null  object \n",
      " 6   CNT_CHILDREN                  307511 non-null  int64  \n",
      " 7   AMT_INCOME_TOTAL              307511 non-null  float64\n",
      " 8   AMT_CREDIT                    307511 non-null  float64\n",
      " 9   AMT_ANNUITY                   307499 non-null  float64\n",
      " 10  AMT_GOODS_PRICE               307233 non-null  float64\n",
      " 11  NAME_TYPE_SUITE               306219 non-null  object \n",
      " 12  NAME_INCOME_TYPE              307511 non-null  object \n",
      " 13  NAME_EDUCATION_TYPE           307511 non-null  object \n",
      " 14  NAME_FAMILY_STATUS            307511 non-null  object \n",
      " 15  NAME_HOUSING_TYPE             307511 non-null  object \n",
      " 16  REGION_POPULATION_RELATIVE    307511 non-null  float64\n",
      " 17  DAYS_BIRTH                    307511 non-null  int64  \n",
      " 18  DAYS_EMPLOYED                 307511 non-null  int64  \n",
      " 19  DAYS_REGISTRATION             307511 non-null  float64\n",
      " 20  DAYS_ID_PUBLISH               307511 non-null  int64  \n",
      " 21  FLAG_MOBIL                    307511 non-null  int64  \n",
      " 22  FLAG_EMP_PHONE                307511 non-null  int64  \n",
      " 23  FLAG_WORK_PHONE               307511 non-null  int64  \n",
      " 24  FLAG_CONT_MOBILE              307511 non-null  int64  \n",
      " 25  FLAG_PHONE                    307511 non-null  int64  \n",
      " 26  FLAG_EMAIL                    307511 non-null  int64  \n",
      " 27  OCCUPATION_TYPE               211120 non-null  object \n",
      " 28  CNT_FAM_MEMBERS               307509 non-null  float64\n",
      " 29  REGION_RATING_CLIENT          307511 non-null  int64  \n",
      " 30  REGION_RATING_CLIENT_W_CITY   307511 non-null  int64  \n",
      " 31  WEEKDAY_APPR_PROCESS_START    307511 non-null  object \n",
      " 32  HOUR_APPR_PROCESS_START       307511 non-null  int64  \n",
      " 33  REG_REGION_NOT_LIVE_REGION    307511 non-null  int64  \n",
      " 34  REG_REGION_NOT_WORK_REGION    307511 non-null  int64  \n",
      " 35  LIVE_REGION_NOT_WORK_REGION   307511 non-null  int64  \n",
      " 36  REG_CITY_NOT_LIVE_CITY        307511 non-null  int64  \n",
      " 37  REG_CITY_NOT_WORK_CITY        307511 non-null  int64  \n",
      " 38  LIVE_CITY_NOT_WORK_CITY       307511 non-null  int64  \n",
      " 39  ORGANIZATION_TYPE             307511 non-null  object \n",
      " 40  EXT_SOURCE_2                  306851 non-null  float64\n",
      " 41  EXT_SOURCE_3                  246546 non-null  float64\n",
      " 42  YEARS_BEGINEXPLUATATION_AVG   157504 non-null  float64\n",
      " 43  FLOORSMAX_AVG                 154491 non-null  float64\n",
      " 44  YEARS_BEGINEXPLUATATION_MODE  157504 non-null  float64\n",
      " 45  FLOORSMAX_MODE                154491 non-null  float64\n",
      " 46  YEARS_BEGINEXPLUATATION_MEDI  157504 non-null  float64\n",
      " 47  FLOORSMAX_MEDI                154491 non-null  float64\n",
      " 48  TOTALAREA_MODE                159080 non-null  float64\n",
      " 49  EMERGENCYSTATE_MODE           161756 non-null  object \n",
      " 50  OBS_30_CNT_SOCIAL_CIRCLE      306490 non-null  float64\n",
      " 51  DEF_30_CNT_SOCIAL_CIRCLE      306490 non-null  float64\n",
      " 52  OBS_60_CNT_SOCIAL_CIRCLE      306490 non-null  float64\n",
      " 53  DEF_60_CNT_SOCIAL_CIRCLE      306490 non-null  float64\n",
      " 54  DAYS_LAST_PHONE_CHANGE        307510 non-null  float64\n",
      "dtypes: float64(21), int64(21), object(13)\n",
      "memory usage: 129.0+ MB\n"
     ]
    }
   ],
   "source": [
    "ap_data.info()"
   ]
  },
  {
   "cell_type": "code",
   "execution_count": 19,
   "id": "1da2cf85",
   "metadata": {},
   "outputs": [],
   "source": [
    "ap_data.drop(ap_data.columns[[11,19,20,21,22,23,24,25,26,29,31,32,33,34,35,36,37,38,42,43,44,45,46,47,48,49,54]],axis=1,inplace=True)"
   ]
  },
  {
   "cell_type": "code",
   "execution_count": 20,
   "id": "ec6d0ef4",
   "metadata": {},
   "outputs": [
    {
     "name": "stdout",
     "output_type": "stream",
     "text": [
      "<class 'pandas.core.frame.DataFrame'>\n",
      "RangeIndex: 307511 entries, 0 to 307510\n",
      "Data columns (total 28 columns):\n",
      " #   Column                       Non-Null Count   Dtype  \n",
      "---  ------                       --------------   -----  \n",
      " 0   SK_ID_CURR                   307511 non-null  int64  \n",
      " 1   TARGET                       307511 non-null  int64  \n",
      " 2   NAME_CONTRACT_TYPE           307511 non-null  object \n",
      " 3   CODE_GENDER                  307511 non-null  object \n",
      " 4   FLAG_OWN_CAR                 307511 non-null  object \n",
      " 5   FLAG_OWN_REALTY              307511 non-null  object \n",
      " 6   CNT_CHILDREN                 307511 non-null  int64  \n",
      " 7   AMT_INCOME_TOTAL             307511 non-null  float64\n",
      " 8   AMT_CREDIT                   307511 non-null  float64\n",
      " 9   AMT_ANNUITY                  307499 non-null  float64\n",
      " 10  AMT_GOODS_PRICE              307233 non-null  float64\n",
      " 11  NAME_INCOME_TYPE             307511 non-null  object \n",
      " 12  NAME_EDUCATION_TYPE          307511 non-null  object \n",
      " 13  NAME_FAMILY_STATUS           307511 non-null  object \n",
      " 14  NAME_HOUSING_TYPE            307511 non-null  object \n",
      " 15  REGION_POPULATION_RELATIVE   307511 non-null  float64\n",
      " 16  DAYS_BIRTH                   307511 non-null  int64  \n",
      " 17  DAYS_EMPLOYED                307511 non-null  int64  \n",
      " 18  OCCUPATION_TYPE              211120 non-null  object \n",
      " 19  CNT_FAM_MEMBERS              307509 non-null  float64\n",
      " 20  REGION_RATING_CLIENT_W_CITY  307511 non-null  int64  \n",
      " 21  ORGANIZATION_TYPE            307511 non-null  object \n",
      " 22  EXT_SOURCE_2                 306851 non-null  float64\n",
      " 23  EXT_SOURCE_3                 246546 non-null  float64\n",
      " 24  OBS_30_CNT_SOCIAL_CIRCLE     306490 non-null  float64\n",
      " 25  DEF_30_CNT_SOCIAL_CIRCLE     306490 non-null  float64\n",
      " 26  OBS_60_CNT_SOCIAL_CIRCLE     306490 non-null  float64\n",
      " 27  DEF_60_CNT_SOCIAL_CIRCLE     306490 non-null  float64\n",
      "dtypes: float64(12), int64(6), object(10)\n",
      "memory usage: 65.7+ MB\n"
     ]
    }
   ],
   "source": [
    "ap_data.info()"
   ]
  },
  {
   "cell_type": "code",
   "execution_count": 21,
   "id": "b0ad49e3",
   "metadata": {},
   "outputs": [],
   "source": [
    "ap_data.drop(ap_data.iloc[:,24:],axis=1,inplace=True)"
   ]
  },
  {
   "cell_type": "code",
   "execution_count": 22,
   "id": "c9e7ac79",
   "metadata": {},
   "outputs": [
    {
     "name": "stdout",
     "output_type": "stream",
     "text": [
      "<class 'pandas.core.frame.DataFrame'>\n",
      "RangeIndex: 307511 entries, 0 to 307510\n",
      "Data columns (total 24 columns):\n",
      " #   Column                       Non-Null Count   Dtype  \n",
      "---  ------                       --------------   -----  \n",
      " 0   SK_ID_CURR                   307511 non-null  int64  \n",
      " 1   TARGET                       307511 non-null  int64  \n",
      " 2   NAME_CONTRACT_TYPE           307511 non-null  object \n",
      " 3   CODE_GENDER                  307511 non-null  object \n",
      " 4   FLAG_OWN_CAR                 307511 non-null  object \n",
      " 5   FLAG_OWN_REALTY              307511 non-null  object \n",
      " 6   CNT_CHILDREN                 307511 non-null  int64  \n",
      " 7   AMT_INCOME_TOTAL             307511 non-null  float64\n",
      " 8   AMT_CREDIT                   307511 non-null  float64\n",
      " 9   AMT_ANNUITY                  307499 non-null  float64\n",
      " 10  AMT_GOODS_PRICE              307233 non-null  float64\n",
      " 11  NAME_INCOME_TYPE             307511 non-null  object \n",
      " 12  NAME_EDUCATION_TYPE          307511 non-null  object \n",
      " 13  NAME_FAMILY_STATUS           307511 non-null  object \n",
      " 14  NAME_HOUSING_TYPE            307511 non-null  object \n",
      " 15  REGION_POPULATION_RELATIVE   307511 non-null  float64\n",
      " 16  DAYS_BIRTH                   307511 non-null  int64  \n",
      " 17  DAYS_EMPLOYED                307511 non-null  int64  \n",
      " 18  OCCUPATION_TYPE              211120 non-null  object \n",
      " 19  CNT_FAM_MEMBERS              307509 non-null  float64\n",
      " 20  REGION_RATING_CLIENT_W_CITY  307511 non-null  int64  \n",
      " 21  ORGANIZATION_TYPE            307511 non-null  object \n",
      " 22  EXT_SOURCE_2                 306851 non-null  float64\n",
      " 23  EXT_SOURCE_3                 246546 non-null  float64\n",
      "dtypes: float64(8), int64(6), object(10)\n",
      "memory usage: 56.3+ MB\n"
     ]
    }
   ],
   "source": [
    "ap_data.info()"
   ]
  },
  {
   "cell_type": "markdown",
   "id": "907e912e",
   "metadata": {},
   "source": [
    "### checking the rows for which the DAYS_EMPLOYED is greater than 360000"
   ]
  },
  {
   "cell_type": "code",
   "execution_count": 59,
   "id": "0cb9102a",
   "metadata": {},
   "outputs": [
    {
     "data": {
      "text/html": [
       "<div>\n",
       "<style scoped>\n",
       "    .dataframe tbody tr th:only-of-type {\n",
       "        vertical-align: middle;\n",
       "    }\n",
       "\n",
       "    .dataframe tbody tr th {\n",
       "        vertical-align: top;\n",
       "    }\n",
       "\n",
       "    .dataframe thead th {\n",
       "        text-align: right;\n",
       "    }\n",
       "</style>\n",
       "<table border=\"1\" class=\"dataframe\">\n",
       "  <thead>\n",
       "    <tr style=\"text-align: right;\">\n",
       "      <th></th>\n",
       "      <th>SK_ID_CURR</th>\n",
       "      <th>TARGET</th>\n",
       "      <th>CNT_CHILDREN</th>\n",
       "      <th>AMT_INCOME_TOTAL</th>\n",
       "      <th>AMT_CREDIT</th>\n",
       "      <th>AMT_ANNUITY</th>\n",
       "      <th>AMT_GOODS_PRICE</th>\n",
       "      <th>REGION_POPULATION_RELATIVE</th>\n",
       "      <th>AGE</th>\n",
       "      <th>DAYS_EMPLOYED</th>\n",
       "      <th>CNT_FAM_MEMBERS</th>\n",
       "      <th>REGION_RATING_CLIENT_W_CITY</th>\n",
       "      <th>EXT_SOURCE_2</th>\n",
       "      <th>EXT_SOURCE_3</th>\n",
       "    </tr>\n",
       "  </thead>\n",
       "  <tbody>\n",
       "    <tr>\n",
       "      <th>count</th>\n",
       "      <td>55374.000000</td>\n",
       "      <td>55374.000000</td>\n",
       "      <td>55374.000000</td>\n",
       "      <td>5.537400e+04</td>\n",
       "      <td>5.537400e+04</td>\n",
       "      <td>55374.000000</td>\n",
       "      <td>5.535200e+04</td>\n",
       "      <td>55374.000000</td>\n",
       "      <td>55374.000000</td>\n",
       "      <td>55374.0</td>\n",
       "      <td>55374.000000</td>\n",
       "      <td>55374.000000</td>\n",
       "      <td>55218.000000</td>\n",
       "      <td>55374.000000</td>\n",
       "    </tr>\n",
       "    <tr>\n",
       "      <th>mean</th>\n",
       "      <td>278480.472424</td>\n",
       "      <td>0.053996</td>\n",
       "      <td>0.046123</td>\n",
       "      <td>1.363956e+05</td>\n",
       "      <td>5.426899e+05</td>\n",
       "      <td>23904.303202</td>\n",
       "      <td>4.882973e+05</td>\n",
       "      <td>0.020749</td>\n",
       "      <td>59.248889</td>\n",
       "      <td>365243.0</td>\n",
       "      <td>1.697981</td>\n",
       "      <td>2.068805</td>\n",
       "      <td>0.506436</td>\n",
       "      <td>0.554126</td>\n",
       "    </tr>\n",
       "    <tr>\n",
       "      <th>std</th>\n",
       "      <td>102674.560705</td>\n",
       "      <td>0.226013</td>\n",
       "      <td>0.275873</td>\n",
       "      <td>7.666086e+04</td>\n",
       "      <td>3.784991e+05</td>\n",
       "      <td>13308.379238</td>\n",
       "      <td>3.471510e+05</td>\n",
       "      <td>0.013635</td>\n",
       "      <td>5.506023</td>\n",
       "      <td>0.0</td>\n",
       "      <td>0.558580</td>\n",
       "      <td>0.483858</td>\n",
       "      <td>0.195964</td>\n",
       "      <td>0.162976</td>\n",
       "    </tr>\n",
       "    <tr>\n",
       "      <th>min</th>\n",
       "      <td>100011.000000</td>\n",
       "      <td>0.000000</td>\n",
       "      <td>0.000000</td>\n",
       "      <td>2.565000e+04</td>\n",
       "      <td>4.500000e+04</td>\n",
       "      <td>1615.500000</td>\n",
       "      <td>4.500000e+04</td>\n",
       "      <td>0.000290</td>\n",
       "      <td>21.000000</td>\n",
       "      <td>365243.0</td>\n",
       "      <td>1.000000</td>\n",
       "      <td>1.000000</td>\n",
       "      <td>0.000024</td>\n",
       "      <td>0.000527</td>\n",
       "    </tr>\n",
       "    <tr>\n",
       "      <th>25%</th>\n",
       "      <td>189622.250000</td>\n",
       "      <td>0.000000</td>\n",
       "      <td>0.000000</td>\n",
       "      <td>9.000000e+04</td>\n",
       "      <td>2.547000e+05</td>\n",
       "      <td>14503.500000</td>\n",
       "      <td>2.250000e+05</td>\n",
       "      <td>0.010032</td>\n",
       "      <td>57.000000</td>\n",
       "      <td>365243.0</td>\n",
       "      <td>1.000000</td>\n",
       "      <td>2.000000</td>\n",
       "      <td>0.363071</td>\n",
       "      <td>0.486653</td>\n",
       "    </tr>\n",
       "    <tr>\n",
       "      <th>50%</th>\n",
       "      <td>279001.500000</td>\n",
       "      <td>0.000000</td>\n",
       "      <td>0.000000</td>\n",
       "      <td>1.170000e+05</td>\n",
       "      <td>4.578345e+05</td>\n",
       "      <td>21775.500000</td>\n",
       "      <td>4.500000e+05</td>\n",
       "      <td>0.018850</td>\n",
       "      <td>60.000000</td>\n",
       "      <td>365243.0</td>\n",
       "      <td>2.000000</td>\n",
       "      <td>2.000000</td>\n",
       "      <td>0.560658</td>\n",
       "      <td>0.535276</td>\n",
       "    </tr>\n",
       "    <tr>\n",
       "      <th>75%</th>\n",
       "      <td>367053.000000</td>\n",
       "      <td>0.000000</td>\n",
       "      <td>0.000000</td>\n",
       "      <td>1.665000e+05</td>\n",
       "      <td>7.551900e+05</td>\n",
       "      <td>29943.000000</td>\n",
       "      <td>6.750000e+05</td>\n",
       "      <td>0.026392</td>\n",
       "      <td>63.000000</td>\n",
       "      <td>365243.0</td>\n",
       "      <td>2.000000</td>\n",
       "      <td>2.000000</td>\n",
       "      <td>0.662259</td>\n",
       "      <td>0.673830</td>\n",
       "    </tr>\n",
       "    <tr>\n",
       "      <th>max</th>\n",
       "      <td>456252.000000</td>\n",
       "      <td>1.000000</td>\n",
       "      <td>14.000000</td>\n",
       "      <td>2.250000e+06</td>\n",
       "      <td>3.312162e+06</td>\n",
       "      <td>225000.000000</td>\n",
       "      <td>3.150000e+06</td>\n",
       "      <td>0.072508</td>\n",
       "      <td>69.000000</td>\n",
       "      <td>365243.0</td>\n",
       "      <td>16.000000</td>\n",
       "      <td>3.000000</td>\n",
       "      <td>0.855000</td>\n",
       "      <td>0.896010</td>\n",
       "    </tr>\n",
       "  </tbody>\n",
       "</table>\n",
       "</div>"
      ],
      "text/plain": [
       "          SK_ID_CURR        TARGET  CNT_CHILDREN  AMT_INCOME_TOTAL  \\\n",
       "count   55374.000000  55374.000000  55374.000000      5.537400e+04   \n",
       "mean   278480.472424      0.053996      0.046123      1.363956e+05   \n",
       "std    102674.560705      0.226013      0.275873      7.666086e+04   \n",
       "min    100011.000000      0.000000      0.000000      2.565000e+04   \n",
       "25%    189622.250000      0.000000      0.000000      9.000000e+04   \n",
       "50%    279001.500000      0.000000      0.000000      1.170000e+05   \n",
       "75%    367053.000000      0.000000      0.000000      1.665000e+05   \n",
       "max    456252.000000      1.000000     14.000000      2.250000e+06   \n",
       "\n",
       "         AMT_CREDIT    AMT_ANNUITY  AMT_GOODS_PRICE  \\\n",
       "count  5.537400e+04   55374.000000     5.535200e+04   \n",
       "mean   5.426899e+05   23904.303202     4.882973e+05   \n",
       "std    3.784991e+05   13308.379238     3.471510e+05   \n",
       "min    4.500000e+04    1615.500000     4.500000e+04   \n",
       "25%    2.547000e+05   14503.500000     2.250000e+05   \n",
       "50%    4.578345e+05   21775.500000     4.500000e+05   \n",
       "75%    7.551900e+05   29943.000000     6.750000e+05   \n",
       "max    3.312162e+06  225000.000000     3.150000e+06   \n",
       "\n",
       "       REGION_POPULATION_RELATIVE           AGE  DAYS_EMPLOYED  \\\n",
       "count                55374.000000  55374.000000        55374.0   \n",
       "mean                     0.020749     59.248889       365243.0   \n",
       "std                      0.013635      5.506023            0.0   \n",
       "min                      0.000290     21.000000       365243.0   \n",
       "25%                      0.010032     57.000000       365243.0   \n",
       "50%                      0.018850     60.000000       365243.0   \n",
       "75%                      0.026392     63.000000       365243.0   \n",
       "max                      0.072508     69.000000       365243.0   \n",
       "\n",
       "       CNT_FAM_MEMBERS  REGION_RATING_CLIENT_W_CITY  EXT_SOURCE_2  \\\n",
       "count     55374.000000                 55374.000000  55218.000000   \n",
       "mean          1.697981                     2.068805      0.506436   \n",
       "std           0.558580                     0.483858      0.195964   \n",
       "min           1.000000                     1.000000      0.000024   \n",
       "25%           1.000000                     2.000000      0.363071   \n",
       "50%           2.000000                     2.000000      0.560658   \n",
       "75%           2.000000                     2.000000      0.662259   \n",
       "max          16.000000                     3.000000      0.855000   \n",
       "\n",
       "       EXT_SOURCE_3  \n",
       "count  55374.000000  \n",
       "mean       0.554126  \n",
       "std        0.162976  \n",
       "min        0.000527  \n",
       "25%        0.486653  \n",
       "50%        0.535276  \n",
       "75%        0.673830  \n",
       "max        0.896010  "
      ]
     },
     "execution_count": 59,
     "metadata": {},
     "output_type": "execute_result"
    }
   ],
   "source": [
    "\n",
    "ap_data[ap_data['DAYS_EMPLOYED']>360000].describe()"
   ]
  },
  {
   "cell_type": "markdown",
   "id": "dab33cb1",
   "metadata": {},
   "source": [
    "- we see that the average age of the customers whose DAYS_EMPLOYED> 356000 is 60 and other values seem to be legitimate.\n",
    "- the customers whose DAYS_EMPLOYED = 365000 are seem to be retired. so these values are given abnormal days as 365000\n",
    "- it woud be better to give these values nan. so that they wont affect with our analysis."
   ]
  },
  {
   "cell_type": "code",
   "execution_count": 60,
   "id": "919ff9ef",
   "metadata": {},
   "outputs": [],
   "source": [
    "ap_data[ap_data['DAYS_EMPLOYED']==365243]=np.NaN"
   ]
  },
  {
   "cell_type": "code",
   "execution_count": null,
   "id": "fae6b781",
   "metadata": {},
   "outputs": [],
   "source": []
  },
  {
   "cell_type": "code",
   "execution_count": null,
   "id": "b4d60d6d",
   "metadata": {},
   "outputs": [],
   "source": []
  },
  {
   "cell_type": "code",
   "execution_count": null,
   "id": "160518a1",
   "metadata": {},
   "outputs": [],
   "source": []
  },
  {
   "cell_type": "code",
   "execution_count": null,
   "id": "0be81de0",
   "metadata": {},
   "outputs": [],
   "source": []
  },
  {
   "cell_type": "markdown",
   "id": "f8bc3a38",
   "metadata": {},
   "source": [
    "### Handling Missing Values"
   ]
  },
  {
   "cell_type": "markdown",
   "id": "856a1aa5",
   "metadata": {},
   "source": [
    "* in the EXT_SOURCE_3  column the missing values can be replaced by the its median value \n",
    "* As 30% of the OCCUPATION_TYPE is missing and the mode is 'labaourers' it would be very much better to leave it as it is to preserve the character of the data set"
   ]
  },
  {
   "cell_type": "code",
   "execution_count": 24,
   "id": "cb54a04d",
   "metadata": {},
   "outputs": [
    {
     "data": {
      "text/plain": [
       "count    246546.000000\n",
       "mean          0.510853\n",
       "std           0.194844\n",
       "min           0.000527\n",
       "25%           0.370650\n",
       "50%           0.535276\n",
       "75%           0.669057\n",
       "max           0.896010\n",
       "Name: EXT_SOURCE_3, dtype: float64"
      ]
     },
     "execution_count": 24,
     "metadata": {},
     "output_type": "execute_result"
    }
   ],
   "source": [
    "ap_data['EXT_SOURCE_3'].describe()"
   ]
  },
  {
   "cell_type": "code",
   "execution_count": 25,
   "id": "4e2f2438",
   "metadata": {},
   "outputs": [],
   "source": [
    "ap_data['EXT_SOURCE_3']=ap_data['EXT_SOURCE_3'].fillna(ap_data['EXT_SOURCE_3'].median())"
   ]
  },
  {
   "cell_type": "code",
   "execution_count": 26,
   "id": "93afed02",
   "metadata": {},
   "outputs": [
    {
     "data": {
      "text/plain": [
       "Laborers                 55186\n",
       "Sales staff              32102\n",
       "Core staff               27570\n",
       "Managers                 21371\n",
       "Drivers                  18603\n",
       "High skill tech staff    11380\n",
       "Accountants               9813\n",
       "Medicine staff            8537\n",
       "Security staff            6721\n",
       "Cooking staff             5946\n",
       "Cleaning staff            4653\n",
       "Private service staff     2652\n",
       "Low-skill Laborers        2093\n",
       "Waiters/barmen staff      1348\n",
       "Secretaries               1305\n",
       "Realty agents              751\n",
       "HR staff                   563\n",
       "IT staff                   526\n",
       "Name: OCCUPATION_TYPE, dtype: int64"
      ]
     },
     "execution_count": 26,
     "metadata": {},
     "output_type": "execute_result"
    }
   ],
   "source": [
    "ap_data['OCCUPATION_TYPE'].value_counts()"
   ]
  },
  {
   "cell_type": "code",
   "execution_count": null,
   "id": "a763fd71",
   "metadata": {},
   "outputs": [],
   "source": []
  },
  {
   "cell_type": "code",
   "execution_count": 27,
   "id": "f114995c",
   "metadata": {},
   "outputs": [
    {
     "data": {
      "text/plain": [
       "SK_ID_CURR                      0.000000\n",
       "TARGET                          0.000000\n",
       "NAME_CONTRACT_TYPE              0.000000\n",
       "CODE_GENDER                     0.000000\n",
       "FLAG_OWN_CAR                    0.000000\n",
       "FLAG_OWN_REALTY                 0.000000\n",
       "CNT_CHILDREN                    0.000000\n",
       "AMT_INCOME_TOTAL                0.000000\n",
       "AMT_CREDIT                      0.000000\n",
       "AMT_ANNUITY                     0.003902\n",
       "AMT_GOODS_PRICE                 0.090403\n",
       "NAME_INCOME_TYPE                0.000000\n",
       "NAME_EDUCATION_TYPE             0.000000\n",
       "NAME_FAMILY_STATUS              0.000000\n",
       "NAME_HOUSING_TYPE               0.000000\n",
       "REGION_POPULATION_RELATIVE      0.000000\n",
       "DAYS_BIRTH                      0.000000\n",
       "DAYS_EMPLOYED                   0.000000\n",
       "OCCUPATION_TYPE                31.345545\n",
       "CNT_FAM_MEMBERS                 0.000650\n",
       "REGION_RATING_CLIENT_W_CITY     0.000000\n",
       "ORGANIZATION_TYPE               0.000000\n",
       "EXT_SOURCE_2                    0.214626\n",
       "EXT_SOURCE_3                    0.000000\n",
       "dtype: float64"
      ]
     },
     "execution_count": 27,
     "metadata": {},
     "output_type": "execute_result"
    }
   ],
   "source": [
    "ap_data.isnull().sum()/ap_data.shape[0]*100"
   ]
  },
  {
   "cell_type": "code",
   "execution_count": 28,
   "id": "901d0d2a",
   "metadata": {},
   "outputs": [
    {
     "data": {
      "text/plain": [
       "count    307511.000000\n",
       "mean          0.515695\n",
       "std           0.174736\n",
       "min           0.000527\n",
       "25%           0.417100\n",
       "50%           0.535276\n",
       "75%           0.636376\n",
       "max           0.896010\n",
       "Name: EXT_SOURCE_3, dtype: float64"
      ]
     },
     "execution_count": 28,
     "metadata": {},
     "output_type": "execute_result"
    }
   ],
   "source": [
    "ap_data['EXT_SOURCE_3'].describe()"
   ]
  },
  {
   "cell_type": "markdown",
   "id": "c0463894",
   "metadata": {},
   "source": [
    "### checking the data type of each columns"
   ]
  },
  {
   "cell_type": "code",
   "execution_count": 29,
   "id": "f3112bf4",
   "metadata": {},
   "outputs": [
    {
     "data": {
      "text/plain": [
       "SK_ID_CURR                       int64\n",
       "TARGET                           int64\n",
       "NAME_CONTRACT_TYPE              object\n",
       "CODE_GENDER                     object\n",
       "FLAG_OWN_CAR                    object\n",
       "FLAG_OWN_REALTY                 object\n",
       "CNT_CHILDREN                     int64\n",
       "AMT_INCOME_TOTAL               float64\n",
       "AMT_CREDIT                     float64\n",
       "AMT_ANNUITY                    float64\n",
       "AMT_GOODS_PRICE                float64\n",
       "NAME_INCOME_TYPE                object\n",
       "NAME_EDUCATION_TYPE             object\n",
       "NAME_FAMILY_STATUS              object\n",
       "NAME_HOUSING_TYPE               object\n",
       "REGION_POPULATION_RELATIVE     float64\n",
       "DAYS_BIRTH                       int64\n",
       "DAYS_EMPLOYED                    int64\n",
       "OCCUPATION_TYPE                 object\n",
       "CNT_FAM_MEMBERS                float64\n",
       "REGION_RATING_CLIENT_W_CITY      int64\n",
       "ORGANIZATION_TYPE               object\n",
       "EXT_SOURCE_2                   float64\n",
       "EXT_SOURCE_3                   float64\n",
       "dtype: object"
      ]
     },
     "execution_count": 29,
     "metadata": {},
     "output_type": "execute_result"
    }
   ],
   "source": [
    "ap_data.dtypes"
   ]
  },
  {
   "cell_type": "code",
   "execution_count": 30,
   "id": "889fc01a",
   "metadata": {},
   "outputs": [
    {
     "data": {
      "text/plain": [
       "Y    213312\n",
       "N     94199\n",
       "Name: FLAG_OWN_REALTY, dtype: int64"
      ]
     },
     "execution_count": 30,
     "metadata": {},
     "output_type": "execute_result"
    }
   ],
   "source": [
    "ap_data['FLAG_OWN_REALTY'].value_counts()"
   ]
  },
  {
   "cell_type": "markdown",
   "id": "3d1e34b2",
   "metadata": {},
   "source": [
    "- no change is required in the FLAG_OWN_REALTY column"
   ]
  },
  {
   "cell_type": "code",
   "execution_count": 31,
   "id": "1c83cff5",
   "metadata": {},
   "outputs": [
    {
     "data": {
      "text/plain": [
       "Married                 196432\n",
       "Single / not married     45444\n",
       "Civil marriage           29775\n",
       "Separated                19770\n",
       "Widow                    16088\n",
       "Unknown                      2\n",
       "Name: NAME_FAMILY_STATUS, dtype: int64"
      ]
     },
     "execution_count": 31,
     "metadata": {},
     "output_type": "execute_result"
    }
   ],
   "source": [
    "ap_data['NAME_FAMILY_STATUS'].value_counts()"
   ]
  },
  {
   "cell_type": "code",
   "execution_count": 32,
   "id": "9ae3b484",
   "metadata": {},
   "outputs": [],
   "source": [
    "ap_data=ap_data[~(ap_data['NAME_FAMILY_STATUS']=='Unknown')]"
   ]
  },
  {
   "cell_type": "code",
   "execution_count": 33,
   "id": "85645f2b",
   "metadata": {},
   "outputs": [
    {
     "data": {
      "text/plain": [
       "Married                 196432\n",
       "Single / not married     45444\n",
       "Civil marriage           29775\n",
       "Separated                19770\n",
       "Widow                    16088\n",
       "Name: NAME_FAMILY_STATUS, dtype: int64"
      ]
     },
     "execution_count": 33,
     "metadata": {},
     "output_type": "execute_result"
    }
   ],
   "source": [
    "ap_data['NAME_FAMILY_STATUS'].value_counts()"
   ]
  },
  {
   "cell_type": "markdown",
   "id": "898b5c3d",
   "metadata": {},
   "source": [
    "- as in 'NAME_FAMILY_STATUS' the number of unknown is ony 2, the row were deleted."
   ]
  },
  {
   "cell_type": "code",
   "execution_count": 34,
   "id": "5d605569",
   "metadata": {},
   "outputs": [
    {
     "data": {
      "text/plain": [
       "0     215369\n",
       "1      61119\n",
       "2      26749\n",
       "3       3717\n",
       "4        429\n",
       "5         84\n",
       "6         21\n",
       "7          7\n",
       "14         3\n",
       "8          2\n",
       "9          2\n",
       "12         2\n",
       "10         2\n",
       "19         2\n",
       "11         1\n",
       "Name: CNT_CHILDREN, dtype: int64"
      ]
     },
     "execution_count": 34,
     "metadata": {},
     "output_type": "execute_result"
    }
   ],
   "source": [
    "ap_data['CNT_CHILDREN'].value_counts()"
   ]
  },
  {
   "cell_type": "markdown",
   "id": "5a22fda9",
   "metadata": {},
   "source": [
    "- for better representation the 'Secondary/Secondary Sspecial' is replaced by 'Secondary'"
   ]
  },
  {
   "cell_type": "code",
   "execution_count": 35,
   "id": "86cb6456",
   "metadata": {},
   "outputs": [
    {
     "data": {
      "text/plain": [
       "Secondary / secondary special    218391\n",
       "Higher education                  74862\n",
       "Incomplete higher                 10277\n",
       "Lower secondary                    3815\n",
       "Academic degree                     164\n",
       "Name: NAME_EDUCATION_TYPE, dtype: int64"
      ]
     },
     "execution_count": 35,
     "metadata": {},
     "output_type": "execute_result"
    }
   ],
   "source": [
    "ap_data['NAME_EDUCATION_TYPE'].value_counts()"
   ]
  },
  {
   "cell_type": "code",
   "execution_count": 36,
   "id": "c656a060",
   "metadata": {},
   "outputs": [],
   "source": [
    "ap_data['NAME_EDUCATION_TYPE'] = ap_data['NAME_EDUCATION_TYPE'].replace(['Secondary / secondary special'],'Secondary')"
   ]
  },
  {
   "cell_type": "code",
   "execution_count": 37,
   "id": "1cdde34b",
   "metadata": {},
   "outputs": [
    {
     "data": {
      "text/plain": [
       "Secondary            218391\n",
       "Higher education      74862\n",
       "Incomplete higher     10277\n",
       "Lower secondary        3815\n",
       "Academic degree         164\n",
       "Name: NAME_EDUCATION_TYPE, dtype: int64"
      ]
     },
     "execution_count": 37,
     "metadata": {},
     "output_type": "execute_result"
    }
   ],
   "source": [
    "ap_data['NAME_EDUCATION_TYPE'].value_counts()"
   ]
  },
  {
   "cell_type": "markdown",
   "id": "852e946c",
   "metadata": {},
   "source": [
    "- changing the DAYS_BIRTH column to years and changing it to int data type"
   ]
  },
  {
   "cell_type": "code",
   "execution_count": 38,
   "id": "c064ae6d",
   "metadata": {},
   "outputs": [
    {
     "data": {
      "text/plain": [
       "-13749    43\n",
       "-13481    42\n",
       "-18248    41\n",
       "-10020    41\n",
       "-15771    40\n",
       "          ..\n",
       "-24898     1\n",
       "-24868     1\n",
       "-8017      1\n",
       "-25098     1\n",
       "-25061     1\n",
       "Name: DAYS_BIRTH, Length: 17460, dtype: int64"
      ]
     },
     "execution_count": 38,
     "metadata": {},
     "output_type": "execute_result"
    }
   ],
   "source": [
    "ap_data['DAYS_BIRTH'].value_counts()"
   ]
  },
  {
   "cell_type": "code",
   "execution_count": 39,
   "id": "2d424642",
   "metadata": {},
   "outputs": [],
   "source": [
    "\n",
    "ap_data['DAYS_BIRTH']=ap_data['DAYS_BIRTH']/365"
   ]
  },
  {
   "cell_type": "code",
   "execution_count": 40,
   "id": "3da07837",
   "metadata": {},
   "outputs": [
    {
     "data": {
      "text/plain": [
       "-37.668493    43\n",
       "-36.934247    42\n",
       "-49.994521    41\n",
       "-27.452055    41\n",
       "-43.208219    40\n",
       "              ..\n",
       "-68.213699     1\n",
       "-68.131507     1\n",
       "-21.964384     1\n",
       "-68.761644     1\n",
       "-68.660274     1\n",
       "Name: DAYS_BIRTH, Length: 17460, dtype: int64"
      ]
     },
     "execution_count": 40,
     "metadata": {},
     "output_type": "execute_result"
    }
   ],
   "source": [
    "ap_data['DAYS_BIRTH'].value_counts()"
   ]
  },
  {
   "cell_type": "code",
   "execution_count": 41,
   "id": "96754d6d",
   "metadata": {},
   "outputs": [],
   "source": [
    "ap_data['DAYS_BIRTH']=ap_data['DAYS_BIRTH']*-1"
   ]
  },
  {
   "cell_type": "code",
   "execution_count": 42,
   "id": "8a16bff5",
   "metadata": {},
   "outputs": [
    {
     "data": {
      "text/plain": [
       "37.668493    43\n",
       "36.934247    42\n",
       "49.994521    41\n",
       "27.452055    41\n",
       "43.208219    40\n",
       "             ..\n",
       "68.213699     1\n",
       "68.131507     1\n",
       "21.964384     1\n",
       "68.761644     1\n",
       "68.660274     1\n",
       "Name: DAYS_BIRTH, Length: 17460, dtype: int64"
      ]
     },
     "execution_count": 42,
     "metadata": {},
     "output_type": "execute_result"
    }
   ],
   "source": [
    "ap_data['DAYS_BIRTH'].value_counts()"
   ]
  },
  {
   "cell_type": "code",
   "execution_count": 43,
   "id": "f54fa8ea",
   "metadata": {},
   "outputs": [],
   "source": [
    "ap_data['DAYS_BIRTH']=ap_data['DAYS_BIRTH'].astype(int)"
   ]
  },
  {
   "cell_type": "code",
   "execution_count": 44,
   "id": "2987775c",
   "metadata": {},
   "outputs": [
    {
     "data": {
      "text/plain": [
       "38    8873\n",
       "37    8799\n",
       "39    8770\n",
       "40    8624\n",
       "36    8614\n",
       "27    8476\n",
       "41    8449\n",
       "31    8377\n",
       "43    8308\n",
       "42    8216\n",
       "28    7975\n",
       "32    7911\n",
       "44    7819\n",
       "30    7806\n",
       "35    7803\n",
       "33    7713\n",
       "29    7670\n",
       "34    7631\n",
       "54    7551\n",
       "53    7457\n",
       "46    7293\n",
       "45    7205\n",
       "47    7018\n",
       "48    6984\n",
       "56    6828\n",
       "57    6768\n",
       "52    6763\n",
       "51    6689\n",
       "55    6637\n",
       "59    6631\n",
       "49    6627\n",
       "50    6482\n",
       "58    6268\n",
       "60    6227\n",
       "62    5514\n",
       "61    5418\n",
       "63    5197\n",
       "64    5117\n",
       "26    4561\n",
       "25    4168\n",
       "23    4057\n",
       "24    3905\n",
       "65    3113\n",
       "22    2933\n",
       "66    2085\n",
       "67    2042\n",
       "21    1254\n",
       "68     866\n",
       "69      16\n",
       "20       1\n",
       "Name: DAYS_BIRTH, dtype: int64"
      ]
     },
     "execution_count": 44,
     "metadata": {},
     "output_type": "execute_result"
    }
   ],
   "source": [
    "ap_data['DAYS_BIRTH'].value_counts()"
   ]
  },
  {
   "cell_type": "code",
   "execution_count": 148,
   "id": "01020ff0",
   "metadata": {},
   "outputs": [
    {
     "name": "stderr",
     "output_type": "stream",
     "text": [
      "C:\\Users\\ASUS\\anaconda3\\lib\\site-packages\\pandas\\core\\frame.py:5039: SettingWithCopyWarning: \n",
      "A value is trying to be set on a copy of a slice from a DataFrame\n",
      "\n",
      "See the caveats in the documentation: https://pandas.pydata.org/pandas-docs/stable/user_guide/indexing.html#returning-a-view-versus-a-copy\n",
      "  return super().rename(\n"
     ]
    }
   ],
   "source": [
    "ap_data.rename(columns = {'DAYS_BIRTH':'AGE'}, inplace = True)"
   ]
  },
  {
   "cell_type": "markdown",
   "id": "3b231586",
   "metadata": {},
   "source": [
    "- we see that the average age of the customers whose DAYS_EMPLOYED> 356000 is 60 and other values seem to be legitimate.\n",
    "- the customers whose DAYS_EMPLOYED = 365000 are seem to be retired. so these values are given abnormal days as 365000\n",
    "- it woud be better to give these values nan. so that they wont affect with our analysis."
   ]
  },
  {
   "cell_type": "markdown",
   "id": "f91adf55",
   "metadata": {},
   "source": [
    "### Handling outliers\n",
    "\n"
   ]
  },
  {
   "cell_type": "code",
   "execution_count": 46,
   "id": "1173a6bf",
   "metadata": {},
   "outputs": [
    {
     "name": "stderr",
     "output_type": "stream",
     "text": [
      "C:\\Users\\ASUS\\anaconda3\\lib\\site-packages\\seaborn\\_decorators.py:36: FutureWarning: Pass the following variable as a keyword arg: x. From version 0.12, the only valid positional argument will be `data`, and passing other arguments without an explicit keyword will result in an error or misinterpretation.\n",
      "  warnings.warn(\n"
     ]
    },
    {
     "data": {
      "text/plain": [
       "<AxesSubplot:xlabel='AMT_INCOME_TOTAL'>"
      ]
     },
     "execution_count": 46,
     "metadata": {},
     "output_type": "execute_result"
    },
    {
     "data": {
      "image/png": "[encoded data removed]",
      "text/plain": [
       "<Figure size 720x864 with 1 Axes>"
      ]
     },
     "metadata": {
      "needs_background": "light"
     },
     "output_type": "display_data"
    }
   ],
   "source": [
    "plt.figure(figsize=(10,12))\n",
    "sns.boxplot(ap_data['AMT_INCOME_TOTAL'])"
   ]
  },
  {
   "cell_type": "markdown",
   "id": "b886936d",
   "metadata": {},
   "source": [
    "- for the income column there is a value that is far more greater than band of values\n",
    "- it can be done to delete the outlier from the dataset for better analysis."
   ]
  },
  {
   "cell_type": "code",
   "execution_count": 47,
   "id": "62723eba",
   "metadata": {},
   "outputs": [
    {
     "data": {
      "text/plain": [
       "count    3.075090e+05\n",
       "mean     1.687969e+05\n",
       "std      2.371234e+05\n",
       "min      2.565000e+04\n",
       "25%      1.125000e+05\n",
       "50%      1.471500e+05\n",
       "75%      2.025000e+05\n",
       "max      1.170000e+08\n",
       "Name: AMT_INCOME_TOTAL, dtype: float64"
      ]
     },
     "execution_count": 47,
     "metadata": {},
     "output_type": "execute_result"
    }
   ],
   "source": [
    "ap_data['AMT_INCOME_TOTAL'].describe()"
   ]
  },
  {
   "cell_type": "markdown",
   "id": "12dc3ddc",
   "metadata": {},
   "source": [
    "- observe that 50 percentile and 75th percentile of the income lie in the same range, but the max value of the income is too high as compared to the 50th percentile value."
   ]
  },
  {
   "cell_type": "code",
   "execution_count": 48,
   "id": "804a04fc",
   "metadata": {},
   "outputs": [],
   "source": [
    "ap_data=ap_data[ap_data['AMT_INCOME_TOTAL']!=ap_data['AMT_INCOME_TOTAL'].max()]"
   ]
  },
  {
   "cell_type": "code",
   "execution_count": 49,
   "id": "5a5271aa",
   "metadata": {},
   "outputs": [
    {
     "data": {
      "text/plain": [
       "count    3.075080e+05\n",
       "mean     1.684170e+05\n",
       "std      1.088110e+05\n",
       "min      2.565000e+04\n",
       "25%      1.125000e+05\n",
       "50%      1.471500e+05\n",
       "75%      2.025000e+05\n",
       "max      1.800009e+07\n",
       "Name: AMT_INCOME_TOTAL, dtype: float64"
      ]
     },
     "execution_count": 49,
     "metadata": {},
     "output_type": "execute_result"
    }
   ],
   "source": [
    "ap_data['AMT_INCOME_TOTAL'].describe()"
   ]
  },
  {
   "cell_type": "code",
   "execution_count": 50,
   "id": "4b0c1fa7",
   "metadata": {},
   "outputs": [
    {
     "name": "stderr",
     "output_type": "stream",
     "text": [
      "C:\\Users\\ASUS\\anaconda3\\lib\\site-packages\\seaborn\\_decorators.py:36: FutureWarning: Pass the following variable as a keyword arg: x. From version 0.12, the only valid positional argument will be `data`, and passing other arguments without an explicit keyword will result in an error or misinterpretation.\n",
      "  warnings.warn(\n"
     ]
    },
    {
     "data": {
      "text/plain": [
       "<AxesSubplot:xlabel='AMT_INCOME_TOTAL'>"
      ]
     },
     "execution_count": 50,
     "metadata": {},
     "output_type": "execute_result"
    },
    {
     "data": {
      "image/png": "[encoded data removed]",
      "text/plain": [
       "<Figure size 720x864 with 1 Axes>"
      ]
     },
     "metadata": {
      "needs_background": "light"
     },
     "output_type": "display_data"
    }
   ],
   "source": [
    "plt.figure(figsize=(10,12))\n",
    "sns.boxplot(ap_data['AMT_INCOME_TOTAL'])"
   ]
  },
  {
   "cell_type": "markdown",
   "id": "1667e15f",
   "metadata": {},
   "source": [
    "- there are still some incomes which are considerably higher than their neighbours  \n",
    "- lets check the reasons why they are higher"
   ]
  },
  {
   "cell_type": "code",
   "execution_count": 51,
   "id": "510e9b01",
   "metadata": {},
   "outputs": [
    {
     "data": {
      "text/plain": [
       "0.50    147150.0\n",
       "0.75    202500.0\n",
       "0.90    270000.0\n",
       "0.95    337500.0\n",
       "0.99    472500.0\n",
       "Name: AMT_INCOME_TOTAL, dtype: float64"
      ]
     },
     "execution_count": 51,
     "metadata": {},
     "output_type": "execute_result"
    }
   ],
   "source": [
    "ap_data['AMT_INCOME_TOTAL'].quantile([0.5,0.75,0.9,0.95,0.99])"
   ]
  },
  {
   "cell_type": "markdown",
   "id": "fcf46337",
   "metadata": {},
   "source": [
    "- we see that there is a considerable difference between the 95th percentile value and 75th percentile value. \n",
    "- we should check whether the records belonging to more than 95th percentile value are an anomaly or are real records with some value"
   ]
  },
  {
   "cell_type": "code",
   "execution_count": 52,
   "id": "c0e395cc",
   "metadata": {},
   "outputs": [
    {
     "data": {
      "text/html": [
       "<div>\n",
       "<style scoped>\n",
       "    .dataframe tbody tr th:only-of-type {\n",
       "        vertical-align: middle;\n",
       "    }\n",
       "\n",
       "    .dataframe tbody tr th {\n",
       "        vertical-align: top;\n",
       "    }\n",
       "\n",
       "    .dataframe thead th {\n",
       "        text-align: right;\n",
       "    }\n",
       "</style>\n",
       "<table border=\"1\" class=\"dataframe\">\n",
       "  <thead>\n",
       "    <tr style=\"text-align: right;\">\n",
       "      <th></th>\n",
       "      <th>SK_ID_CURR</th>\n",
       "      <th>TARGET</th>\n",
       "      <th>CNT_CHILDREN</th>\n",
       "      <th>AMT_INCOME_TOTAL</th>\n",
       "      <th>AMT_CREDIT</th>\n",
       "      <th>AMT_ANNUITY</th>\n",
       "      <th>AMT_GOODS_PRICE</th>\n",
       "      <th>REGION_POPULATION_RELATIVE</th>\n",
       "      <th>AGE</th>\n",
       "      <th>DAYS_EMPLOYED</th>\n",
       "      <th>CNT_FAM_MEMBERS</th>\n",
       "      <th>REGION_RATING_CLIENT_W_CITY</th>\n",
       "      <th>EXT_SOURCE_2</th>\n",
       "      <th>EXT_SOURCE_3</th>\n",
       "    </tr>\n",
       "  </thead>\n",
       "  <tbody>\n",
       "    <tr>\n",
       "      <th>count</th>\n",
       "      <td>3013.000000</td>\n",
       "      <td>3013.000000</td>\n",
       "      <td>3013.000000</td>\n",
       "      <td>3.013000e+03</td>\n",
       "      <td>3.013000e+03</td>\n",
       "      <td>3013.000000</td>\n",
       "      <td>3.011000e+03</td>\n",
       "      <td>3013.000000</td>\n",
       "      <td>3013.000000</td>\n",
       "      <td>3013.000000</td>\n",
       "      <td>3013.000000</td>\n",
       "      <td>3013.000000</td>\n",
       "      <td>3007.000000</td>\n",
       "      <td>3013.000000</td>\n",
       "    </tr>\n",
       "    <tr>\n",
       "      <th>mean</th>\n",
       "      <td>278105.513442</td>\n",
       "      <td>0.053435</td>\n",
       "      <td>0.502489</td>\n",
       "      <td>7.167390e+05</td>\n",
       "      <td>1.121031e+06</td>\n",
       "      <td>51191.362264</td>\n",
       "      <td>1.040764e+06</td>\n",
       "      <td>0.032687</td>\n",
       "      <td>42.600398</td>\n",
       "      <td>20481.460339</td>\n",
       "      <td>2.269499</td>\n",
       "      <td>1.632592</td>\n",
       "      <td>0.605330</td>\n",
       "      <td>0.485044</td>\n",
       "    </tr>\n",
       "    <tr>\n",
       "      <th>std</th>\n",
       "      <td>102614.839906</td>\n",
       "      <td>0.224937</td>\n",
       "      <td>0.789883</td>\n",
       "      <td>5.436731e+05</td>\n",
       "      <td>5.919476e+05</td>\n",
       "      <td>28744.135943</td>\n",
       "      <td>5.607835e+05</td>\n",
       "      <td>0.023011</td>\n",
       "      <td>9.609626</td>\n",
       "      <td>89231.503467</td>\n",
       "      <td>0.961608</td>\n",
       "      <td>0.608778</td>\n",
       "      <td>0.162845</td>\n",
       "      <td>0.179959</td>\n",
       "    </tr>\n",
       "    <tr>\n",
       "      <th>min</th>\n",
       "      <td>100059.000000</td>\n",
       "      <td>0.000000</td>\n",
       "      <td>0.000000</td>\n",
       "      <td>4.750470e+05</td>\n",
       "      <td>4.500000e+04</td>\n",
       "      <td>5598.000000</td>\n",
       "      <td>4.500000e+04</td>\n",
       "      <td>0.001276</td>\n",
       "      <td>21.000000</td>\n",
       "      <td>-15043.000000</td>\n",
       "      <td>1.000000</td>\n",
       "      <td>1.000000</td>\n",
       "      <td>0.000347</td>\n",
       "      <td>0.000527</td>\n",
       "    </tr>\n",
       "    <tr>\n",
       "      <th>25%</th>\n",
       "      <td>190177.000000</td>\n",
       "      <td>0.000000</td>\n",
       "      <td>0.000000</td>\n",
       "      <td>5.400000e+05</td>\n",
       "      <td>6.750000e+05</td>\n",
       "      <td>33921.000000</td>\n",
       "      <td>6.750000e+05</td>\n",
       "      <td>0.011657</td>\n",
       "      <td>35.000000</td>\n",
       "      <td>-3366.000000</td>\n",
       "      <td>2.000000</td>\n",
       "      <td>1.000000</td>\n",
       "      <td>0.543843</td>\n",
       "      <td>0.355639</td>\n",
       "    </tr>\n",
       "    <tr>\n",
       "      <th>50%</th>\n",
       "      <td>276979.000000</td>\n",
       "      <td>0.000000</td>\n",
       "      <td>0.000000</td>\n",
       "      <td>6.300000e+05</td>\n",
       "      <td>1.024740e+06</td>\n",
       "      <td>45954.000000</td>\n",
       "      <td>9.000000e+05</td>\n",
       "      <td>0.028663</td>\n",
       "      <td>42.000000</td>\n",
       "      <td>-1784.000000</td>\n",
       "      <td>2.000000</td>\n",
       "      <td>2.000000</td>\n",
       "      <td>0.653988</td>\n",
       "      <td>0.535276</td>\n",
       "    </tr>\n",
       "    <tr>\n",
       "      <th>75%</th>\n",
       "      <td>368649.000000</td>\n",
       "      <td>0.000000</td>\n",
       "      <td>1.000000</td>\n",
       "      <td>6.772500e+05</td>\n",
       "      <td>1.354500e+06</td>\n",
       "      <td>62365.500000</td>\n",
       "      <td>1.350000e+06</td>\n",
       "      <td>0.046220</td>\n",
       "      <td>50.000000</td>\n",
       "      <td>-789.000000</td>\n",
       "      <td>3.000000</td>\n",
       "      <td>2.000000</td>\n",
       "      <td>0.721865</td>\n",
       "      <td>0.607557</td>\n",
       "    </tr>\n",
       "    <tr>\n",
       "      <th>max</th>\n",
       "      <td>456236.000000</td>\n",
       "      <td>1.000000</td>\n",
       "      <td>5.000000</td>\n",
       "      <td>1.800009e+07</td>\n",
       "      <td>4.050000e+06</td>\n",
       "      <td>258025.500000</td>\n",
       "      <td>4.050000e+06</td>\n",
       "      <td>0.072508</td>\n",
       "      <td>68.000000</td>\n",
       "      <td>365243.000000</td>\n",
       "      <td>7.000000</td>\n",
       "      <td>3.000000</td>\n",
       "      <td>0.855000</td>\n",
       "      <td>0.865896</td>\n",
       "    </tr>\n",
       "  </tbody>\n",
       "</table>\n",
       "</div>"
      ],
      "text/plain": [
       "          SK_ID_CURR       TARGET  CNT_CHILDREN  AMT_INCOME_TOTAL  \\\n",
       "count    3013.000000  3013.000000   3013.000000      3.013000e+03   \n",
       "mean   278105.513442     0.053435      0.502489      7.167390e+05   \n",
       "std    102614.839906     0.224937      0.789883      5.436731e+05   \n",
       "min    100059.000000     0.000000      0.000000      4.750470e+05   \n",
       "25%    190177.000000     0.000000      0.000000      5.400000e+05   \n",
       "50%    276979.000000     0.000000      0.000000      6.300000e+05   \n",
       "75%    368649.000000     0.000000      1.000000      6.772500e+05   \n",
       "max    456236.000000     1.000000      5.000000      1.800009e+07   \n",
       "\n",
       "         AMT_CREDIT    AMT_ANNUITY  AMT_GOODS_PRICE  \\\n",
       "count  3.013000e+03    3013.000000     3.011000e+03   \n",
       "mean   1.121031e+06   51191.362264     1.040764e+06   \n",
       "std    5.919476e+05   28744.135943     5.607835e+05   \n",
       "min    4.500000e+04    5598.000000     4.500000e+04   \n",
       "25%    6.750000e+05   33921.000000     6.750000e+05   \n",
       "50%    1.024740e+06   45954.000000     9.000000e+05   \n",
       "75%    1.354500e+06   62365.500000     1.350000e+06   \n",
       "max    4.050000e+06  258025.500000     4.050000e+06   \n",
       "\n",
       "       REGION_POPULATION_RELATIVE          AGE  DAYS_EMPLOYED  \\\n",
       "count                 3013.000000  3013.000000    3013.000000   \n",
       "mean                     0.032687    42.600398   20481.460339   \n",
       "std                      0.023011     9.609626   89231.503467   \n",
       "min                      0.001276    21.000000  -15043.000000   \n",
       "25%                      0.011657    35.000000   -3366.000000   \n",
       "50%                      0.028663    42.000000   -1784.000000   \n",
       "75%                      0.046220    50.000000    -789.000000   \n",
       "max                      0.072508    68.000000  365243.000000   \n",
       "\n",
       "       CNT_FAM_MEMBERS  REGION_RATING_CLIENT_W_CITY  EXT_SOURCE_2  \\\n",
       "count      3013.000000                  3013.000000   3007.000000   \n",
       "mean          2.269499                     1.632592      0.605330   \n",
       "std           0.961608                     0.608778      0.162845   \n",
       "min           1.000000                     1.000000      0.000347   \n",
       "25%           2.000000                     1.000000      0.543843   \n",
       "50%           2.000000                     2.000000      0.653988   \n",
       "75%           3.000000                     2.000000      0.721865   \n",
       "max           7.000000                     3.000000      0.855000   \n",
       "\n",
       "       EXT_SOURCE_3  \n",
       "count   3013.000000  \n",
       "mean       0.485044  \n",
       "std        0.179959  \n",
       "min        0.000527  \n",
       "25%        0.355639  \n",
       "50%        0.535276  \n",
       "75%        0.607557  \n",
       "max        0.865896  "
      ]
     },
     "execution_count": 52,
     "metadata": {},
     "output_type": "execute_result"
    }
   ],
   "source": [
    "ap_data[ap_data['AMT_INCOME_TOTAL']>472500].describe()"
   ]
  },
  {
   "cell_type": "markdown",
   "id": "03d71635",
   "metadata": {},
   "source": [
    "- we see that these are real values whose incomes are considerably higher than their neighbours but removing them will adversely affect the analysis."
   ]
  },
  {
   "cell_type": "code",
   "execution_count": 53,
   "id": "6b81d36e",
   "metadata": {},
   "outputs": [
    {
     "name": "stderr",
     "output_type": "stream",
     "text": [
      "C:\\Users\\ASUS\\anaconda3\\lib\\site-packages\\seaborn\\_decorators.py:36: FutureWarning: Pass the following variable as a keyword arg: x. From version 0.12, the only valid positional argument will be `data`, and passing other arguments without an explicit keyword will result in an error or misinterpretation.\n",
      "  warnings.warn(\n"
     ]
    },
    {
     "data": {
      "text/plain": [
       "<AxesSubplot:xlabel='AMT_CREDIT'>"
      ]
     },
     "execution_count": 53,
     "metadata": {},
     "output_type": "execute_result"
    },
    {
     "data": {
      "image/png": "[encoded data removed]",
      "text/plain": [
       "<Figure size 720x864 with 1 Axes>"
      ]
     },
     "metadata": {
      "needs_background": "light"
     },
     "output_type": "display_data"
    }
   ],
   "source": [
    "#checking the AMT_CREDIT of the customers\n",
    "plt.figure(figsize=(10,12))\n",
    "sns.boxplot(ap_data['AMT_CREDIT'])"
   ]
  },
  {
   "cell_type": "markdown",
   "id": "4ccfded7",
   "metadata": {},
   "source": [
    "- we observe that the outliers present in the box plot belong to a band.\n",
    "- no single value of credit is higher than the boxplot and neighbouring outliers."
   ]
  },
  {
   "cell_type": "code",
   "execution_count": 54,
   "id": "1504b477",
   "metadata": {},
   "outputs": [
    {
     "name": "stderr",
     "output_type": "stream",
     "text": [
      "C:\\Users\\ASUS\\anaconda3\\lib\\site-packages\\seaborn\\_decorators.py:36: FutureWarning: Pass the following variable as a keyword arg: x. From version 0.12, the only valid positional argument will be `data`, and passing other arguments without an explicit keyword will result in an error or misinterpretation.\n",
      "  warnings.warn(\n"
     ]
    },
    {
     "data": {
      "text/plain": [
       "<AxesSubplot:xlabel='AGE'>"
      ]
     },
     "execution_count": 54,
     "metadata": {},
     "output_type": "execute_result"
    },
    {
     "data": {
      "image/png": "[encoded data removed]",
      "text/plain": [
       "<Figure size 720x864 with 1 Axes>"
      ]
     },
     "metadata": {
      "needs_background": "light"
     },
     "output_type": "display_data"
    }
   ],
   "source": [
    "# checking the age of the customers\n",
    "plt.figure(figsize=(10,12))\n",
    "sns.boxplot(ap_data['AGE'])"
   ]
  },
  {
   "cell_type": "markdown",
   "id": "b317ec94",
   "metadata": {},
   "source": [
    "- there are no presence of outliers in the age column\n",
    "- the customers are in the range of 20-70, which is to be expected."
   ]
  },
  {
   "cell_type": "code",
   "execution_count": 55,
   "id": "e457e84d",
   "metadata": {},
   "outputs": [
    {
     "name": "stdout",
     "output_type": "stream",
     "text": [
      "<class 'pandas.core.frame.DataFrame'>\n",
      "Int64Index: 307508 entries, 0 to 307510\n",
      "Data columns (total 24 columns):\n",
      " #   Column                       Non-Null Count   Dtype  \n",
      "---  ------                       --------------   -----  \n",
      " 0   SK_ID_CURR                   307508 non-null  int64  \n",
      " 1   TARGET                       307508 non-null  int64  \n",
      " 2   NAME_CONTRACT_TYPE           307508 non-null  object \n",
      " 3   CODE_GENDER                  307508 non-null  object \n",
      " 4   FLAG_OWN_CAR                 307508 non-null  object \n",
      " 5   FLAG_OWN_REALTY              307508 non-null  object \n",
      " 6   CNT_CHILDREN                 307508 non-null  int64  \n",
      " 7   AMT_INCOME_TOTAL             307508 non-null  float64\n",
      " 8   AMT_CREDIT                   307508 non-null  float64\n",
      " 9   AMT_ANNUITY                  307496 non-null  float64\n",
      " 10  AMT_GOODS_PRICE              307232 non-null  float64\n",
      " 11  NAME_INCOME_TYPE             307508 non-null  object \n",
      " 12  NAME_EDUCATION_TYPE          307508 non-null  object \n",
      " 13  NAME_FAMILY_STATUS           307508 non-null  object \n",
      " 14  NAME_HOUSING_TYPE            307508 non-null  object \n",
      " 15  REGION_POPULATION_RELATIVE   307508 non-null  float64\n",
      " 16  AGE                          307508 non-null  int32  \n",
      " 17  DAYS_EMPLOYED                307508 non-null  int64  \n",
      " 18  OCCUPATION_TYPE              211117 non-null  object \n",
      " 19  CNT_FAM_MEMBERS              307508 non-null  float64\n",
      " 20  REGION_RATING_CLIENT_W_CITY  307508 non-null  int64  \n",
      " 21  ORGANIZATION_TYPE            307508 non-null  object \n",
      " 22  EXT_SOURCE_2                 306848 non-null  float64\n",
      " 23  EXT_SOURCE_3                 307508 non-null  float64\n",
      "dtypes: float64(8), int32(1), int64(5), object(10)\n",
      "memory usage: 57.5+ MB\n"
     ]
    }
   ],
   "source": [
    "ap_data.info()"
   ]
  },
  {
   "cell_type": "code",
   "execution_count": 56,
   "id": "c53342b0",
   "metadata": {},
   "outputs": [
    {
     "data": {
      "text/plain": [
       "count    307508.000000\n",
       "mean      63815.676002\n",
       "std      141276.311615\n",
       "min      -17912.000000\n",
       "25%       -2760.000000\n",
       "50%       -1214.000000\n",
       "75%        -289.000000\n",
       "max      365243.000000\n",
       "Name: DAYS_EMPLOYED, dtype: float64"
      ]
     },
     "execution_count": 56,
     "metadata": {},
     "output_type": "execute_result"
    }
   ],
   "source": [
    "# checking for the DAYS_EMPLOYED column\n",
    "ap_data['DAYS_EMPLOYED'].describe()"
   ]
  },
  {
   "cell_type": "code",
   "execution_count": 57,
   "id": "6a11f713",
   "metadata": {},
   "outputs": [
    {
     "name": "stderr",
     "output_type": "stream",
     "text": [
      "C:\\Users\\ASUS\\anaconda3\\lib\\site-packages\\seaborn\\_decorators.py:36: FutureWarning: Pass the following variable as a keyword arg: x. From version 0.12, the only valid positional argument will be `data`, and passing other arguments without an explicit keyword will result in an error or misinterpretation.\n",
      "  warnings.warn(\n"
     ]
    },
    {
     "data": {
      "text/plain": [
       "<AxesSubplot:xlabel='DAYS_EMPLOYED'>"
      ]
     },
     "execution_count": 57,
     "metadata": {},
     "output_type": "execute_result"
    },
    {
     "data": {
      "image/png": "[encoded data removed]",
      "text/plain": [
       "<Figure size 432x288 with 1 Axes>"
      ]
     },
     "metadata": {
      "needs_background": "light"
     },
     "output_type": "display_data"
    }
   ],
   "source": [
    "sns.boxplot(ap_data['DAYS_EMPLOYED'])"
   ]
  },
  {
   "cell_type": "markdown",
   "id": "ba820bea",
   "metadata": {},
   "source": [
    "- there is a value which is far more greater than neighbours, checking it is 350000, which is obviously wrong.\n",
    "- the no of days corresponds to nearly 1000 years which is impossible, so it may taken as a mistake "
   ]
  },
  {
   "cell_type": "code",
   "execution_count": 58,
   "id": "70714a74",
   "metadata": {},
   "outputs": [
    {
     "data": {
      "text/plain": [
       "0.50     -1214.0\n",
       "0.75      -289.0\n",
       "0.90    365243.0\n",
       "0.95    365243.0\n",
       "0.99    365243.0\n",
       "Name: DAYS_EMPLOYED, dtype: float64"
      ]
     },
     "execution_count": 58,
     "metadata": {},
     "output_type": "execute_result"
    }
   ],
   "source": [
    "# checking values which are less than 99percentile in age\n",
    "ap_data['DAYS_EMPLOYED'].quantile([0.5,0.75,0.9,0.95,0.99])"
   ]
  },
  {
   "cell_type": "markdown",
   "id": "3d3c2691",
   "metadata": {},
   "source": [
    "### STANDARDISING THE VALAUES"
   ]
  },
  {
   "cell_type": "code",
   "execution_count": 61,
   "id": "f6522acf",
   "metadata": {},
   "outputs": [],
   "source": [
    "ap_data['DAYS_EMPLOYED']=ap_data['DAYS_EMPLOYED']*-1\n"
   ]
  },
  {
   "cell_type": "markdown",
   "id": "f3ad9f6b",
   "metadata": {},
   "source": [
    "- we see there is a value in the negative which is impossible in the case for years."
   ]
  },
  {
   "cell_type": "code",
   "execution_count": 62,
   "id": "a8f8737c",
   "metadata": {},
   "outputs": [],
   "source": [
    "ap_data['DAYS_EMPLOYED']=ap_data['DAYS_EMPLOYED']/365"
   ]
  },
  {
   "cell_type": "code",
   "execution_count": 63,
   "id": "5c45f1aa",
   "metadata": {},
   "outputs": [],
   "source": [
    "ap_data.rename(columns = {'DAYS_EMPLOYED':'YEARS_EMPLOYED'}, inplace = True)"
   ]
  },
  {
   "cell_type": "code",
   "execution_count": 64,
   "id": "76253824",
   "metadata": {},
   "outputs": [
    {
     "data": {
      "text/plain": [
       "count    252134.000000\n",
       "mean          6.532023\n",
       "std           6.406485\n",
       "min          -0.000000\n",
       "25%           2.101370\n",
       "50%           4.515068\n",
       "75%           8.698630\n",
       "max          49.073973\n",
       "Name: YEARS_EMPLOYED, dtype: float64"
      ]
     },
     "execution_count": 64,
     "metadata": {},
     "output_type": "execute_result"
    }
   ],
   "source": [
    "ap_data['YEARS_EMPLOYED'].describe()"
   ]
  },
  {
   "cell_type": "code",
   "execution_count": 65,
   "id": "ea21db82",
   "metadata": {},
   "outputs": [
    {
     "name": "stderr",
     "output_type": "stream",
     "text": [
      "C:\\Users\\ASUS\\anaconda3\\lib\\site-packages\\seaborn\\_decorators.py:36: FutureWarning: Pass the following variable as a keyword arg: x. From version 0.12, the only valid positional argument will be `data`, and passing other arguments without an explicit keyword will result in an error or misinterpretation.\n",
      "  warnings.warn(\n"
     ]
    },
    {
     "data": {
      "text/plain": [
       "<AxesSubplot:xlabel='YEARS_EMPLOYED'>"
      ]
     },
     "execution_count": 65,
     "metadata": {},
     "output_type": "execute_result"
    },
    {
     "data": {
      "image/png": "[encoded data removed]",
      "text/plain": [
       "<Figure size 720x864 with 1 Axes>"
      ]
     },
     "metadata": {
      "needs_background": "light"
     },
     "output_type": "display_data"
    }
   ],
   "source": [
    "plt.figure(figsize=(10,12))\n",
    "sns.boxplot(ap_data['YEARS_EMPLOYED'])"
   ]
  },
  {
   "cell_type": "markdown",
   "id": "68b8628e",
   "metadata": {},
   "source": [
    "- we see that there are customers who dont have an employment they are given as -0 \n",
    "- the outliers are lying in aband between 20 to 50.\n"
   ]
  },
  {
   "cell_type": "code",
   "execution_count": 66,
   "id": "7bd02fc6",
   "metadata": {},
   "outputs": [
    {
     "data": {
      "text/html": [
       "<div>\n",
       "<style scoped>\n",
       "    .dataframe tbody tr th:only-of-type {\n",
       "        vertical-align: middle;\n",
       "    }\n",
       "\n",
       "    .dataframe tbody tr th {\n",
       "        vertical-align: top;\n",
       "    }\n",
       "\n",
       "    .dataframe thead th {\n",
       "        text-align: right;\n",
       "    }\n",
       "</style>\n",
       "<table border=\"1\" class=\"dataframe\">\n",
       "  <thead>\n",
       "    <tr style=\"text-align: right;\">\n",
       "      <th></th>\n",
       "      <th>SK_ID_CURR</th>\n",
       "      <th>TARGET</th>\n",
       "      <th>NAME_CONTRACT_TYPE</th>\n",
       "      <th>CODE_GENDER</th>\n",
       "      <th>FLAG_OWN_CAR</th>\n",
       "      <th>FLAG_OWN_REALTY</th>\n",
       "      <th>CNT_CHILDREN</th>\n",
       "      <th>AMT_INCOME_TOTAL</th>\n",
       "      <th>AMT_CREDIT</th>\n",
       "      <th>AMT_ANNUITY</th>\n",
       "      <th>...</th>\n",
       "      <th>NAME_HOUSING_TYPE</th>\n",
       "      <th>REGION_POPULATION_RELATIVE</th>\n",
       "      <th>AGE</th>\n",
       "      <th>YEARS_EMPLOYED</th>\n",
       "      <th>OCCUPATION_TYPE</th>\n",
       "      <th>CNT_FAM_MEMBERS</th>\n",
       "      <th>REGION_RATING_CLIENT_W_CITY</th>\n",
       "      <th>ORGANIZATION_TYPE</th>\n",
       "      <th>EXT_SOURCE_2</th>\n",
       "      <th>EXT_SOURCE_3</th>\n",
       "    </tr>\n",
       "  </thead>\n",
       "  <tbody>\n",
       "    <tr>\n",
       "      <th>23691</th>\n",
       "      <td>127568.0</td>\n",
       "      <td>0.0</td>\n",
       "      <td>Cash loans</td>\n",
       "      <td>F</td>\n",
       "      <td>N</td>\n",
       "      <td>N</td>\n",
       "      <td>2.0</td>\n",
       "      <td>189000.0</td>\n",
       "      <td>983299.5</td>\n",
       "      <td>36571.5</td>\n",
       "      <td>...</td>\n",
       "      <td>House / apartment</td>\n",
       "      <td>0.025164</td>\n",
       "      <td>34.0</td>\n",
       "      <td>-0.0</td>\n",
       "      <td>NaN</td>\n",
       "      <td>3.0</td>\n",
       "      <td>2.0</td>\n",
       "      <td>Business Entity Type 1</td>\n",
       "      <td>0.323724</td>\n",
       "      <td>0.379100</td>\n",
       "    </tr>\n",
       "    <tr>\n",
       "      <th>121625</th>\n",
       "      <td>241013.0</td>\n",
       "      <td>1.0</td>\n",
       "      <td>Cash loans</td>\n",
       "      <td>F</td>\n",
       "      <td>N</td>\n",
       "      <td>Y</td>\n",
       "      <td>1.0</td>\n",
       "      <td>112500.0</td>\n",
       "      <td>134775.0</td>\n",
       "      <td>7438.5</td>\n",
       "      <td>...</td>\n",
       "      <td>House / apartment</td>\n",
       "      <td>0.007020</td>\n",
       "      <td>41.0</td>\n",
       "      <td>-0.0</td>\n",
       "      <td>Sales staff</td>\n",
       "      <td>3.0</td>\n",
       "      <td>2.0</td>\n",
       "      <td>Self-employed</td>\n",
       "      <td>0.558081</td>\n",
       "      <td>0.609276</td>\n",
       "    </tr>\n",
       "  </tbody>\n",
       "</table>\n",
       "<p>2 rows × 24 columns</p>\n",
       "</div>"
      ],
      "text/plain": [
       "        SK_ID_CURR  TARGET NAME_CONTRACT_TYPE CODE_GENDER FLAG_OWN_CAR  \\\n",
       "23691     127568.0     0.0         Cash loans           F            N   \n",
       "121625    241013.0     1.0         Cash loans           F            N   \n",
       "\n",
       "       FLAG_OWN_REALTY  CNT_CHILDREN  AMT_INCOME_TOTAL  AMT_CREDIT  \\\n",
       "23691                N           2.0          189000.0    983299.5   \n",
       "121625               Y           1.0          112500.0    134775.0   \n",
       "\n",
       "        AMT_ANNUITY  ...  NAME_HOUSING_TYPE REGION_POPULATION_RELATIVE   AGE  \\\n",
       "23691       36571.5  ...  House / apartment                   0.025164  34.0   \n",
       "121625       7438.5  ...  House / apartment                   0.007020  41.0   \n",
       "\n",
       "       YEARS_EMPLOYED OCCUPATION_TYPE  CNT_FAM_MEMBERS  \\\n",
       "23691            -0.0             NaN              3.0   \n",
       "121625           -0.0     Sales staff              3.0   \n",
       "\n",
       "        REGION_RATING_CLIENT_W_CITY       ORGANIZATION_TYPE EXT_SOURCE_2  \\\n",
       "23691                           2.0  Business Entity Type 1     0.323724   \n",
       "121625                          2.0           Self-employed     0.558081   \n",
       "\n",
       "        EXT_SOURCE_3  \n",
       "23691       0.379100  \n",
       "121625      0.609276  \n",
       "\n",
       "[2 rows x 24 columns]"
      ]
     },
     "execution_count": 66,
     "metadata": {},
     "output_type": "execute_result"
    }
   ],
   "source": [
    "# checking the values for which YEARS-EMPLOYED==0\n",
    "ap_data[ap_data['YEARS_EMPLOYED']==0]"
   ]
  },
  {
   "cell_type": "markdown",
   "id": "fa5a641b",
   "metadata": {},
   "source": [
    "- there are two values who have years employed as negative 0.\n",
    "- they are much hindrance for better analysis. It would be better to delete thhese values"
   ]
  },
  {
   "cell_type": "code",
   "execution_count": 67,
   "id": "2c1d9a67",
   "metadata": {},
   "outputs": [],
   "source": [
    "ap_data=ap_data[~(ap_data['YEARS_EMPLOYED']==-0.0)]"
   ]
  },
  {
   "cell_type": "code",
   "execution_count": 68,
   "id": "3ccecb7b",
   "metadata": {},
   "outputs": [
    {
     "name": "stderr",
     "output_type": "stream",
     "text": [
      "C:\\Users\\ASUS\\anaconda3\\lib\\site-packages\\seaborn\\_decorators.py:36: FutureWarning: Pass the following variable as a keyword arg: x. From version 0.12, the only valid positional argument will be `data`, and passing other arguments without an explicit keyword will result in an error or misinterpretation.\n",
      "  warnings.warn(\n"
     ]
    },
    {
     "data": {
      "text/plain": [
       "<AxesSubplot:xlabel='YEARS_EMPLOYED'>"
      ]
     },
     "execution_count": 68,
     "metadata": {},
     "output_type": "execute_result"
    },
    {
     "data": {
      "image/png": "[encoded data removed]",
      "text/plain": [
       "<Figure size 720x864 with 1 Axes>"
      ]
     },
     "metadata": {
      "needs_background": "light"
     },
     "output_type": "display_data"
    }
   ],
   "source": [
    "#checking for outliers again\n",
    "plt.figure(figsize=(10,12))\n",
    "sns.boxplot(ap_data['YEARS_EMPLOYED'])"
   ]
  },
  {
   "cell_type": "code",
   "execution_count": 69,
   "id": "a41fb55b",
   "metadata": {},
   "outputs": [
    {
     "name": "stderr",
     "output_type": "stream",
     "text": [
      "C:\\Users\\ASUS\\anaconda3\\lib\\site-packages\\seaborn\\_decorators.py:36: FutureWarning: Pass the following variable as a keyword arg: x. From version 0.12, the only valid positional argument will be `data`, and passing other arguments without an explicit keyword will result in an error or misinterpretation.\n",
      "  warnings.warn(\n"
     ]
    },
    {
     "data": {
      "text/plain": [
       "<AxesSubplot:xlabel='EXT_SOURCE_2'>"
      ]
     },
     "execution_count": 69,
     "metadata": {},
     "output_type": "execute_result"
    },
    {
     "data": {
      "image/png": "[encoded data removed]",
      "text/plain": [
       "<Figure size 432x288 with 1 Axes>"
      ]
     },
     "metadata": {
      "needs_background": "light"
     },
     "output_type": "display_data"
    }
   ],
   "source": [
    "# checking the EXT_SOURCE_2 of the customers\n",
    "sns.boxplot(ap_data['EXT_SOURCE_2'])"
   ]
  },
  {
   "cell_type": "markdown",
   "id": "6975857c",
   "metadata": {},
   "source": [
    "- ALL VALUES LIE BETWEEN 0 and 1 there are no outliers in ths columns"
   ]
  },
  {
   "cell_type": "code",
   "execution_count": 70,
   "id": "7884ae8a",
   "metadata": {},
   "outputs": [
    {
     "name": "stderr",
     "output_type": "stream",
     "text": [
      "C:\\Users\\ASUS\\anaconda3\\lib\\site-packages\\seaborn\\_decorators.py:36: FutureWarning: Pass the following variable as a keyword arg: x. From version 0.12, the only valid positional argument will be `data`, and passing other arguments without an explicit keyword will result in an error or misinterpretation.\n",
      "  warnings.warn(\n"
     ]
    },
    {
     "data": {
      "text/plain": [
       "<AxesSubplot:xlabel='EXT_SOURCE_3'>"
      ]
     },
     "execution_count": 70,
     "metadata": {},
     "output_type": "execute_result"
    },
    {
     "data": {
      "image/png": "[encoded data removed]",
      "text/plain": [
       "<Figure size 432x288 with 1 Axes>"
      ]
     },
     "metadata": {
      "needs_background": "light"
     },
     "output_type": "display_data"
    }
   ],
   "source": [
    "# checking the EXT_SOURCE_3 of the customers\n",
    "sns.boxplot(ap_data['EXT_SOURCE_3'])"
   ]
  },
  {
   "cell_type": "markdown",
   "id": "8c828637",
   "metadata": {},
   "source": [
    "- all values lie between 0 and 1 \n",
    "- the outliers lie in a considerable band closer to the left IQR\n",
    "- no changes required"
   ]
  },
  {
   "cell_type": "markdown",
   "id": "7925c705",
   "metadata": {},
   "source": [
    "### binning the continous variables"
   ]
  },
  {
   "cell_type": "code",
   "execution_count": 71,
   "id": "284d1dd7",
   "metadata": {},
   "outputs": [
    {
     "name": "stdout",
     "output_type": "stream",
     "text": [
      "<class 'pandas.core.frame.DataFrame'>\n",
      "Int64Index: 307506 entries, 0 to 307510\n",
      "Data columns (total 24 columns):\n",
      " #   Column                       Non-Null Count   Dtype  \n",
      "---  ------                       --------------   -----  \n",
      " 0   SK_ID_CURR                   252132 non-null  float64\n",
      " 1   TARGET                       252132 non-null  float64\n",
      " 2   NAME_CONTRACT_TYPE           252132 non-null  object \n",
      " 3   CODE_GENDER                  252132 non-null  object \n",
      " 4   FLAG_OWN_CAR                 252132 non-null  object \n",
      " 5   FLAG_OWN_REALTY              252132 non-null  object \n",
      " 6   CNT_CHILDREN                 252132 non-null  float64\n",
      " 7   AMT_INCOME_TOTAL             252132 non-null  float64\n",
      " 8   AMT_CREDIT                   252132 non-null  float64\n",
      " 9   AMT_ANNUITY                  252120 non-null  float64\n",
      " 10  AMT_GOODS_PRICE              251878 non-null  float64\n",
      " 11  NAME_INCOME_TYPE             252132 non-null  object \n",
      " 12  NAME_EDUCATION_TYPE          252132 non-null  object \n",
      " 13  NAME_FAMILY_STATUS           252132 non-null  object \n",
      " 14  NAME_HOUSING_TYPE            252132 non-null  object \n",
      " 15  REGION_POPULATION_RELATIVE   252132 non-null  float64\n",
      " 16  AGE                          252132 non-null  float64\n",
      " 17  YEARS_EMPLOYED               252132 non-null  float64\n",
      " 18  OCCUPATION_TYPE              211114 non-null  object \n",
      " 19  CNT_FAM_MEMBERS              252132 non-null  float64\n",
      " 20  REGION_RATING_CLIENT_W_CITY  252132 non-null  float64\n",
      " 21  ORGANIZATION_TYPE            252132 non-null  object \n",
      " 22  EXT_SOURCE_2                 251628 non-null  float64\n",
      " 23  EXT_SOURCE_3                 252132 non-null  float64\n",
      "dtypes: float64(14), object(10)\n",
      "memory usage: 58.7+ MB\n"
     ]
    }
   ],
   "source": [
    "ap_data.info()"
   ]
  },
  {
   "cell_type": "code",
   "execution_count": null,
   "id": "43db5fff",
   "metadata": {},
   "outputs": [],
   "source": []
  },
  {
   "cell_type": "code",
   "execution_count": 72,
   "id": "90a9fe81",
   "metadata": {},
   "outputs": [
    {
     "data": {
      "text/plain": [
       "count    252132.000000\n",
       "mean         39.963245\n",
       "std          10.033250\n",
       "min          20.000000\n",
       "25%          32.000000\n",
       "50%          39.000000\n",
       "75%          48.000000\n",
       "max          69.000000\n",
       "Name: AGE, dtype: float64"
      ]
     },
     "execution_count": 72,
     "metadata": {},
     "output_type": "execute_result"
    }
   ],
   "source": [
    "ap_data['AGE'].describe()"
   ]
  },
  {
   "cell_type": "code",
   "execution_count": 73,
   "id": "4bdc2646",
   "metadata": {},
   "outputs": [],
   "source": [
    "df=pd.cut(ap_data['AGE'], bins=[20,30,40,50,60,70],labels=['20-30','30-40','40-50','50-60','60-70'])"
   ]
  },
  {
   "cell_type": "code",
   "execution_count": 74,
   "id": "8afc9c4d",
   "metadata": {},
   "outputs": [
    {
     "data": {
      "text/plain": [
       "0         20-30\n",
       "1         40-50\n",
       "2         50-60\n",
       "3         50-60\n",
       "4         50-60\n",
       "          ...  \n",
       "307506    20-30\n",
       "307507      NaN\n",
       "307508    40-50\n",
       "307509    30-40\n",
       "307510    40-50\n",
       "Name: AGE, Length: 307506, dtype: category\n",
       "Categories (5, object): ['20-30' < '30-40' < '40-50' < '50-60' < '60-70']"
      ]
     },
     "execution_count": 74,
     "metadata": {},
     "output_type": "execute_result"
    }
   ],
   "source": [
    "df"
   ]
  },
  {
   "cell_type": "code",
   "execution_count": 75,
   "id": "3ee82a50",
   "metadata": {},
   "outputs": [
    {
     "data": {
      "text/plain": [
       "30-40    82550\n",
       "40-50    72176\n",
       "20-30    52634\n",
       "50-60    40290\n",
       "60-70     4481\n",
       "Name: AGE, dtype: int64"
      ]
     },
     "execution_count": 75,
     "metadata": {},
     "output_type": "execute_result"
    }
   ],
   "source": [
    "df.value_counts()"
   ]
  },
  {
   "cell_type": "code",
   "execution_count": 76,
   "id": "d3095a86",
   "metadata": {},
   "outputs": [],
   "source": [
    "ap_data['AGE_GROUP']=df"
   ]
  },
  {
   "cell_type": "code",
   "execution_count": 77,
   "id": "69cb9a24",
   "metadata": {},
   "outputs": [
    {
     "data": {
      "text/html": [
       "<div>\n",
       "<style scoped>\n",
       "    .dataframe tbody tr th:only-of-type {\n",
       "        vertical-align: middle;\n",
       "    }\n",
       "\n",
       "    .dataframe tbody tr th {\n",
       "        vertical-align: top;\n",
       "    }\n",
       "\n",
       "    .dataframe thead th {\n",
       "        text-align: right;\n",
       "    }\n",
       "</style>\n",
       "<table border=\"1\" class=\"dataframe\">\n",
       "  <thead>\n",
       "    <tr style=\"text-align: right;\">\n",
       "      <th></th>\n",
       "      <th>SK_ID_CURR</th>\n",
       "      <th>TARGET</th>\n",
       "      <th>NAME_CONTRACT_TYPE</th>\n",
       "      <th>CODE_GENDER</th>\n",
       "      <th>FLAG_OWN_CAR</th>\n",
       "      <th>FLAG_OWN_REALTY</th>\n",
       "      <th>CNT_CHILDREN</th>\n",
       "      <th>AMT_INCOME_TOTAL</th>\n",
       "      <th>AMT_CREDIT</th>\n",
       "      <th>AMT_ANNUITY</th>\n",
       "      <th>...</th>\n",
       "      <th>REGION_POPULATION_RELATIVE</th>\n",
       "      <th>AGE</th>\n",
       "      <th>YEARS_EMPLOYED</th>\n",
       "      <th>OCCUPATION_TYPE</th>\n",
       "      <th>CNT_FAM_MEMBERS</th>\n",
       "      <th>REGION_RATING_CLIENT_W_CITY</th>\n",
       "      <th>ORGANIZATION_TYPE</th>\n",
       "      <th>EXT_SOURCE_2</th>\n",
       "      <th>EXT_SOURCE_3</th>\n",
       "      <th>AGE_GROUP</th>\n",
       "    </tr>\n",
       "  </thead>\n",
       "  <tbody>\n",
       "    <tr>\n",
       "      <th>0</th>\n",
       "      <td>100002.0</td>\n",
       "      <td>1.0</td>\n",
       "      <td>Cash loans</td>\n",
       "      <td>M</td>\n",
       "      <td>N</td>\n",
       "      <td>Y</td>\n",
       "      <td>0.0</td>\n",
       "      <td>202500.0</td>\n",
       "      <td>406597.5</td>\n",
       "      <td>24700.5</td>\n",
       "      <td>...</td>\n",
       "      <td>0.018801</td>\n",
       "      <td>25.0</td>\n",
       "      <td>1.745205</td>\n",
       "      <td>Laborers</td>\n",
       "      <td>1.0</td>\n",
       "      <td>2.0</td>\n",
       "      <td>Business Entity Type 3</td>\n",
       "      <td>0.262949</td>\n",
       "      <td>0.139376</td>\n",
       "      <td>20-30</td>\n",
       "    </tr>\n",
       "    <tr>\n",
       "      <th>1</th>\n",
       "      <td>100003.0</td>\n",
       "      <td>0.0</td>\n",
       "      <td>Cash loans</td>\n",
       "      <td>F</td>\n",
       "      <td>N</td>\n",
       "      <td>N</td>\n",
       "      <td>0.0</td>\n",
       "      <td>270000.0</td>\n",
       "      <td>1293502.5</td>\n",
       "      <td>35698.5</td>\n",
       "      <td>...</td>\n",
       "      <td>0.003541</td>\n",
       "      <td>45.0</td>\n",
       "      <td>3.254795</td>\n",
       "      <td>Core staff</td>\n",
       "      <td>2.0</td>\n",
       "      <td>1.0</td>\n",
       "      <td>School</td>\n",
       "      <td>0.622246</td>\n",
       "      <td>0.535276</td>\n",
       "      <td>40-50</td>\n",
       "    </tr>\n",
       "    <tr>\n",
       "      <th>2</th>\n",
       "      <td>100004.0</td>\n",
       "      <td>0.0</td>\n",
       "      <td>Revolving loans</td>\n",
       "      <td>M</td>\n",
       "      <td>Y</td>\n",
       "      <td>Y</td>\n",
       "      <td>0.0</td>\n",
       "      <td>67500.0</td>\n",
       "      <td>135000.0</td>\n",
       "      <td>6750.0</td>\n",
       "      <td>...</td>\n",
       "      <td>0.010032</td>\n",
       "      <td>52.0</td>\n",
       "      <td>0.616438</td>\n",
       "      <td>Laborers</td>\n",
       "      <td>1.0</td>\n",
       "      <td>2.0</td>\n",
       "      <td>Government</td>\n",
       "      <td>0.555912</td>\n",
       "      <td>0.729567</td>\n",
       "      <td>50-60</td>\n",
       "    </tr>\n",
       "    <tr>\n",
       "      <th>3</th>\n",
       "      <td>100006.0</td>\n",
       "      <td>0.0</td>\n",
       "      <td>Cash loans</td>\n",
       "      <td>F</td>\n",
       "      <td>N</td>\n",
       "      <td>Y</td>\n",
       "      <td>0.0</td>\n",
       "      <td>135000.0</td>\n",
       "      <td>312682.5</td>\n",
       "      <td>29686.5</td>\n",
       "      <td>...</td>\n",
       "      <td>0.008019</td>\n",
       "      <td>52.0</td>\n",
       "      <td>8.326027</td>\n",
       "      <td>Laborers</td>\n",
       "      <td>2.0</td>\n",
       "      <td>2.0</td>\n",
       "      <td>Business Entity Type 3</td>\n",
       "      <td>0.650442</td>\n",
       "      <td>0.535276</td>\n",
       "      <td>50-60</td>\n",
       "    </tr>\n",
       "    <tr>\n",
       "      <th>4</th>\n",
       "      <td>100007.0</td>\n",
       "      <td>0.0</td>\n",
       "      <td>Cash loans</td>\n",
       "      <td>M</td>\n",
       "      <td>N</td>\n",
       "      <td>Y</td>\n",
       "      <td>0.0</td>\n",
       "      <td>121500.0</td>\n",
       "      <td>513000.0</td>\n",
       "      <td>21865.5</td>\n",
       "      <td>...</td>\n",
       "      <td>0.028663</td>\n",
       "      <td>54.0</td>\n",
       "      <td>8.323288</td>\n",
       "      <td>Core staff</td>\n",
       "      <td>1.0</td>\n",
       "      <td>2.0</td>\n",
       "      <td>Religion</td>\n",
       "      <td>0.322738</td>\n",
       "      <td>0.535276</td>\n",
       "      <td>50-60</td>\n",
       "    </tr>\n",
       "  </tbody>\n",
       "</table>\n",
       "<p>5 rows × 25 columns</p>\n",
       "</div>"
      ],
      "text/plain": [
       "   SK_ID_CURR  TARGET NAME_CONTRACT_TYPE CODE_GENDER FLAG_OWN_CAR  \\\n",
       "0    100002.0     1.0         Cash loans           M            N   \n",
       "1    100003.0     0.0         Cash loans           F            N   \n",
       "2    100004.0     0.0    Revolving loans           M            Y   \n",
       "3    100006.0     0.0         Cash loans           F            N   \n",
       "4    100007.0     0.0         Cash loans           M            N   \n",
       "\n",
       "  FLAG_OWN_REALTY  CNT_CHILDREN  AMT_INCOME_TOTAL  AMT_CREDIT  AMT_ANNUITY  \\\n",
       "0               Y           0.0          202500.0    406597.5      24700.5   \n",
       "1               N           0.0          270000.0   1293502.5      35698.5   \n",
       "2               Y           0.0           67500.0    135000.0       6750.0   \n",
       "3               Y           0.0          135000.0    312682.5      29686.5   \n",
       "4               Y           0.0          121500.0    513000.0      21865.5   \n",
       "\n",
       "   ...  REGION_POPULATION_RELATIVE   AGE YEARS_EMPLOYED OCCUPATION_TYPE  \\\n",
       "0  ...                    0.018801  25.0       1.745205        Laborers   \n",
       "1  ...                    0.003541  45.0       3.254795      Core staff   \n",
       "2  ...                    0.010032  52.0       0.616438        Laborers   \n",
       "3  ...                    0.008019  52.0       8.326027        Laborers   \n",
       "4  ...                    0.028663  54.0       8.323288      Core staff   \n",
       "\n",
       "  CNT_FAM_MEMBERS  REGION_RATING_CLIENT_W_CITY       ORGANIZATION_TYPE  \\\n",
       "0             1.0                          2.0  Business Entity Type 3   \n",
       "1             2.0                          1.0                  School   \n",
       "2             1.0                          2.0              Government   \n",
       "3             2.0                          2.0  Business Entity Type 3   \n",
       "4             1.0                          2.0                Religion   \n",
       "\n",
       "   EXT_SOURCE_2 EXT_SOURCE_3  AGE_GROUP  \n",
       "0      0.262949     0.139376      20-30  \n",
       "1      0.622246     0.535276      40-50  \n",
       "2      0.555912     0.729567      50-60  \n",
       "3      0.650442     0.535276      50-60  \n",
       "4      0.322738     0.535276      50-60  \n",
       "\n",
       "[5 rows x 25 columns]"
      ]
     },
     "execution_count": 77,
     "metadata": {},
     "output_type": "execute_result"
    }
   ],
   "source": [
    "ap_data.head()"
   ]
  },
  {
   "cell_type": "code",
   "execution_count": 78,
   "id": "a6e6cbdb",
   "metadata": {},
   "outputs": [
    {
     "data": {
      "text/plain": [
       "count    252132.000000\n",
       "mean          6.532075\n",
       "std           6.406484\n",
       "min           0.002740\n",
       "25%           2.101370\n",
       "50%           4.515068\n",
       "75%           8.699315\n",
       "max          49.073973\n",
       "Name: YEARS_EMPLOYED, dtype: float64"
      ]
     },
     "execution_count": 78,
     "metadata": {},
     "output_type": "execute_result"
    }
   ],
   "source": [
    "ap_data['YEARS_EMPLOYED'].describe()"
   ]
  },
  {
   "cell_type": "code",
   "execution_count": 79,
   "id": "c4e234a7",
   "metadata": {},
   "outputs": [],
   "source": [
    "df1=pd.cut(ap_data['YEARS_EMPLOYED'], bins=4)"
   ]
  },
  {
   "cell_type": "code",
   "execution_count": 80,
   "id": "26d40a09",
   "metadata": {},
   "outputs": [
    {
     "data": {
      "text/plain": [
       "0         (-0.0463, 12.271]\n",
       "1         (-0.0463, 12.271]\n",
       "2         (-0.0463, 12.271]\n",
       "3         (-0.0463, 12.271]\n",
       "4         (-0.0463, 12.271]\n",
       "                ...        \n",
       "307506    (-0.0463, 12.271]\n",
       "307507                  NaN\n",
       "307508     (12.271, 24.538]\n",
       "307509     (12.271, 24.538]\n",
       "307510    (-0.0463, 12.271]\n",
       "Name: YEARS_EMPLOYED, Length: 307506, dtype: category\n",
       "Categories (4, interval[float64, right]): [(-0.0463, 12.271] < (12.271, 24.538] < (24.538, 36.806] < (36.806, 49.074]]"
      ]
     },
     "execution_count": 80,
     "metadata": {},
     "output_type": "execute_result"
    }
   ],
   "source": [
    "df1"
   ]
  },
  {
   "cell_type": "code",
   "execution_count": 81,
   "id": "3180dfe3",
   "metadata": {},
   "outputs": [
    {
     "data": {
      "text/plain": [
       "(-0.0463, 12.271]    215916\n",
       "(12.271, 24.538]      29536\n",
       "(24.538, 36.806]       6032\n",
       "(36.806, 49.074]        648\n",
       "Name: YEARS_EMPLOYED, dtype: int64"
      ]
     },
     "execution_count": 81,
     "metadata": {},
     "output_type": "execute_result"
    }
   ],
   "source": [
    "df1.value_counts()"
   ]
  },
  {
   "cell_type": "code",
   "execution_count": 82,
   "id": "0be50205",
   "metadata": {},
   "outputs": [],
   "source": [
    "df2=pd.cut(ap_data['YEARS_EMPLOYED'], bins=[0,12,24,36,50],labels=['G1','G2','G3','G4'])"
   ]
  },
  {
   "cell_type": "code",
   "execution_count": 83,
   "id": "bcd913ae",
   "metadata": {},
   "outputs": [
    {
     "data": {
      "text/plain": [
       "G1    214431\n",
       "G2     30475\n",
       "G3      6418\n",
       "G4       808\n",
       "Name: YEARS_EMPLOYED, dtype: int64"
      ]
     },
     "execution_count": 83,
     "metadata": {},
     "output_type": "execute_result"
    }
   ],
   "source": [
    "df2.value_counts()"
   ]
  },
  {
   "cell_type": "code",
   "execution_count": 84,
   "id": "2dc4ee66",
   "metadata": {},
   "outputs": [],
   "source": [
    "ap_data['EMPLOYED_YEAR_GROUP']=df2"
   ]
  },
  {
   "cell_type": "code",
   "execution_count": 85,
   "id": "9bb9cb6b",
   "metadata": {},
   "outputs": [
    {
     "data": {
      "text/html": [
       "<div>\n",
       "<style scoped>\n",
       "    .dataframe tbody tr th:only-of-type {\n",
       "        vertical-align: middle;\n",
       "    }\n",
       "\n",
       "    .dataframe tbody tr th {\n",
       "        vertical-align: top;\n",
       "    }\n",
       "\n",
       "    .dataframe thead th {\n",
       "        text-align: right;\n",
       "    }\n",
       "</style>\n",
       "<table border=\"1\" class=\"dataframe\">\n",
       "  <thead>\n",
       "    <tr style=\"text-align: right;\">\n",
       "      <th></th>\n",
       "      <th>SK_ID_CURR</th>\n",
       "      <th>TARGET</th>\n",
       "      <th>NAME_CONTRACT_TYPE</th>\n",
       "      <th>CODE_GENDER</th>\n",
       "      <th>FLAG_OWN_CAR</th>\n",
       "      <th>FLAG_OWN_REALTY</th>\n",
       "      <th>CNT_CHILDREN</th>\n",
       "      <th>AMT_INCOME_TOTAL</th>\n",
       "      <th>AMT_CREDIT</th>\n",
       "      <th>AMT_ANNUITY</th>\n",
       "      <th>...</th>\n",
       "      <th>AGE</th>\n",
       "      <th>YEARS_EMPLOYED</th>\n",
       "      <th>OCCUPATION_TYPE</th>\n",
       "      <th>CNT_FAM_MEMBERS</th>\n",
       "      <th>REGION_RATING_CLIENT_W_CITY</th>\n",
       "      <th>ORGANIZATION_TYPE</th>\n",
       "      <th>EXT_SOURCE_2</th>\n",
       "      <th>EXT_SOURCE_3</th>\n",
       "      <th>AGE_GROUP</th>\n",
       "      <th>EMPLOYED_YEAR_GROUP</th>\n",
       "    </tr>\n",
       "  </thead>\n",
       "  <tbody>\n",
       "    <tr>\n",
       "      <th>0</th>\n",
       "      <td>100002.0</td>\n",
       "      <td>1.0</td>\n",
       "      <td>Cash loans</td>\n",
       "      <td>M</td>\n",
       "      <td>N</td>\n",
       "      <td>Y</td>\n",
       "      <td>0.0</td>\n",
       "      <td>202500.0</td>\n",
       "      <td>406597.5</td>\n",
       "      <td>24700.5</td>\n",
       "      <td>...</td>\n",
       "      <td>25.0</td>\n",
       "      <td>1.745205</td>\n",
       "      <td>Laborers</td>\n",
       "      <td>1.0</td>\n",
       "      <td>2.0</td>\n",
       "      <td>Business Entity Type 3</td>\n",
       "      <td>0.262949</td>\n",
       "      <td>0.139376</td>\n",
       "      <td>20-30</td>\n",
       "      <td>G1</td>\n",
       "    </tr>\n",
       "    <tr>\n",
       "      <th>1</th>\n",
       "      <td>100003.0</td>\n",
       "      <td>0.0</td>\n",
       "      <td>Cash loans</td>\n",
       "      <td>F</td>\n",
       "      <td>N</td>\n",
       "      <td>N</td>\n",
       "      <td>0.0</td>\n",
       "      <td>270000.0</td>\n",
       "      <td>1293502.5</td>\n",
       "      <td>35698.5</td>\n",
       "      <td>...</td>\n",
       "      <td>45.0</td>\n",
       "      <td>3.254795</td>\n",
       "      <td>Core staff</td>\n",
       "      <td>2.0</td>\n",
       "      <td>1.0</td>\n",
       "      <td>School</td>\n",
       "      <td>0.622246</td>\n",
       "      <td>0.535276</td>\n",
       "      <td>40-50</td>\n",
       "      <td>G1</td>\n",
       "    </tr>\n",
       "    <tr>\n",
       "      <th>2</th>\n",
       "      <td>100004.0</td>\n",
       "      <td>0.0</td>\n",
       "      <td>Revolving loans</td>\n",
       "      <td>M</td>\n",
       "      <td>Y</td>\n",
       "      <td>Y</td>\n",
       "      <td>0.0</td>\n",
       "      <td>67500.0</td>\n",
       "      <td>135000.0</td>\n",
       "      <td>6750.0</td>\n",
       "      <td>...</td>\n",
       "      <td>52.0</td>\n",
       "      <td>0.616438</td>\n",
       "      <td>Laborers</td>\n",
       "      <td>1.0</td>\n",
       "      <td>2.0</td>\n",
       "      <td>Government</td>\n",
       "      <td>0.555912</td>\n",
       "      <td>0.729567</td>\n",
       "      <td>50-60</td>\n",
       "      <td>G1</td>\n",
       "    </tr>\n",
       "    <tr>\n",
       "      <th>3</th>\n",
       "      <td>100006.0</td>\n",
       "      <td>0.0</td>\n",
       "      <td>Cash loans</td>\n",
       "      <td>F</td>\n",
       "      <td>N</td>\n",
       "      <td>Y</td>\n",
       "      <td>0.0</td>\n",
       "      <td>135000.0</td>\n",
       "      <td>312682.5</td>\n",
       "      <td>29686.5</td>\n",
       "      <td>...</td>\n",
       "      <td>52.0</td>\n",
       "      <td>8.326027</td>\n",
       "      <td>Laborers</td>\n",
       "      <td>2.0</td>\n",
       "      <td>2.0</td>\n",
       "      <td>Business Entity Type 3</td>\n",
       "      <td>0.650442</td>\n",
       "      <td>0.535276</td>\n",
       "      <td>50-60</td>\n",
       "      <td>G1</td>\n",
       "    </tr>\n",
       "    <tr>\n",
       "      <th>4</th>\n",
       "      <td>100007.0</td>\n",
       "      <td>0.0</td>\n",
       "      <td>Cash loans</td>\n",
       "      <td>M</td>\n",
       "      <td>N</td>\n",
       "      <td>Y</td>\n",
       "      <td>0.0</td>\n",
       "      <td>121500.0</td>\n",
       "      <td>513000.0</td>\n",
       "      <td>21865.5</td>\n",
       "      <td>...</td>\n",
       "      <td>54.0</td>\n",
       "      <td>8.323288</td>\n",
       "      <td>Core staff</td>\n",
       "      <td>1.0</td>\n",
       "      <td>2.0</td>\n",
       "      <td>Religion</td>\n",
       "      <td>0.322738</td>\n",
       "      <td>0.535276</td>\n",
       "      <td>50-60</td>\n",
       "      <td>G1</td>\n",
       "    </tr>\n",
       "    <tr>\n",
       "      <th>...</th>\n",
       "      <td>...</td>\n",
       "      <td>...</td>\n",
       "      <td>...</td>\n",
       "      <td>...</td>\n",
       "      <td>...</td>\n",
       "      <td>...</td>\n",
       "      <td>...</td>\n",
       "      <td>...</td>\n",
       "      <td>...</td>\n",
       "      <td>...</td>\n",
       "      <td>...</td>\n",
       "      <td>...</td>\n",
       "      <td>...</td>\n",
       "      <td>...</td>\n",
       "      <td>...</td>\n",
       "      <td>...</td>\n",
       "      <td>...</td>\n",
       "      <td>...</td>\n",
       "      <td>...</td>\n",
       "      <td>...</td>\n",
       "      <td>...</td>\n",
       "    </tr>\n",
       "    <tr>\n",
       "      <th>307506</th>\n",
       "      <td>456251.0</td>\n",
       "      <td>0.0</td>\n",
       "      <td>Cash loans</td>\n",
       "      <td>M</td>\n",
       "      <td>N</td>\n",
       "      <td>N</td>\n",
       "      <td>0.0</td>\n",
       "      <td>157500.0</td>\n",
       "      <td>254700.0</td>\n",
       "      <td>27558.0</td>\n",
       "      <td>...</td>\n",
       "      <td>25.0</td>\n",
       "      <td>0.646575</td>\n",
       "      <td>Sales staff</td>\n",
       "      <td>1.0</td>\n",
       "      <td>1.0</td>\n",
       "      <td>Services</td>\n",
       "      <td>0.681632</td>\n",
       "      <td>0.535276</td>\n",
       "      <td>20-30</td>\n",
       "      <td>G1</td>\n",
       "    </tr>\n",
       "    <tr>\n",
       "      <th>307507</th>\n",
       "      <td>NaN</td>\n",
       "      <td>NaN</td>\n",
       "      <td>NaN</td>\n",
       "      <td>NaN</td>\n",
       "      <td>NaN</td>\n",
       "      <td>NaN</td>\n",
       "      <td>NaN</td>\n",
       "      <td>NaN</td>\n",
       "      <td>NaN</td>\n",
       "      <td>NaN</td>\n",
       "      <td>...</td>\n",
       "      <td>NaN</td>\n",
       "      <td>NaN</td>\n",
       "      <td>NaN</td>\n",
       "      <td>NaN</td>\n",
       "      <td>NaN</td>\n",
       "      <td>NaN</td>\n",
       "      <td>NaN</td>\n",
       "      <td>NaN</td>\n",
       "      <td>NaN</td>\n",
       "      <td>NaN</td>\n",
       "    </tr>\n",
       "    <tr>\n",
       "      <th>307508</th>\n",
       "      <td>456253.0</td>\n",
       "      <td>0.0</td>\n",
       "      <td>Cash loans</td>\n",
       "      <td>F</td>\n",
       "      <td>N</td>\n",
       "      <td>Y</td>\n",
       "      <td>0.0</td>\n",
       "      <td>153000.0</td>\n",
       "      <td>677664.0</td>\n",
       "      <td>29979.0</td>\n",
       "      <td>...</td>\n",
       "      <td>41.0</td>\n",
       "      <td>21.701370</td>\n",
       "      <td>Managers</td>\n",
       "      <td>1.0</td>\n",
       "      <td>3.0</td>\n",
       "      <td>School</td>\n",
       "      <td>0.535722</td>\n",
       "      <td>0.218859</td>\n",
       "      <td>40-50</td>\n",
       "      <td>G2</td>\n",
       "    </tr>\n",
       "    <tr>\n",
       "      <th>307509</th>\n",
       "      <td>456254.0</td>\n",
       "      <td>1.0</td>\n",
       "      <td>Cash loans</td>\n",
       "      <td>F</td>\n",
       "      <td>N</td>\n",
       "      <td>Y</td>\n",
       "      <td>0.0</td>\n",
       "      <td>171000.0</td>\n",
       "      <td>370107.0</td>\n",
       "      <td>20205.0</td>\n",
       "      <td>...</td>\n",
       "      <td>32.0</td>\n",
       "      <td>13.112329</td>\n",
       "      <td>Laborers</td>\n",
       "      <td>2.0</td>\n",
       "      <td>2.0</td>\n",
       "      <td>Business Entity Type 1</td>\n",
       "      <td>0.514163</td>\n",
       "      <td>0.661024</td>\n",
       "      <td>30-40</td>\n",
       "      <td>G2</td>\n",
       "    </tr>\n",
       "    <tr>\n",
       "      <th>307510</th>\n",
       "      <td>456255.0</td>\n",
       "      <td>0.0</td>\n",
       "      <td>Cash loans</td>\n",
       "      <td>F</td>\n",
       "      <td>N</td>\n",
       "      <td>N</td>\n",
       "      <td>0.0</td>\n",
       "      <td>157500.0</td>\n",
       "      <td>675000.0</td>\n",
       "      <td>49117.5</td>\n",
       "      <td>...</td>\n",
       "      <td>46.0</td>\n",
       "      <td>3.457534</td>\n",
       "      <td>Laborers</td>\n",
       "      <td>2.0</td>\n",
       "      <td>1.0</td>\n",
       "      <td>Business Entity Type 3</td>\n",
       "      <td>0.708569</td>\n",
       "      <td>0.113922</td>\n",
       "      <td>40-50</td>\n",
       "      <td>G1</td>\n",
       "    </tr>\n",
       "  </tbody>\n",
       "</table>\n",
       "<p>307506 rows × 26 columns</p>\n",
       "</div>"
      ],
      "text/plain": [
       "        SK_ID_CURR  TARGET NAME_CONTRACT_TYPE CODE_GENDER FLAG_OWN_CAR  \\\n",
       "0         100002.0     1.0         Cash loans           M            N   \n",
       "1         100003.0     0.0         Cash loans           F            N   \n",
       "2         100004.0     0.0    Revolving loans           M            Y   \n",
       "3         100006.0     0.0         Cash loans           F            N   \n",
       "4         100007.0     0.0         Cash loans           M            N   \n",
       "...            ...     ...                ...         ...          ...   \n",
       "307506    456251.0     0.0         Cash loans           M            N   \n",
       "307507         NaN     NaN                NaN         NaN          NaN   \n",
       "307508    456253.0     0.0         Cash loans           F            N   \n",
       "307509    456254.0     1.0         Cash loans           F            N   \n",
       "307510    456255.0     0.0         Cash loans           F            N   \n",
       "\n",
       "       FLAG_OWN_REALTY  CNT_CHILDREN  AMT_INCOME_TOTAL  AMT_CREDIT  \\\n",
       "0                    Y           0.0          202500.0    406597.5   \n",
       "1                    N           0.0          270000.0   1293502.5   \n",
       "2                    Y           0.0           67500.0    135000.0   \n",
       "3                    Y           0.0          135000.0    312682.5   \n",
       "4                    Y           0.0          121500.0    513000.0   \n",
       "...                ...           ...               ...         ...   \n",
       "307506               N           0.0          157500.0    254700.0   \n",
       "307507             NaN           NaN               NaN         NaN   \n",
       "307508               Y           0.0          153000.0    677664.0   \n",
       "307509               Y           0.0          171000.0    370107.0   \n",
       "307510               N           0.0          157500.0    675000.0   \n",
       "\n",
       "        AMT_ANNUITY  ...   AGE YEARS_EMPLOYED OCCUPATION_TYPE CNT_FAM_MEMBERS  \\\n",
       "0           24700.5  ...  25.0       1.745205        Laborers             1.0   \n",
       "1           35698.5  ...  45.0       3.254795      Core staff             2.0   \n",
       "2            6750.0  ...  52.0       0.616438        Laborers             1.0   \n",
       "3           29686.5  ...  52.0       8.326027        Laborers             2.0   \n",
       "4           21865.5  ...  54.0       8.323288      Core staff             1.0   \n",
       "...             ...  ...   ...            ...             ...             ...   \n",
       "307506      27558.0  ...  25.0       0.646575     Sales staff             1.0   \n",
       "307507          NaN  ...   NaN            NaN             NaN             NaN   \n",
       "307508      29979.0  ...  41.0      21.701370        Managers             1.0   \n",
       "307509      20205.0  ...  32.0      13.112329        Laborers             2.0   \n",
       "307510      49117.5  ...  46.0       3.457534        Laborers             2.0   \n",
       "\n",
       "       REGION_RATING_CLIENT_W_CITY       ORGANIZATION_TYPE  EXT_SOURCE_2  \\\n",
       "0                              2.0  Business Entity Type 3      0.262949   \n",
       "1                              1.0                  School      0.622246   \n",
       "2                              2.0              Government      0.555912   \n",
       "3                              2.0  Business Entity Type 3      0.650442   \n",
       "4                              2.0                Religion      0.322738   \n",
       "...                            ...                     ...           ...   \n",
       "307506                         1.0                Services      0.681632   \n",
       "307507                         NaN                     NaN           NaN   \n",
       "307508                         3.0                  School      0.535722   \n",
       "307509                         2.0  Business Entity Type 1      0.514163   \n",
       "307510                         1.0  Business Entity Type 3      0.708569   \n",
       "\n",
       "        EXT_SOURCE_3 AGE_GROUP  EMPLOYED_YEAR_GROUP  \n",
       "0           0.139376     20-30                   G1  \n",
       "1           0.535276     40-50                   G1  \n",
       "2           0.729567     50-60                   G1  \n",
       "3           0.535276     50-60                   G1  \n",
       "4           0.535276     50-60                   G1  \n",
       "...              ...       ...                  ...  \n",
       "307506      0.535276     20-30                   G1  \n",
       "307507           NaN       NaN                  NaN  \n",
       "307508      0.218859     40-50                   G2  \n",
       "307509      0.661024     30-40                   G2  \n",
       "307510      0.113922     40-50                   G1  \n",
       "\n",
       "[307506 rows x 26 columns]"
      ]
     },
     "execution_count": 85,
     "metadata": {},
     "output_type": "execute_result"
    }
   ],
   "source": [
    "ap_data"
   ]
  },
  {
   "cell_type": "code",
   "execution_count": 86,
   "id": "ad0f07a4",
   "metadata": {},
   "outputs": [],
   "source": [
    "ap_data=ap_data[~(ap_data.isna().all(axis=1)==True)]"
   ]
  },
  {
   "cell_type": "code",
   "execution_count": 87,
   "id": "56ba4b6a",
   "metadata": {},
   "outputs": [
    {
     "data": {
      "text/plain": [
       "0"
      ]
     },
     "execution_count": 87,
     "metadata": {},
     "output_type": "execute_result"
    }
   ],
   "source": [
    "ap_data.isna().all(axis=1).sum()"
   ]
  },
  {
   "cell_type": "code",
   "execution_count": 88,
   "id": "c64aa7bd",
   "metadata": {},
   "outputs": [
    {
     "data": {
      "text/html": [
       "<div>\n",
       "<style scoped>\n",
       "    .dataframe tbody tr th:only-of-type {\n",
       "        vertical-align: middle;\n",
       "    }\n",
       "\n",
       "    .dataframe tbody tr th {\n",
       "        vertical-align: top;\n",
       "    }\n",
       "\n",
       "    .dataframe thead th {\n",
       "        text-align: right;\n",
       "    }\n",
       "</style>\n",
       "<table border=\"1\" class=\"dataframe\">\n",
       "  <thead>\n",
       "    <tr style=\"text-align: right;\">\n",
       "      <th></th>\n",
       "      <th>SK_ID_CURR</th>\n",
       "      <th>TARGET</th>\n",
       "      <th>NAME_CONTRACT_TYPE</th>\n",
       "      <th>CODE_GENDER</th>\n",
       "      <th>FLAG_OWN_CAR</th>\n",
       "      <th>FLAG_OWN_REALTY</th>\n",
       "      <th>CNT_CHILDREN</th>\n",
       "      <th>AMT_INCOME_TOTAL</th>\n",
       "      <th>AMT_CREDIT</th>\n",
       "      <th>AMT_ANNUITY</th>\n",
       "      <th>...</th>\n",
       "      <th>AGE</th>\n",
       "      <th>YEARS_EMPLOYED</th>\n",
       "      <th>OCCUPATION_TYPE</th>\n",
       "      <th>CNT_FAM_MEMBERS</th>\n",
       "      <th>REGION_RATING_CLIENT_W_CITY</th>\n",
       "      <th>ORGANIZATION_TYPE</th>\n",
       "      <th>EXT_SOURCE_2</th>\n",
       "      <th>EXT_SOURCE_3</th>\n",
       "      <th>AGE_GROUP</th>\n",
       "      <th>EMPLOYED_YEAR_GROUP</th>\n",
       "    </tr>\n",
       "  </thead>\n",
       "  <tbody>\n",
       "    <tr>\n",
       "      <th>0</th>\n",
       "      <td>100002.0</td>\n",
       "      <td>1.0</td>\n",
       "      <td>Cash loans</td>\n",
       "      <td>M</td>\n",
       "      <td>N</td>\n",
       "      <td>Y</td>\n",
       "      <td>0.0</td>\n",
       "      <td>202500.0</td>\n",
       "      <td>406597.5</td>\n",
       "      <td>24700.5</td>\n",
       "      <td>...</td>\n",
       "      <td>25.0</td>\n",
       "      <td>1.745205</td>\n",
       "      <td>Laborers</td>\n",
       "      <td>1.0</td>\n",
       "      <td>2.0</td>\n",
       "      <td>Business Entity Type 3</td>\n",
       "      <td>0.262949</td>\n",
       "      <td>0.139376</td>\n",
       "      <td>20-30</td>\n",
       "      <td>G1</td>\n",
       "    </tr>\n",
       "    <tr>\n",
       "      <th>1</th>\n",
       "      <td>100003.0</td>\n",
       "      <td>0.0</td>\n",
       "      <td>Cash loans</td>\n",
       "      <td>F</td>\n",
       "      <td>N</td>\n",
       "      <td>N</td>\n",
       "      <td>0.0</td>\n",
       "      <td>270000.0</td>\n",
       "      <td>1293502.5</td>\n",
       "      <td>35698.5</td>\n",
       "      <td>...</td>\n",
       "      <td>45.0</td>\n",
       "      <td>3.254795</td>\n",
       "      <td>Core staff</td>\n",
       "      <td>2.0</td>\n",
       "      <td>1.0</td>\n",
       "      <td>School</td>\n",
       "      <td>0.622246</td>\n",
       "      <td>0.535276</td>\n",
       "      <td>40-50</td>\n",
       "      <td>G1</td>\n",
       "    </tr>\n",
       "    <tr>\n",
       "      <th>2</th>\n",
       "      <td>100004.0</td>\n",
       "      <td>0.0</td>\n",
       "      <td>Revolving loans</td>\n",
       "      <td>M</td>\n",
       "      <td>Y</td>\n",
       "      <td>Y</td>\n",
       "      <td>0.0</td>\n",
       "      <td>67500.0</td>\n",
       "      <td>135000.0</td>\n",
       "      <td>6750.0</td>\n",
       "      <td>...</td>\n",
       "      <td>52.0</td>\n",
       "      <td>0.616438</td>\n",
       "      <td>Laborers</td>\n",
       "      <td>1.0</td>\n",
       "      <td>2.0</td>\n",
       "      <td>Government</td>\n",
       "      <td>0.555912</td>\n",
       "      <td>0.729567</td>\n",
       "      <td>50-60</td>\n",
       "      <td>G1</td>\n",
       "    </tr>\n",
       "    <tr>\n",
       "      <th>3</th>\n",
       "      <td>100006.0</td>\n",
       "      <td>0.0</td>\n",
       "      <td>Cash loans</td>\n",
       "      <td>F</td>\n",
       "      <td>N</td>\n",
       "      <td>Y</td>\n",
       "      <td>0.0</td>\n",
       "      <td>135000.0</td>\n",
       "      <td>312682.5</td>\n",
       "      <td>29686.5</td>\n",
       "      <td>...</td>\n",
       "      <td>52.0</td>\n",
       "      <td>8.326027</td>\n",
       "      <td>Laborers</td>\n",
       "      <td>2.0</td>\n",
       "      <td>2.0</td>\n",
       "      <td>Business Entity Type 3</td>\n",
       "      <td>0.650442</td>\n",
       "      <td>0.535276</td>\n",
       "      <td>50-60</td>\n",
       "      <td>G1</td>\n",
       "    </tr>\n",
       "    <tr>\n",
       "      <th>4</th>\n",
       "      <td>100007.0</td>\n",
       "      <td>0.0</td>\n",
       "      <td>Cash loans</td>\n",
       "      <td>M</td>\n",
       "      <td>N</td>\n",
       "      <td>Y</td>\n",
       "      <td>0.0</td>\n",
       "      <td>121500.0</td>\n",
       "      <td>513000.0</td>\n",
       "      <td>21865.5</td>\n",
       "      <td>...</td>\n",
       "      <td>54.0</td>\n",
       "      <td>8.323288</td>\n",
       "      <td>Core staff</td>\n",
       "      <td>1.0</td>\n",
       "      <td>2.0</td>\n",
       "      <td>Religion</td>\n",
       "      <td>0.322738</td>\n",
       "      <td>0.535276</td>\n",
       "      <td>50-60</td>\n",
       "      <td>G1</td>\n",
       "    </tr>\n",
       "    <tr>\n",
       "      <th>...</th>\n",
       "      <td>...</td>\n",
       "      <td>...</td>\n",
       "      <td>...</td>\n",
       "      <td>...</td>\n",
       "      <td>...</td>\n",
       "      <td>...</td>\n",
       "      <td>...</td>\n",
       "      <td>...</td>\n",
       "      <td>...</td>\n",
       "      <td>...</td>\n",
       "      <td>...</td>\n",
       "      <td>...</td>\n",
       "      <td>...</td>\n",
       "      <td>...</td>\n",
       "      <td>...</td>\n",
       "      <td>...</td>\n",
       "      <td>...</td>\n",
       "      <td>...</td>\n",
       "      <td>...</td>\n",
       "      <td>...</td>\n",
       "      <td>...</td>\n",
       "    </tr>\n",
       "    <tr>\n",
       "      <th>307504</th>\n",
       "      <td>456248.0</td>\n",
       "      <td>0.0</td>\n",
       "      <td>Cash loans</td>\n",
       "      <td>F</td>\n",
       "      <td>N</td>\n",
       "      <td>Y</td>\n",
       "      <td>0.0</td>\n",
       "      <td>153000.0</td>\n",
       "      <td>331920.0</td>\n",
       "      <td>16096.5</td>\n",
       "      <td>...</td>\n",
       "      <td>45.0</td>\n",
       "      <td>19.884932</td>\n",
       "      <td>Sales staff</td>\n",
       "      <td>1.0</td>\n",
       "      <td>2.0</td>\n",
       "      <td>Self-employed</td>\n",
       "      <td>0.530725</td>\n",
       "      <td>0.535276</td>\n",
       "      <td>40-50</td>\n",
       "      <td>G2</td>\n",
       "    </tr>\n",
       "    <tr>\n",
       "      <th>307506</th>\n",
       "      <td>456251.0</td>\n",
       "      <td>0.0</td>\n",
       "      <td>Cash loans</td>\n",
       "      <td>M</td>\n",
       "      <td>N</td>\n",
       "      <td>N</td>\n",
       "      <td>0.0</td>\n",
       "      <td>157500.0</td>\n",
       "      <td>254700.0</td>\n",
       "      <td>27558.0</td>\n",
       "      <td>...</td>\n",
       "      <td>25.0</td>\n",
       "      <td>0.646575</td>\n",
       "      <td>Sales staff</td>\n",
       "      <td>1.0</td>\n",
       "      <td>1.0</td>\n",
       "      <td>Services</td>\n",
       "      <td>0.681632</td>\n",
       "      <td>0.535276</td>\n",
       "      <td>20-30</td>\n",
       "      <td>G1</td>\n",
       "    </tr>\n",
       "    <tr>\n",
       "      <th>307508</th>\n",
       "      <td>456253.0</td>\n",
       "      <td>0.0</td>\n",
       "      <td>Cash loans</td>\n",
       "      <td>F</td>\n",
       "      <td>N</td>\n",
       "      <td>Y</td>\n",
       "      <td>0.0</td>\n",
       "      <td>153000.0</td>\n",
       "      <td>677664.0</td>\n",
       "      <td>29979.0</td>\n",
       "      <td>...</td>\n",
       "      <td>41.0</td>\n",
       "      <td>21.701370</td>\n",
       "      <td>Managers</td>\n",
       "      <td>1.0</td>\n",
       "      <td>3.0</td>\n",
       "      <td>School</td>\n",
       "      <td>0.535722</td>\n",
       "      <td>0.218859</td>\n",
       "      <td>40-50</td>\n",
       "      <td>G2</td>\n",
       "    </tr>\n",
       "    <tr>\n",
       "      <th>307509</th>\n",
       "      <td>456254.0</td>\n",
       "      <td>1.0</td>\n",
       "      <td>Cash loans</td>\n",
       "      <td>F</td>\n",
       "      <td>N</td>\n",
       "      <td>Y</td>\n",
       "      <td>0.0</td>\n",
       "      <td>171000.0</td>\n",
       "      <td>370107.0</td>\n",
       "      <td>20205.0</td>\n",
       "      <td>...</td>\n",
       "      <td>32.0</td>\n",
       "      <td>13.112329</td>\n",
       "      <td>Laborers</td>\n",
       "      <td>2.0</td>\n",
       "      <td>2.0</td>\n",
       "      <td>Business Entity Type 1</td>\n",
       "      <td>0.514163</td>\n",
       "      <td>0.661024</td>\n",
       "      <td>30-40</td>\n",
       "      <td>G2</td>\n",
       "    </tr>\n",
       "    <tr>\n",
       "      <th>307510</th>\n",
       "      <td>456255.0</td>\n",
       "      <td>0.0</td>\n",
       "      <td>Cash loans</td>\n",
       "      <td>F</td>\n",
       "      <td>N</td>\n",
       "      <td>N</td>\n",
       "      <td>0.0</td>\n",
       "      <td>157500.0</td>\n",
       "      <td>675000.0</td>\n",
       "      <td>49117.5</td>\n",
       "      <td>...</td>\n",
       "      <td>46.0</td>\n",
       "      <td>3.457534</td>\n",
       "      <td>Laborers</td>\n",
       "      <td>2.0</td>\n",
       "      <td>1.0</td>\n",
       "      <td>Business Entity Type 3</td>\n",
       "      <td>0.708569</td>\n",
       "      <td>0.113922</td>\n",
       "      <td>40-50</td>\n",
       "      <td>G1</td>\n",
       "    </tr>\n",
       "  </tbody>\n",
       "</table>\n",
       "<p>252132 rows × 26 columns</p>\n",
       "</div>"
      ],
      "text/plain": [
       "        SK_ID_CURR  TARGET NAME_CONTRACT_TYPE CODE_GENDER FLAG_OWN_CAR  \\\n",
       "0         100002.0     1.0         Cash loans           M            N   \n",
       "1         100003.0     0.0         Cash loans           F            N   \n",
       "2         100004.0     0.0    Revolving loans           M            Y   \n",
       "3         100006.0     0.0         Cash loans           F            N   \n",
       "4         100007.0     0.0         Cash loans           M            N   \n",
       "...            ...     ...                ...         ...          ...   \n",
       "307504    456248.0     0.0         Cash loans           F            N   \n",
       "307506    456251.0     0.0         Cash loans           M            N   \n",
       "307508    456253.0     0.0         Cash loans           F            N   \n",
       "307509    456254.0     1.0         Cash loans           F            N   \n",
       "307510    456255.0     0.0         Cash loans           F            N   \n",
       "\n",
       "       FLAG_OWN_REALTY  CNT_CHILDREN  AMT_INCOME_TOTAL  AMT_CREDIT  \\\n",
       "0                    Y           0.0          202500.0    406597.5   \n",
       "1                    N           0.0          270000.0   1293502.5   \n",
       "2                    Y           0.0           67500.0    135000.0   \n",
       "3                    Y           0.0          135000.0    312682.5   \n",
       "4                    Y           0.0          121500.0    513000.0   \n",
       "...                ...           ...               ...         ...   \n",
       "307504               Y           0.0          153000.0    331920.0   \n",
       "307506               N           0.0          157500.0    254700.0   \n",
       "307508               Y           0.0          153000.0    677664.0   \n",
       "307509               Y           0.0          171000.0    370107.0   \n",
       "307510               N           0.0          157500.0    675000.0   \n",
       "\n",
       "        AMT_ANNUITY  ...   AGE YEARS_EMPLOYED OCCUPATION_TYPE CNT_FAM_MEMBERS  \\\n",
       "0           24700.5  ...  25.0       1.745205        Laborers             1.0   \n",
       "1           35698.5  ...  45.0       3.254795      Core staff             2.0   \n",
       "2            6750.0  ...  52.0       0.616438        Laborers             1.0   \n",
       "3           29686.5  ...  52.0       8.326027        Laborers             2.0   \n",
       "4           21865.5  ...  54.0       8.323288      Core staff             1.0   \n",
       "...             ...  ...   ...            ...             ...             ...   \n",
       "307504      16096.5  ...  45.0      19.884932     Sales staff             1.0   \n",
       "307506      27558.0  ...  25.0       0.646575     Sales staff             1.0   \n",
       "307508      29979.0  ...  41.0      21.701370        Managers             1.0   \n",
       "307509      20205.0  ...  32.0      13.112329        Laborers             2.0   \n",
       "307510      49117.5  ...  46.0       3.457534        Laborers             2.0   \n",
       "\n",
       "       REGION_RATING_CLIENT_W_CITY       ORGANIZATION_TYPE  EXT_SOURCE_2  \\\n",
       "0                              2.0  Business Entity Type 3      0.262949   \n",
       "1                              1.0                  School      0.622246   \n",
       "2                              2.0              Government      0.555912   \n",
       "3                              2.0  Business Entity Type 3      0.650442   \n",
       "4                              2.0                Religion      0.322738   \n",
       "...                            ...                     ...           ...   \n",
       "307504                         2.0           Self-employed      0.530725   \n",
       "307506                         1.0                Services      0.681632   \n",
       "307508                         3.0                  School      0.535722   \n",
       "307509                         2.0  Business Entity Type 1      0.514163   \n",
       "307510                         1.0  Business Entity Type 3      0.708569   \n",
       "\n",
       "        EXT_SOURCE_3 AGE_GROUP  EMPLOYED_YEAR_GROUP  \n",
       "0           0.139376     20-30                   G1  \n",
       "1           0.535276     40-50                   G1  \n",
       "2           0.729567     50-60                   G1  \n",
       "3           0.535276     50-60                   G1  \n",
       "4           0.535276     50-60                   G1  \n",
       "...              ...       ...                  ...  \n",
       "307504      0.535276     40-50                   G2  \n",
       "307506      0.535276     20-30                   G1  \n",
       "307508      0.218859     40-50                   G2  \n",
       "307509      0.661024     30-40                   G2  \n",
       "307510      0.113922     40-50                   G1  \n",
       "\n",
       "[252132 rows x 26 columns]"
      ]
     },
     "execution_count": 88,
     "metadata": {},
     "output_type": "execute_result"
    }
   ],
   "source": [
    "ap_data"
   ]
  },
  {
   "cell_type": "markdown",
   "id": "ce0a706d",
   "metadata": {},
   "source": [
    "## Analysis"
   ]
  },
  {
   "cell_type": "code",
   "execution_count": 89,
   "id": "48577f2b",
   "metadata": {},
   "outputs": [
    {
     "data": {
      "text/plain": [
       "8.659353037297922"
      ]
     },
     "execution_count": 89,
     "metadata": {},
     "output_type": "execute_result"
    }
   ],
   "source": [
    "#imbalance percentage according to target\n",
    "(ap_data[ap_data['TARGET']==1].shape[0])/(ap_data.shape[0]) * 100"
   ]
  },
  {
   "cell_type": "code",
   "execution_count": 90,
   "id": "ad43da8b",
   "metadata": {},
   "outputs": [
    {
     "data": {
      "text/plain": [
       "91.34064696270208"
      ]
     },
     "execution_count": 90,
     "metadata": {},
     "output_type": "execute_result"
    }
   ],
   "source": [
    "(ap_data[ap_data['TARGET']==0].shape[0])/(ap_data.shape[0]) * 100"
   ]
  },
  {
   "cell_type": "markdown",
   "id": "28758365",
   "metadata": {},
   "source": [
    "- the percentage with target=1 is 8.65\n",
    "- the percentage with target=0 is 91.\n",
    "- the percentage of customers with payment difficulties is 8.65\n",
    "- the percentage of customers with no payment difficulties is 91.34"
   ]
  },
  {
   "cell_type": "code",
   "execution_count": 91,
   "id": "d710db66",
   "metadata": {},
   "outputs": [],
   "source": [
    "#dividing the dataset into two categories\n",
    "ap_data_1=ap_data[ap_data['TARGET']==1]\n",
    "ap_data_0=ap_data[ap_data['TARGET']==0]"
   ]
  },
  {
   "cell_type": "code",
   "execution_count": 92,
   "id": "d75006c4",
   "metadata": {},
   "outputs": [
    {
     "data": {
      "text/plain": [
       "(21833, 26)"
      ]
     },
     "execution_count": 92,
     "metadata": {},
     "output_type": "execute_result"
    }
   ],
   "source": [
    "ap_data_1.shape"
   ]
  },
  {
   "cell_type": "code",
   "execution_count": 93,
   "id": "08274a1c",
   "metadata": {},
   "outputs": [
    {
     "data": {
      "text/plain": [
       "(230299, 26)"
      ]
     },
     "execution_count": 93,
     "metadata": {},
     "output_type": "execute_result"
    }
   ],
   "source": [
    "ap_data_0.shape"
   ]
  },
  {
   "cell_type": "markdown",
   "id": "a5d71033",
   "metadata": {},
   "source": [
    "### UNIVARIATE ANALYSIS"
   ]
  },
  {
   "cell_type": "code",
   "execution_count": 94,
   "id": "73ae0901",
   "metadata": {},
   "outputs": [
    {
     "name": "stdout",
     "output_type": "stream",
     "text": [
      "<class 'pandas.core.frame.DataFrame'>\n",
      "Int64Index: 252132 entries, 0 to 307510\n",
      "Data columns (total 26 columns):\n",
      " #   Column                       Non-Null Count   Dtype   \n",
      "---  ------                       --------------   -----   \n",
      " 0   SK_ID_CURR                   252132 non-null  float64 \n",
      " 1   TARGET                       252132 non-null  float64 \n",
      " 2   NAME_CONTRACT_TYPE           252132 non-null  object  \n",
      " 3   CODE_GENDER                  252132 non-null  object  \n",
      " 4   FLAG_OWN_CAR                 252132 non-null  object  \n",
      " 5   FLAG_OWN_REALTY              252132 non-null  object  \n",
      " 6   CNT_CHILDREN                 252132 non-null  float64 \n",
      " 7   AMT_INCOME_TOTAL             252132 non-null  float64 \n",
      " 8   AMT_CREDIT                   252132 non-null  float64 \n",
      " 9   AMT_ANNUITY                  252120 non-null  float64 \n",
      " 10  AMT_GOODS_PRICE              251878 non-null  float64 \n",
      " 11  NAME_INCOME_TYPE             252132 non-null  object  \n",
      " 12  NAME_EDUCATION_TYPE          252132 non-null  object  \n",
      " 13  NAME_FAMILY_STATUS           252132 non-null  object  \n",
      " 14  NAME_HOUSING_TYPE            252132 non-null  object  \n",
      " 15  REGION_POPULATION_RELATIVE   252132 non-null  float64 \n",
      " 16  AGE                          252132 non-null  float64 \n",
      " 17  YEARS_EMPLOYED               252132 non-null  float64 \n",
      " 18  OCCUPATION_TYPE              211114 non-null  object  \n",
      " 19  CNT_FAM_MEMBERS              252132 non-null  float64 \n",
      " 20  REGION_RATING_CLIENT_W_CITY  252132 non-null  float64 \n",
      " 21  ORGANIZATION_TYPE            252132 non-null  object  \n",
      " 22  EXT_SOURCE_2                 251628 non-null  float64 \n",
      " 23  EXT_SOURCE_3                 252132 non-null  float64 \n",
      " 24  AGE_GROUP                    252131 non-null  category\n",
      " 25  EMPLOYED_YEAR_GROUP          252132 non-null  category\n",
      "dtypes: category(2), float64(14), object(10)\n",
      "memory usage: 48.6+ MB\n"
     ]
    }
   ],
   "source": [
    "ap_data.info()"
   ]
  },
  {
   "cell_type": "code",
   "execution_count": 95,
   "id": "ead11638",
   "metadata": {},
   "outputs": [
    {
     "data": {
      "text/plain": [
       "<AxesSubplot:title={'center':'NON-DEFAULTERS'}, xlabel='CODE_GENDER', ylabel='count'>"
      ]
     },
     "execution_count": 95,
     "metadata": {},
     "output_type": "execute_result"
    },
    {
     "data": {
      "image/png": "[encoded data removed]",
      "text/plain": [
       "<Figure size 864x432 with 2 Axes>"
      ]
     },
     "metadata": {
      "needs_background": "light"
     },
     "output_type": "display_data"
    }
   ],
   "source": [
    "#how is gender distribution for defaulters and non-defaulters\n",
    "plt.figure(figsize=(12,6))\n",
    "plt.subplot(1,2,1)\n",
    "plt.title(\"DEFAULTERS\")\n",
    "sns.countplot(x=\"CODE_GENDER\",data=ap_data_1)\n",
    "plt.subplot(1,2,2)\n",
    "plt.title(\"NON-DEFAULTERS\")\n",
    "sns.countplot(x=\"CODE_GENDER\",data=ap_data_0)\n"
   ]
  },
  {
   "cell_type": "markdown",
   "id": "a9a21c82",
   "metadata": {},
   "source": [
    "- in the defaulters \n",
    "    - females are higher than males\n",
    "- for the non-defaulters\n",
    "    - females are higher than males "
   ]
  },
  {
   "cell_type": "code",
   "execution_count": 96,
   "id": "660bb306",
   "metadata": {
    "scrolled": true
   },
   "outputs": [
    {
     "name": "stderr",
     "output_type": "stream",
     "text": [
      "C:\\Users\\ASUS\\anaconda3\\lib\\site-packages\\seaborn\\distributions.py:2619: FutureWarning: `distplot` is a deprecated function and will be removed in a future version. Please adapt your code to use either `displot` (a figure-level function with similar flexibility) or `kdeplot` (an axes-level function for kernel density plots).\n",
      "  warnings.warn(msg, FutureWarning)\n",
      "C:\\Users\\ASUS\\anaconda3\\lib\\site-packages\\seaborn\\distributions.py:2619: FutureWarning: `distplot` is a deprecated function and will be removed in a future version. Please adapt your code to use either `displot` (a figure-level function with similar flexibility) or `kdeplot` (an axes-level function for kernel density plots).\n",
      "  warnings.warn(msg, FutureWarning)\n"
     ]
    },
    {
     "data": {
      "image/png": "[encoded data removed]",
      "text/plain": [
       "<Figure size 432x288 with 1 Axes>"
      ]
     },
     "metadata": {
      "needs_background": "light"
     },
     "output_type": "display_data"
    }
   ],
   "source": [
    "# how many defaulters  and non-defaulters divided among annual incomes\n",
    "\n",
    "sns.distplot(ap_data_1[\"AMT_INCOME_TOTAL\"],label=\"defaulters\",hist=False)\n",
    "\n",
    "sns.distplot(ap_data_0['AMT_INCOME_TOTAL'],label=\"non-defaulters\",hist=False)\n",
    "plt.legend()\n",
    "plt.show()"
   ]
  },
  {
   "cell_type": "markdown",
   "id": "1f31c80b",
   "metadata": {},
   "source": [
    "- for defaulters\n",
    "    - income is lower \n",
    "- for non-defaulters\n",
    "   - income is higher as compared to non defaulters"
   ]
  },
  {
   "cell_type": "code",
   "execution_count": 97,
   "id": "73ef997d",
   "metadata": {
    "scrolled": true
   },
   "outputs": [
    {
     "data": {
      "text/plain": [
       "<AxesSubplot:xlabel='EMPLOYED_YEAR_GROUP'>"
      ]
     },
     "execution_count": 97,
     "metadata": {},
     "output_type": "execute_result"
    },
    {
     "data": {
      "image/png": "[encoded data removed]",
      "text/plain": [
       "<Figure size 576x288 with 2 Axes>"
      ]
     },
     "metadata": {
      "needs_background": "light"
     },
     "output_type": "display_data"
    }
   ],
   "source": [
    "plt.figure(figsize=(8,4))\n",
    "plt.subplot(1,2,1)\n",
    "ap_data['EMPLOYED_YEAR_GROUP'].value_counts(normalize=True).plot.bar()\n",
    "plt.subplot(1,2,2)\n",
    "ap_data.groupby(['EMPLOYED_YEAR_GROUP'])['TARGET'].mean().plot.bar()"
   ]
  },
  {
   "cell_type": "markdown",
   "id": "b373f0cd",
   "metadata": {},
   "source": []
  },
  {
   "cell_type": "code",
   "execution_count": null,
   "id": "27a6d8fb",
   "metadata": {},
   "outputs": [],
   "source": []
  },
  {
   "cell_type": "markdown",
   "id": "3151e4ec",
   "metadata": {},
   "source": [
    "- for defaulters\n",
    "    - there is no perceptible difference as compared to non defaulters\n",
    "    - we see that no of applications for loans are more in the section of employed year group of G1 and least in case of G4.\n",
    "    - also we see that G1 group employed year group has a higher rate of defaulting on a loan as compared to G4 employed year group.\n"
   ]
  },
  {
   "cell_type": "code",
   "execution_count": 101,
   "id": "e618e08e",
   "metadata": {},
   "outputs": [
    {
     "data": {
      "text/plain": [
       "<AxesSubplot:title={'center':'NON-DEFAULTERS'}, xlabel='NAME_EDUCATION_TYPE', ylabel='count'>"
      ]
     },
     "execution_count": 101,
     "metadata": {},
     "output_type": "execute_result"
    },
    {
     "data": {
      "image/png": "[encoded data removed]",
      "text/plain": [
       "<Figure size 1152x576 with 2 Axes>"
      ]
     },
     "metadata": {
      "needs_background": "light"
     },
     "output_type": "display_data"
    }
   ],
   "source": [
    "plt.figure(figsize=(16,8))\n",
    "plt.subplot(1,2,1)\n",
    "plt.title('DEFAULTERS')\n",
    "sns.countplot(x=\"NAME_EDUCATION_TYPE\",data=ap_data_1)\n",
    "plt.subplot(1,2,2)\n",
    "plt.title('NON-DEFAULTERS')\n",
    "sns.countplot(data=ap_data_0,x=\"NAME_EDUCATION_TYPE\")"
   ]
  },
  {
   "cell_type": "code",
   "execution_count": 102,
   "id": "50738345",
   "metadata": {},
   "outputs": [
    {
     "data": {
      "text/plain": [
       "NAME_EDUCATION_TYPE\n",
       "Academic degree      0.021739\n",
       "Higher education     0.055035\n",
       "Incomplete higher    0.086912\n",
       "Lower secondary      0.137795\n",
       "Secondary            0.098093\n",
       "Name: TARGET, dtype: float64"
      ]
     },
     "execution_count": 102,
     "metadata": {},
     "output_type": "execute_result"
    }
   ],
   "source": [
    "ap_data.groupby(['NAME_EDUCATION_TYPE'])['TARGET'].mean()"
   ]
  },
  {
   "cell_type": "markdown",
   "id": "d1eff1f6",
   "metadata": {},
   "source": [
    "- defaulters\n",
    "    - most defaulters have secndary education and higher education\n",
    "- non-defaulters\n",
    "    - most non-defaulters have secondary education and higher education"
   ]
  },
  {
   "cell_type": "code",
   "execution_count": 103,
   "id": "62d5f824",
   "metadata": {},
   "outputs": [
    {
     "data": {
      "text/plain": [
       "<AxesSubplot:title={'center':'NON-DEFAULTERS'}, xlabel='NAME_FAMILY_STATUS', ylabel='count'>"
      ]
     },
     "execution_count": 103,
     "metadata": {},
     "output_type": "execute_result"
    },
    {
     "data": {
      "image/png": "[encoded data removed]",
      "text/plain": [
       "<Figure size 1152x576 with 2 Axes>"
      ]
     },
     "metadata": {
      "needs_background": "light"
     },
     "output_type": "display_data"
    }
   ],
   "source": [
    "plt.figure(figsize=(16,8))\n",
    "plt.subplot(1,2,1)\n",
    "plt.title(\"DEFAULTERS\")\n",
    "sns.countplot(x=\"NAME_FAMILY_STATUS\",data=ap_data_1)\n",
    "plt.subplot(1,2,2)\n",
    "plt.title('NON-DEFAULTERS')\n",
    "sns.countplot(data=ap_data_0,x=\"NAME_FAMILY_STATUS\")\n"
   ]
  },
  {
   "cell_type": "markdown",
   "id": "a4af28f0",
   "metadata": {},
   "source": [
    "- defaulters\n",
    "    - most are married \n",
    "- non-defaulters\n",
    "    - most are married "
   ]
  },
  {
   "cell_type": "code",
   "execution_count": 161,
   "id": "664f873d",
   "metadata": {
    "scrolled": true
   },
   "outputs": [
    {
     "data": {
      "text/plain": [
       "<AxesSubplot:xlabel='count', ylabel='OCCUPATION_TYPE'>"
      ]
     },
     "execution_count": 161,
     "metadata": {},
     "output_type": "execute_result"
    },
    {
     "data": {
      "image/png": "[encoded data removed]",
      "text/plain": [
       "<Figure size 432x288 with 1 Axes>"
      ]
     },
     "metadata": {
      "needs_background": "light"
     },
     "output_type": "display_data"
    }
   ],
   "source": [
    "\n",
    "\n",
    "sns.countplot(y=\"OCCUPATION_TYPE\",hue=\"TARGET\",data=ap_data_1)\n"
   ]
  },
  {
   "cell_type": "markdown",
   "id": "e953cb67",
   "metadata": {},
   "source": [
    "- most defaulters are labourers.\n",
    "- IT staff and HR staff, waiters, secretaries are least defaulters."
   ]
  },
  {
   "cell_type": "code",
   "execution_count": 105,
   "id": "10c3e3b4",
   "metadata": {},
   "outputs": [
    {
     "data": {
      "text/plain": [
       "<AxesSubplot:xlabel='count', ylabel='OCCUPATION_TYPE'>"
      ]
     },
     "execution_count": 105,
     "metadata": {},
     "output_type": "execute_result"
    },
    {
     "data": {
      "image/png": "[encoded data removed]",
      "text/plain": [
       "<Figure size 432x288 with 1 Axes>"
      ]
     },
     "metadata": {
      "needs_background": "light"
     },
     "output_type": "display_data"
    }
   ],
   "source": [
    "\n",
    "sns.countplot(data=ap_data_0,hue=\"CODE_GENDER\",y=\"OCCUPATION_TYPE\")"
   ]
  },
  {
   "cell_type": "code",
   "execution_count": 106,
   "id": "9a349748",
   "metadata": {},
   "outputs": [
    {
     "data": {
      "text/plain": [
       "<AxesSubplot:xlabel='AMT_CREDIT'>"
      ]
     },
     "execution_count": 106,
     "metadata": {},
     "output_type": "execute_result"
    },
    {
     "data": {
      "image/png": "[encoded data removed]",
      "text/plain": [
       "<Figure size 432x288 with 1 Axes>"
      ]
     },
     "metadata": {
      "needs_background": "light"
     },
     "output_type": "display_data"
    }
   ],
   "source": [
    "sns.boxplot(data=ap_data_1,x=\"AMT_CREDIT\")\n"
   ]
  },
  {
   "cell_type": "markdown",
   "id": "6b5acfd8",
   "metadata": {},
   "source": [
    "- the median credit value taken by a defaulter is around 5 Lakhs.\n",
    "- clients taking loans of amount higher than 15 lakhs are very less likely to default."
   ]
  },
  {
   "cell_type": "code",
   "execution_count": 107,
   "id": "e79c4bf8",
   "metadata": {},
   "outputs": [
    {
     "data": {
      "text/plain": [
       "<AxesSubplot:xlabel='AMT_CREDIT'>"
      ]
     },
     "execution_count": 107,
     "metadata": {},
     "output_type": "execute_result"
    },
    {
     "data": {
      "image/png": "[encoded data removed]",
      "text/plain": [
       "<Figure size 432x288 with 1 Axes>"
      ]
     },
     "metadata": {
      "needs_background": "light"
     },
     "output_type": "display_data"
    }
   ],
   "source": [
    "sns.boxplot(data=ap_data_0,x=\"AMT_CREDIT\")"
   ]
  },
  {
   "cell_type": "code",
   "execution_count": 108,
   "id": "cba5d012",
   "metadata": {},
   "outputs": [
    {
     "data": {
      "text/plain": [
       "<AxesSubplot:title={'center':'NON-DEFAULTERS'}, xlabel='count', ylabel='ORGANIZATION_TYPE'>"
      ]
     },
     "execution_count": 108,
     "metadata": {},
     "output_type": "execute_result"
    },
    {
     "data": {
      "image/png": "[encoded data removed]",
      "text/plain": [
       "<Figure size 1728x864 with 2 Axes>"
      ]
     },
     "metadata": {
      "needs_background": "light"
     },
     "output_type": "display_data"
    }
   ],
   "source": [
    "plt.figure(figsize=(24,12))\n",
    "plt.subplot(1,2,1)\n",
    "plt.title(\"DEFAULTERS\")\n",
    "sns.countplot(y=\"ORGANIZATION_TYPE\",data=ap_data_1,orient=\"h\")\n",
    "plt.subplot(1,2,2)\n",
    "plt.title('NON-DEFAULTERS')\n",
    "sns.countplot(data=ap_data_0,y=\"ORGANIZATION_TYPE\",orient=\"h\")"
   ]
  },
  {
   "cell_type": "code",
   "execution_count": 123,
   "id": "751dbf4b",
   "metadata": {
    "scrolled": true
   },
   "outputs": [
    {
     "data": {
      "text/plain": [
       "<AxesSubplot:xlabel='TARGET', ylabel='EXT_SOURCE_2'>"
      ]
     },
     "execution_count": 123,
     "metadata": {},
     "output_type": "execute_result"
    },
    {
     "data": {
      "image/png": "[encoded data removed]",
      "text/plain": [
       "<Figure size 432x288 with 1 Axes>"
      ]
     },
     "metadata": {
      "needs_background": "light"
     },
     "output_type": "display_data"
    }
   ],
   "source": [
    "sns.boxplot(data=ap_data,x=\"TARGET\",y=\"EXT_SOURCE_2\")"
   ]
  },
  {
   "cell_type": "markdown",
   "id": "923a579e",
   "metadata": {},
   "source": [
    "- people who have a median score of around 0.4  are most likely to default.\n",
    "- non defaulters have a median score of around 0.6"
   ]
  },
  {
   "cell_type": "markdown",
   "id": "4a06ccc8",
   "metadata": {},
   "source": [
    "### MULTIVARIATE ANALYSIS"
   ]
  },
  {
   "cell_type": "code",
   "execution_count": 109,
   "id": "70899166",
   "metadata": {},
   "outputs": [
    {
     "data": {
      "text/plain": [
       "<AxesSubplot:xlabel='TARGET', ylabel='AMT_CREDIT'>"
      ]
     },
     "execution_count": 109,
     "metadata": {},
     "output_type": "execute_result"
    },
    {
     "data": {
      "image/png": "[encoded data removed]",
      "text/plain": [
       "<Figure size 432x288 with 1 Axes>"
      ]
     },
     "metadata": {
      "needs_background": "light"
     },
     "output_type": "display_data"
    }
   ],
   "source": [
    "\n",
    "sns.boxplot(data=ap_data,y=\"AMT_CREDIT\",x=\"TARGET\")"
   ]
  },
  {
   "cell_type": "markdown",
   "id": "040fd961",
   "metadata": {},
   "source": [
    "- for defaulters and non defaulters both the median  values of  AMT_CREDIT are proparble |same..\n",
    "- "
   ]
  },
  {
   "cell_type": "code",
   "execution_count": 110,
   "id": "9ecdc17b",
   "metadata": {},
   "outputs": [
    {
     "data": {
      "text/plain": [
       "<AxesSubplot:xlabel='TARGET'>"
      ]
     },
     "execution_count": 110,
     "metadata": {},
     "output_type": "execute_result"
    },
    {
     "data": {
      "image/png": "[encoded data removed]",
      "text/plain": [
       "<Figure size 432x288 with 1 Axes>"
      ]
     },
     "metadata": {
      "needs_background": "light"
     },
     "output_type": "display_data"
    }
   ],
   "source": [
    "ap_data.groupby('TARGET')['AMT_INCOME_TOTAL'].aggregate(['mean','median']).plot.bar()"
   ]
  },
  {
   "cell_type": "markdown",
   "id": "d1f2bf9b",
   "metadata": {},
   "source": [
    "- we observe that for both the defaulters and non-defaulters the mean income and the median incomes are compparable to each other.\n"
   ]
  },
  {
   "cell_type": "markdown",
   "id": "1b0e59c0",
   "metadata": {},
   "source": [
    "### MULTIVARIATE ANALYSIS"
   ]
  },
  {
   "cell_type": "code",
   "execution_count": null,
   "id": "45da86c3",
   "metadata": {},
   "outputs": [],
   "source": []
  },
  {
   "cell_type": "code",
   "execution_count": 98,
   "id": "af699e95",
   "metadata": {},
   "outputs": [
    {
     "data": {
      "text/plain": [
       "<AxesSubplot:xlabel='CNT_CHILDREN'>"
      ]
     },
     "execution_count": 98,
     "metadata": {},
     "output_type": "execute_result"
    },
    {
     "data": {
      "image/png": "[encoded data removed]",
      "text/plain": [
       "<Figure size 432x288 with 1 Axes>"
      ]
     },
     "metadata": {
      "needs_background": "light"
     },
     "output_type": "display_data"
    }
   ],
   "source": [
    "ap_data.groupby(['CNT_CHILDREN'])['TARGET'].mean().plot.bar()"
   ]
  },
  {
   "cell_type": "markdown",
   "id": "dfbcf0d2",
   "metadata": {},
   "source": [
    "- we see that most defaulters have large number of children that is people have children more than 5 are more likely to default on their payments than others."
   ]
  },
  {
   "cell_type": "code",
   "execution_count": 99,
   "id": "3960a92d",
   "metadata": {},
   "outputs": [
    {
     "data": {
      "text/plain": [
       "<AxesSubplot:xlabel='CNT_FAM_MEMBERS'>"
      ]
     },
     "execution_count": 99,
     "metadata": {},
     "output_type": "execute_result"
    },
    {
     "data": {
      "image/png": "[encoded data removed]",
      "text/plain": [
       "<Figure size 432x288 with 1 Axes>"
      ]
     },
     "metadata": {
      "needs_background": "light"
     },
     "output_type": "display_data"
    }
   ],
   "source": [
    "ap_data.groupby(['CNT_FAM_MEMBERS'])['TARGET'].mean().plot.bar()"
   ]
  },
  {
   "cell_type": "markdown",
   "id": "8f004b45",
   "metadata": {},
   "source": [
    "- similarly in this case we see that customers who have family member 8 or greater than 8 are more likely to default on their payments than others"
   ]
  },
  {
   "cell_type": "code",
   "execution_count": 100,
   "id": "7680146a",
   "metadata": {},
   "outputs": [
    {
     "data": {
      "text/plain": [
       "<AxesSubplot:xlabel='NAME_HOUSING_TYPE'>"
      ]
     },
     "execution_count": 100,
     "metadata": {},
     "output_type": "execute_result"
    },
    {
     "data": {
      "image/png": "[encoded data removed]",
      "text/plain": [
       "<Figure size 432x288 with 1 Axes>"
      ]
     },
     "metadata": {
      "needs_background": "light"
     },
     "output_type": "display_data"
    }
   ],
   "source": [
    "ap_data.groupby(['NAME_HOUSING_TYPE'])['TARGET'].mean().plot.bar()"
   ]
  },
  {
   "cell_type": "markdown",
   "id": "9261021a",
   "metadata": {},
   "source": [
    "- we see that people who live in rented dapartment and with parents are most likely to default on their payments,\n",
    "- we also see that people who live in their office apartment are least likely to default on their loan payments."
   ]
  },
  {
   "cell_type": "code",
   "execution_count": null,
   "id": "aa65fa2b",
   "metadata": {},
   "outputs": [],
   "source": []
  },
  {
   "cell_type": "code",
   "execution_count": null,
   "id": "e2e12d71",
   "metadata": {},
   "outputs": [],
   "source": []
  },
  {
   "cell_type": "code",
   "execution_count": 124,
   "id": "a9dd802d",
   "metadata": {},
   "outputs": [
    {
     "data": {
      "text/plain": [
       "0.08659353037297923"
      ]
     },
     "execution_count": 124,
     "metadata": {},
     "output_type": "execute_result"
    }
   ],
   "source": [
    "ap_data['TARGET'].mean()"
   ]
  },
  {
   "cell_type": "code",
   "execution_count": 130,
   "id": "1c3ec2bb",
   "metadata": {},
   "outputs": [],
   "source": [
    "res1=pd.pivot_table(data=ap_data,index=\"NAME_FAMILY_STATUS\",columns=\"NAME_EDUCATION_TYPE\",values=\"TARGET\")"
   ]
  },
  {
   "cell_type": "code",
   "execution_count": 131,
   "id": "8e42f209",
   "metadata": {},
   "outputs": [
    {
     "data": {
      "text/plain": [
       "<AxesSubplot:xlabel='NAME_EDUCATION_TYPE', ylabel='NAME_FAMILY_STATUS'>"
      ]
     },
     "execution_count": 131,
     "metadata": {},
     "output_type": "execute_result"
    },
    {
     "data": {
      "image/png": "[encoded data removed]",
      "text/plain": [
       "<Figure size 432x288 with 2 Axes>"
      ]
     },
     "metadata": {
      "needs_background": "light"
     },
     "output_type": "display_data"
    }
   ],
   "source": [
    "sns.heatmap(res1,annot=True,cmap=\"RdYlGn\",center=0.086)"
   ]
  },
  {
   "cell_type": "markdown",
   "id": "0758e658",
   "metadata": {},
   "source": [
    "- what we see here is that people with lower secondary education and having family_status as separated,single,civil marriage and married , along with people with secondary education who have family_status as single,and civil marriage are most likely to default on their loans\n",
    "- people who have academic degree, higher)education or incomplete higher education are least likely to default on their loans."
   ]
  },
  {
   "cell_type": "code",
   "execution_count": null,
   "id": "c45f64f7",
   "metadata": {},
   "outputs": [],
   "source": []
  },
  {
   "cell_type": "code",
   "execution_count": 121,
   "id": "909064be",
   "metadata": {},
   "outputs": [],
   "source": [
    "res=pd.pivot_table(data=ap_data,index=\"NAME_EDUCATION_TYPE\",columns=\"NAME_HOUSING_TYPE\",values=\"TARGET\")"
   ]
  },
  {
   "cell_type": "code",
   "execution_count": 127,
   "id": "80ec4ce4",
   "metadata": {
    "scrolled": true
   },
   "outputs": [
    {
     "data": {
      "text/plain": [
       "<AxesSubplot:xlabel='NAME_HOUSING_TYPE', ylabel='NAME_EDUCATION_TYPE'>"
      ]
     },
     "execution_count": 127,
     "metadata": {},
     "output_type": "execute_result"
    },
    {
     "data": {
      "image/png": "[encoded data removed]",
      "text/plain": [
       "<Figure size 432x288 with 2 Axes>"
      ]
     },
     "metadata": {
      "needs_background": "light"
     },
     "output_type": "display_data"
    }
   ],
   "source": [
    "sns.heatmap(res,annot=True,cmap=\"RdYlGn\",center=0.086)"
   ]
  },
  {
   "cell_type": "markdown",
   "id": "c51eda0c",
   "metadata": {},
   "source": [
    "- people with lower secondary eduaction are most likely to default on their loans except if they live in a co-op apartment.\n",
    "- people with seconday education who live in rented apartments are also likely to default on their loans.\n",
    "- peopele with incomplete higher education along with those who live in rented apartments and with parents are most likely to default."
   ]
  },
  {
   "cell_type": "code",
   "execution_count": 134,
   "id": "8c03ef4f",
   "metadata": {},
   "outputs": [],
   "source": [
    "res3=pd.pivot_table(data=ap_data,index=\"NAME_FAMILY_STATUS\",columns=\"CNT_FAM_MEMBERS\",values='TARGET')"
   ]
  },
  {
   "cell_type": "code",
   "execution_count": 139,
   "id": "880fc63c",
   "metadata": {},
   "outputs": [
    {
     "data": {
      "text/plain": [
       "<AxesSubplot:xlabel='CNT_FAM_MEMBERS', ylabel='NAME_FAMILY_STATUS'>"
      ]
     },
     "execution_count": 139,
     "metadata": {},
     "output_type": "execute_result"
    },
    {
     "data": {
      "image/png": "[encoded data removed]",
      "text/plain": [
       "<Figure size 864x720 with 2 Axes>"
      ]
     },
     "metadata": {
      "needs_background": "light"
     },
     "output_type": "display_data"
    }
   ],
   "source": [
    "plt.figure(figsize=(12,10))\n",
    "sns.heatmap(res3,annot=True,cmap=\"RdYlGn\",center=0.086)"
   ]
  },
  {
   "cell_type": "markdown",
   "id": "5e781aa2",
   "metadata": {},
   "source": [
    "- most likely to default\n",
    "    - single with fam member 10\n",
    "    - married with fam members > 10\n",
    "    - civil married with fam member >8\n",
    "- least likely to default\n",
    "    - people with 5-6 family members who are widow,single,separated.\n",
    "    - married people are also less likely to default\n",
    "    \n",
    " "
   ]
  },
  {
   "cell_type": "code",
   "execution_count": 141,
   "id": "169b48d1",
   "metadata": {},
   "outputs": [],
   "source": [
    "res4=pd.pivot_table(data=ap_data,index=\"EMPLOYED_YEAR_GROUP\",columns=\"REGION_RATING_CLIENT_W_CITY\",values=\"TARGET\")"
   ]
  },
  {
   "cell_type": "code",
   "execution_count": 142,
   "id": "70b23f04",
   "metadata": {},
   "outputs": [
    {
     "data": {
      "text/plain": [
       "<AxesSubplot:xlabel='REGION_RATING_CLIENT_W_CITY', ylabel='EMPLOYED_YEAR_GROUP'>"
      ]
     },
     "execution_count": 142,
     "metadata": {},
     "output_type": "execute_result"
    },
    {
     "data": {
      "image/png": "[encoded data removed]",
      "text/plain": [
       "<Figure size 432x288 with 2 Axes>"
      ]
     },
     "metadata": {
      "needs_background": "light"
     },
     "output_type": "display_data"
    }
   ],
   "source": [
    "sns.heatmap(res4,annot=True,cmap=\"RdYlGn\",center=0.086)"
   ]
  },
  {
   "cell_type": "markdown",
   "id": "a647150c",
   "metadata": {},
   "source": [
    "- people who belong to 3.0 rating city along with  who belong to group of G1 are most likely t default as compare to others."
   ]
  },
  {
   "cell_type": "code",
   "execution_count": 145,
   "id": "b8fb14dc",
   "metadata": {},
   "outputs": [],
   "source": [
    "res5=pd.pivot_table(data=ap_data,index=\"AGE_GROUP\",columns=\"NAME_FAMILY_STATUS\",values=\"TARGET\")"
   ]
  },
  {
   "cell_type": "code",
   "execution_count": 146,
   "id": "ae493184",
   "metadata": {},
   "outputs": [
    {
     "data": {
      "text/plain": [
       "<AxesSubplot:xlabel='NAME_FAMILY_STATUS', ylabel='AGE_GROUP'>"
      ]
     },
     "execution_count": 146,
     "metadata": {},
     "output_type": "execute_result"
    },
    {
     "data": {
      "image/png": "[encoded data removed]",
      "text/plain": [
       "<Figure size 432x288 with 2 Axes>"
      ]
     },
     "metadata": {
      "needs_background": "light"
     },
     "output_type": "display_data"
    }
   ],
   "source": [
    "sns.heatmap(res5,annot=True,cmap=\"RdYlGn\",center=0.086)"
   ]
  },
  {
   "cell_type": "markdown",
   "id": "34de848d",
   "metadata": {},
   "source": [
    "- people in the age group of 20-30 are most likely to default.\n",
    "- people in age group of 30-40 who are civil married and single are most likely to default\n",
    "- people in  the age group of 60-70 are least likely to default on payments."
   ]
  },
  {
   "cell_type": "code",
   "execution_count": 153,
   "id": "6ac82c82",
   "metadata": {},
   "outputs": [],
   "source": [
    "res6=pd.pivot_table(data=ap_data,index=\"NAME_HOUSING_TYPE\",columns=\"NAME_FAMILY_STATUS\",values=\"TARGET\")"
   ]
  },
  {
   "cell_type": "code",
   "execution_count": 151,
   "id": "d1cd8788",
   "metadata": {},
   "outputs": [
    {
     "data": {
      "text/plain": [
       "<AxesSubplot:xlabel='NAME_FAMILY_STATUS', ylabel='AGE_GROUP'>"
      ]
     },
     "execution_count": 151,
     "metadata": {},
     "output_type": "execute_result"
    },
    {
     "data": {
      "image/png": "[encoded data removed]",
      "text/plain": [
       "<Figure size 432x288 with 2 Axes>"
      ]
     },
     "metadata": {
      "needs_background": "light"
     },
     "output_type": "display_data"
    }
   ],
   "source": [
    "sns.heatmap(res5,annot=True,cmap=\"RdYlGn\",center=0.086)"
   ]
  },
  {
   "cell_type": "markdown",
   "id": "bc87c765",
   "metadata": {},
   "source": [
    "- people in the age group of 20-30 are most likely to default whatever the marriage status may be expect if they ar ewidow.\n",
    "- people in the age group of 60-70 are least likely to default."
   ]
  },
  {
   "cell_type": "code",
   "execution_count": 157,
   "id": "c9846bc0",
   "metadata": {},
   "outputs": [],
   "source": [
    "res7=pd.pivot_table(data=ap_data,index=\"NAME_INCOME_TYPE\",columns=\"NAME_EDUCATION_TYPE\",values=\"TARGET\")"
   ]
  },
  {
   "cell_type": "code",
   "execution_count": 158,
   "id": "23d2e6bd",
   "metadata": {},
   "outputs": [
    {
     "data": {
      "text/plain": [
       "<AxesSubplot:xlabel='NAME_EDUCATION_TYPE', ylabel='NAME_INCOME_TYPE'>"
      ]
     },
     "execution_count": 158,
     "metadata": {},
     "output_type": "execute_result"
    },
    {
     "data": {
      "image/png": "[encoded data removed]",
      "text/plain": [
       "<Figure size 432x288 with 2 Axes>"
      ]
     },
     "metadata": {
      "needs_background": "light"
     },
     "output_type": "display_data"
    }
   ],
   "source": [
    "sns.heatmap(res7,annot=True,cmap=\"RdYlGn\",center=0.086)"
   ]
  },
  {
   "cell_type": "markdown",
   "id": "be8c68a1",
   "metadata": {},
   "source": [
    "- people with maternity leave with secondary level education are most likely to default.\n",
    "- students are least likely to default. and persns with higher education are least likely to default."
   ]
  },
  {
   "cell_type": "code",
   "execution_count": null,
   "id": "5a817de5",
   "metadata": {},
   "outputs": [],
   "source": []
  }
 ],
 "metadata": {
  "kernelspec": {
   "display_name": "Python 3 (ipykernel)",
   "language": "python",
   "name": "python3"
  },
  "language_info": {
   "codemirror_mode": {
    "name": "ipython",
    "version": 3
   },
   "file_extension": ".py",
   "mimetype": "text/x-python",
   "name": "python",
   "nbconvert_exporter": "python",
   "pygments_lexer": "ipython3",
   "version": "3.9.7"
  }
 },
 "nbformat": 4,
 "nbformat_minor": 5
}
